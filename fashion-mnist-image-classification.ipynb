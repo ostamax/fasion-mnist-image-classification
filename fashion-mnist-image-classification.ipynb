{
  "nbformat": 4,
  "nbformat_minor": 0,
  "metadata": {
    "colab": {
      "provenance": [],
      "collapsed_sections": []
    },
    "kernelspec": {
      "name": "python3",
      "display_name": "Python 3"
    },
    "accelerator": "GPU",
    "widgets": {
      "application/vnd.jupyter.widget-state+json": {
        "1019c5386e7440a8b1d3afa8cf4f34df": {
          "model_module": "@jupyter-widgets/controls",
          "model_name": "HBoxModel",
          "model_module_version": "1.5.0",
          "state": {
            "_dom_classes": [],
            "_model_module": "@jupyter-widgets/controls",
            "_model_module_version": "1.5.0",
            "_model_name": "HBoxModel",
            "_view_count": null,
            "_view_module": "@jupyter-widgets/controls",
            "_view_module_version": "1.5.0",
            "_view_name": "HBoxView",
            "box_style": "",
            "children": [
              "IPY_MODEL_3e38561301934cc0a1db401e31960f03",
              "IPY_MODEL_101cdf5254ea49faaa8c92882c7eff37",
              "IPY_MODEL_6619492ce2764120a5205ada59405a1c"
            ],
            "layout": "IPY_MODEL_2fc774b6653b402e8d60e7c874407dd2"
          }
        },
        "3e38561301934cc0a1db401e31960f03": {
          "model_module": "@jupyter-widgets/controls",
          "model_name": "HTMLModel",
          "model_module_version": "1.5.0",
          "state": {
            "_dom_classes": [],
            "_model_module": "@jupyter-widgets/controls",
            "_model_module_version": "1.5.0",
            "_model_name": "HTMLModel",
            "_view_count": null,
            "_view_module": "@jupyter-widgets/controls",
            "_view_module_version": "1.5.0",
            "_view_name": "HTMLView",
            "description": "",
            "description_tooltip": null,
            "layout": "IPY_MODEL_c65fb71c5b374a128ade6aaed264b377",
            "placeholder": "​",
            "style": "IPY_MODEL_e97c013a09cb42cab9e0329b4338a7e1",
            "value": "Dl Completed...: 100%"
          }
        },
        "101cdf5254ea49faaa8c92882c7eff37": {
          "model_module": "@jupyter-widgets/controls",
          "model_name": "FloatProgressModel",
          "model_module_version": "1.5.0",
          "state": {
            "_dom_classes": [],
            "_model_module": "@jupyter-widgets/controls",
            "_model_module_version": "1.5.0",
            "_model_name": "FloatProgressModel",
            "_view_count": null,
            "_view_module": "@jupyter-widgets/controls",
            "_view_module_version": "1.5.0",
            "_view_name": "ProgressView",
            "bar_style": "success",
            "description": "",
            "description_tooltip": null,
            "layout": "IPY_MODEL_c32480ed36cb46118c49e8b1c2416653",
            "max": 1,
            "min": 0,
            "orientation": "horizontal",
            "style": "IPY_MODEL_f65dbf57dd8c4dc99e5c75c04698b0a8",
            "value": 1
          }
        },
        "6619492ce2764120a5205ada59405a1c": {
          "model_module": "@jupyter-widgets/controls",
          "model_name": "HTMLModel",
          "model_module_version": "1.5.0",
          "state": {
            "_dom_classes": [],
            "_model_module": "@jupyter-widgets/controls",
            "_model_module_version": "1.5.0",
            "_model_name": "HTMLModel",
            "_view_count": null,
            "_view_module": "@jupyter-widgets/controls",
            "_view_module_version": "1.5.0",
            "_view_name": "HTMLView",
            "description": "",
            "description_tooltip": null,
            "layout": "IPY_MODEL_cfd284a66181480195531694b583d4d4",
            "placeholder": "​",
            "style": "IPY_MODEL_5db2f5dbfb4443c7a60d1dfec95f1a83",
            "value": " 4/4 [00:04&lt;00:00,  1.26s/ url]"
          }
        },
        "2fc774b6653b402e8d60e7c874407dd2": {
          "model_module": "@jupyter-widgets/base",
          "model_name": "LayoutModel",
          "model_module_version": "1.2.0",
          "state": {
            "_model_module": "@jupyter-widgets/base",
            "_model_module_version": "1.2.0",
            "_model_name": "LayoutModel",
            "_view_count": null,
            "_view_module": "@jupyter-widgets/base",
            "_view_module_version": "1.2.0",
            "_view_name": "LayoutView",
            "align_content": null,
            "align_items": null,
            "align_self": null,
            "border": null,
            "bottom": null,
            "display": null,
            "flex": null,
            "flex_flow": null,
            "grid_area": null,
            "grid_auto_columns": null,
            "grid_auto_flow": null,
            "grid_auto_rows": null,
            "grid_column": null,
            "grid_gap": null,
            "grid_row": null,
            "grid_template_areas": null,
            "grid_template_columns": null,
            "grid_template_rows": null,
            "height": null,
            "justify_content": null,
            "justify_items": null,
            "left": null,
            "margin": null,
            "max_height": null,
            "max_width": null,
            "min_height": null,
            "min_width": null,
            "object_fit": null,
            "object_position": null,
            "order": null,
            "overflow": null,
            "overflow_x": null,
            "overflow_y": null,
            "padding": null,
            "right": null,
            "top": null,
            "visibility": null,
            "width": null
          }
        },
        "c65fb71c5b374a128ade6aaed264b377": {
          "model_module": "@jupyter-widgets/base",
          "model_name": "LayoutModel",
          "model_module_version": "1.2.0",
          "state": {
            "_model_module": "@jupyter-widgets/base",
            "_model_module_version": "1.2.0",
            "_model_name": "LayoutModel",
            "_view_count": null,
            "_view_module": "@jupyter-widgets/base",
            "_view_module_version": "1.2.0",
            "_view_name": "LayoutView",
            "align_content": null,
            "align_items": null,
            "align_self": null,
            "border": null,
            "bottom": null,
            "display": null,
            "flex": null,
            "flex_flow": null,
            "grid_area": null,
            "grid_auto_columns": null,
            "grid_auto_flow": null,
            "grid_auto_rows": null,
            "grid_column": null,
            "grid_gap": null,
            "grid_row": null,
            "grid_template_areas": null,
            "grid_template_columns": null,
            "grid_template_rows": null,
            "height": null,
            "justify_content": null,
            "justify_items": null,
            "left": null,
            "margin": null,
            "max_height": null,
            "max_width": null,
            "min_height": null,
            "min_width": null,
            "object_fit": null,
            "object_position": null,
            "order": null,
            "overflow": null,
            "overflow_x": null,
            "overflow_y": null,
            "padding": null,
            "right": null,
            "top": null,
            "visibility": null,
            "width": null
          }
        },
        "e97c013a09cb42cab9e0329b4338a7e1": {
          "model_module": "@jupyter-widgets/controls",
          "model_name": "DescriptionStyleModel",
          "model_module_version": "1.5.0",
          "state": {
            "_model_module": "@jupyter-widgets/controls",
            "_model_module_version": "1.5.0",
            "_model_name": "DescriptionStyleModel",
            "_view_count": null,
            "_view_module": "@jupyter-widgets/base",
            "_view_module_version": "1.2.0",
            "_view_name": "StyleView",
            "description_width": ""
          }
        },
        "c32480ed36cb46118c49e8b1c2416653": {
          "model_module": "@jupyter-widgets/base",
          "model_name": "LayoutModel",
          "model_module_version": "1.2.0",
          "state": {
            "_model_module": "@jupyter-widgets/base",
            "_model_module_version": "1.2.0",
            "_model_name": "LayoutModel",
            "_view_count": null,
            "_view_module": "@jupyter-widgets/base",
            "_view_module_version": "1.2.0",
            "_view_name": "LayoutView",
            "align_content": null,
            "align_items": null,
            "align_self": null,
            "border": null,
            "bottom": null,
            "display": null,
            "flex": null,
            "flex_flow": null,
            "grid_area": null,
            "grid_auto_columns": null,
            "grid_auto_flow": null,
            "grid_auto_rows": null,
            "grid_column": null,
            "grid_gap": null,
            "grid_row": null,
            "grid_template_areas": null,
            "grid_template_columns": null,
            "grid_template_rows": null,
            "height": null,
            "justify_content": null,
            "justify_items": null,
            "left": null,
            "margin": null,
            "max_height": null,
            "max_width": null,
            "min_height": null,
            "min_width": null,
            "object_fit": null,
            "object_position": null,
            "order": null,
            "overflow": null,
            "overflow_x": null,
            "overflow_y": null,
            "padding": null,
            "right": null,
            "top": null,
            "visibility": null,
            "width": "20px"
          }
        },
        "f65dbf57dd8c4dc99e5c75c04698b0a8": {
          "model_module": "@jupyter-widgets/controls",
          "model_name": "ProgressStyleModel",
          "model_module_version": "1.5.0",
          "state": {
            "_model_module": "@jupyter-widgets/controls",
            "_model_module_version": "1.5.0",
            "_model_name": "ProgressStyleModel",
            "_view_count": null,
            "_view_module": "@jupyter-widgets/base",
            "_view_module_version": "1.2.0",
            "_view_name": "StyleView",
            "bar_color": null,
            "description_width": ""
          }
        },
        "cfd284a66181480195531694b583d4d4": {
          "model_module": "@jupyter-widgets/base",
          "model_name": "LayoutModel",
          "model_module_version": "1.2.0",
          "state": {
            "_model_module": "@jupyter-widgets/base",
            "_model_module_version": "1.2.0",
            "_model_name": "LayoutModel",
            "_view_count": null,
            "_view_module": "@jupyter-widgets/base",
            "_view_module_version": "1.2.0",
            "_view_name": "LayoutView",
            "align_content": null,
            "align_items": null,
            "align_self": null,
            "border": null,
            "bottom": null,
            "display": null,
            "flex": null,
            "flex_flow": null,
            "grid_area": null,
            "grid_auto_columns": null,
            "grid_auto_flow": null,
            "grid_auto_rows": null,
            "grid_column": null,
            "grid_gap": null,
            "grid_row": null,
            "grid_template_areas": null,
            "grid_template_columns": null,
            "grid_template_rows": null,
            "height": null,
            "justify_content": null,
            "justify_items": null,
            "left": null,
            "margin": null,
            "max_height": null,
            "max_width": null,
            "min_height": null,
            "min_width": null,
            "object_fit": null,
            "object_position": null,
            "order": null,
            "overflow": null,
            "overflow_x": null,
            "overflow_y": null,
            "padding": null,
            "right": null,
            "top": null,
            "visibility": null,
            "width": null
          }
        },
        "5db2f5dbfb4443c7a60d1dfec95f1a83": {
          "model_module": "@jupyter-widgets/controls",
          "model_name": "DescriptionStyleModel",
          "model_module_version": "1.5.0",
          "state": {
            "_model_module": "@jupyter-widgets/controls",
            "_model_module_version": "1.5.0",
            "_model_name": "DescriptionStyleModel",
            "_view_count": null,
            "_view_module": "@jupyter-widgets/base",
            "_view_module_version": "1.2.0",
            "_view_name": "StyleView",
            "description_width": ""
          }
        },
        "b3eb87f8e0164e47be9a1beb05958428": {
          "model_module": "@jupyter-widgets/controls",
          "model_name": "HBoxModel",
          "model_module_version": "1.5.0",
          "state": {
            "_dom_classes": [],
            "_model_module": "@jupyter-widgets/controls",
            "_model_module_version": "1.5.0",
            "_model_name": "HBoxModel",
            "_view_count": null,
            "_view_module": "@jupyter-widgets/controls",
            "_view_module_version": "1.5.0",
            "_view_name": "HBoxView",
            "box_style": "",
            "children": [
              "IPY_MODEL_23e91690ef8b4b21824b306775b59796",
              "IPY_MODEL_2af5c95ea54148448dd993aabe495799",
              "IPY_MODEL_293d07742fb449129f53c5ee83419141"
            ],
            "layout": "IPY_MODEL_f2a71828295447ed8f269a2e069b81b0"
          }
        },
        "23e91690ef8b4b21824b306775b59796": {
          "model_module": "@jupyter-widgets/controls",
          "model_name": "HTMLModel",
          "model_module_version": "1.5.0",
          "state": {
            "_dom_classes": [],
            "_model_module": "@jupyter-widgets/controls",
            "_model_module_version": "1.5.0",
            "_model_name": "HTMLModel",
            "_view_count": null,
            "_view_module": "@jupyter-widgets/controls",
            "_view_module_version": "1.5.0",
            "_view_name": "HTMLView",
            "description": "",
            "description_tooltip": null,
            "layout": "IPY_MODEL_7999b89b96f3450d8d96ce7893eaccd3",
            "placeholder": "​",
            "style": "IPY_MODEL_b308c01b5c594299b5abd2e7c737f071",
            "value": "Dl Size...: 100%"
          }
        },
        "2af5c95ea54148448dd993aabe495799": {
          "model_module": "@jupyter-widgets/controls",
          "model_name": "FloatProgressModel",
          "model_module_version": "1.5.0",
          "state": {
            "_dom_classes": [],
            "_model_module": "@jupyter-widgets/controls",
            "_model_module_version": "1.5.0",
            "_model_name": "FloatProgressModel",
            "_view_count": null,
            "_view_module": "@jupyter-widgets/controls",
            "_view_module_version": "1.5.0",
            "_view_name": "ProgressView",
            "bar_style": "success",
            "description": "",
            "description_tooltip": null,
            "layout": "IPY_MODEL_8ad33ebe60924d5f80d51e839b09f16d",
            "max": 1,
            "min": 0,
            "orientation": "horizontal",
            "style": "IPY_MODEL_962cb48d557e4db49291555453e926b6",
            "value": 1
          }
        },
        "293d07742fb449129f53c5ee83419141": {
          "model_module": "@jupyter-widgets/controls",
          "model_name": "HTMLModel",
          "model_module_version": "1.5.0",
          "state": {
            "_dom_classes": [],
            "_model_module": "@jupyter-widgets/controls",
            "_model_module_version": "1.5.0",
            "_model_name": "HTMLModel",
            "_view_count": null,
            "_view_module": "@jupyter-widgets/controls",
            "_view_module_version": "1.5.0",
            "_view_name": "HTMLView",
            "description": "",
            "description_tooltip": null,
            "layout": "IPY_MODEL_736e3e474c4a428eae4235fc1bbef0b0",
            "placeholder": "​",
            "style": "IPY_MODEL_2b5e97b2c12f47a2a5a49345b7577add",
            "value": " 29/29 [00:04&lt;00:00, 11.52 MiB/s]"
          }
        },
        "f2a71828295447ed8f269a2e069b81b0": {
          "model_module": "@jupyter-widgets/base",
          "model_name": "LayoutModel",
          "model_module_version": "1.2.0",
          "state": {
            "_model_module": "@jupyter-widgets/base",
            "_model_module_version": "1.2.0",
            "_model_name": "LayoutModel",
            "_view_count": null,
            "_view_module": "@jupyter-widgets/base",
            "_view_module_version": "1.2.0",
            "_view_name": "LayoutView",
            "align_content": null,
            "align_items": null,
            "align_self": null,
            "border": null,
            "bottom": null,
            "display": null,
            "flex": null,
            "flex_flow": null,
            "grid_area": null,
            "grid_auto_columns": null,
            "grid_auto_flow": null,
            "grid_auto_rows": null,
            "grid_column": null,
            "grid_gap": null,
            "grid_row": null,
            "grid_template_areas": null,
            "grid_template_columns": null,
            "grid_template_rows": null,
            "height": null,
            "justify_content": null,
            "justify_items": null,
            "left": null,
            "margin": null,
            "max_height": null,
            "max_width": null,
            "min_height": null,
            "min_width": null,
            "object_fit": null,
            "object_position": null,
            "order": null,
            "overflow": null,
            "overflow_x": null,
            "overflow_y": null,
            "padding": null,
            "right": null,
            "top": null,
            "visibility": null,
            "width": null
          }
        },
        "7999b89b96f3450d8d96ce7893eaccd3": {
          "model_module": "@jupyter-widgets/base",
          "model_name": "LayoutModel",
          "model_module_version": "1.2.0",
          "state": {
            "_model_module": "@jupyter-widgets/base",
            "_model_module_version": "1.2.0",
            "_model_name": "LayoutModel",
            "_view_count": null,
            "_view_module": "@jupyter-widgets/base",
            "_view_module_version": "1.2.0",
            "_view_name": "LayoutView",
            "align_content": null,
            "align_items": null,
            "align_self": null,
            "border": null,
            "bottom": null,
            "display": null,
            "flex": null,
            "flex_flow": null,
            "grid_area": null,
            "grid_auto_columns": null,
            "grid_auto_flow": null,
            "grid_auto_rows": null,
            "grid_column": null,
            "grid_gap": null,
            "grid_row": null,
            "grid_template_areas": null,
            "grid_template_columns": null,
            "grid_template_rows": null,
            "height": null,
            "justify_content": null,
            "justify_items": null,
            "left": null,
            "margin": null,
            "max_height": null,
            "max_width": null,
            "min_height": null,
            "min_width": null,
            "object_fit": null,
            "object_position": null,
            "order": null,
            "overflow": null,
            "overflow_x": null,
            "overflow_y": null,
            "padding": null,
            "right": null,
            "top": null,
            "visibility": null,
            "width": null
          }
        },
        "b308c01b5c594299b5abd2e7c737f071": {
          "model_module": "@jupyter-widgets/controls",
          "model_name": "DescriptionStyleModel",
          "model_module_version": "1.5.0",
          "state": {
            "_model_module": "@jupyter-widgets/controls",
            "_model_module_version": "1.5.0",
            "_model_name": "DescriptionStyleModel",
            "_view_count": null,
            "_view_module": "@jupyter-widgets/base",
            "_view_module_version": "1.2.0",
            "_view_name": "StyleView",
            "description_width": ""
          }
        },
        "8ad33ebe60924d5f80d51e839b09f16d": {
          "model_module": "@jupyter-widgets/base",
          "model_name": "LayoutModel",
          "model_module_version": "1.2.0",
          "state": {
            "_model_module": "@jupyter-widgets/base",
            "_model_module_version": "1.2.0",
            "_model_name": "LayoutModel",
            "_view_count": null,
            "_view_module": "@jupyter-widgets/base",
            "_view_module_version": "1.2.0",
            "_view_name": "LayoutView",
            "align_content": null,
            "align_items": null,
            "align_self": null,
            "border": null,
            "bottom": null,
            "display": null,
            "flex": null,
            "flex_flow": null,
            "grid_area": null,
            "grid_auto_columns": null,
            "grid_auto_flow": null,
            "grid_auto_rows": null,
            "grid_column": null,
            "grid_gap": null,
            "grid_row": null,
            "grid_template_areas": null,
            "grid_template_columns": null,
            "grid_template_rows": null,
            "height": null,
            "justify_content": null,
            "justify_items": null,
            "left": null,
            "margin": null,
            "max_height": null,
            "max_width": null,
            "min_height": null,
            "min_width": null,
            "object_fit": null,
            "object_position": null,
            "order": null,
            "overflow": null,
            "overflow_x": null,
            "overflow_y": null,
            "padding": null,
            "right": null,
            "top": null,
            "visibility": null,
            "width": "20px"
          }
        },
        "962cb48d557e4db49291555453e926b6": {
          "model_module": "@jupyter-widgets/controls",
          "model_name": "ProgressStyleModel",
          "model_module_version": "1.5.0",
          "state": {
            "_model_module": "@jupyter-widgets/controls",
            "_model_module_version": "1.5.0",
            "_model_name": "ProgressStyleModel",
            "_view_count": null,
            "_view_module": "@jupyter-widgets/base",
            "_view_module_version": "1.2.0",
            "_view_name": "StyleView",
            "bar_color": null,
            "description_width": ""
          }
        },
        "736e3e474c4a428eae4235fc1bbef0b0": {
          "model_module": "@jupyter-widgets/base",
          "model_name": "LayoutModel",
          "model_module_version": "1.2.0",
          "state": {
            "_model_module": "@jupyter-widgets/base",
            "_model_module_version": "1.2.0",
            "_model_name": "LayoutModel",
            "_view_count": null,
            "_view_module": "@jupyter-widgets/base",
            "_view_module_version": "1.2.0",
            "_view_name": "LayoutView",
            "align_content": null,
            "align_items": null,
            "align_self": null,
            "border": null,
            "bottom": null,
            "display": null,
            "flex": null,
            "flex_flow": null,
            "grid_area": null,
            "grid_auto_columns": null,
            "grid_auto_flow": null,
            "grid_auto_rows": null,
            "grid_column": null,
            "grid_gap": null,
            "grid_row": null,
            "grid_template_areas": null,
            "grid_template_columns": null,
            "grid_template_rows": null,
            "height": null,
            "justify_content": null,
            "justify_items": null,
            "left": null,
            "margin": null,
            "max_height": null,
            "max_width": null,
            "min_height": null,
            "min_width": null,
            "object_fit": null,
            "object_position": null,
            "order": null,
            "overflow": null,
            "overflow_x": null,
            "overflow_y": null,
            "padding": null,
            "right": null,
            "top": null,
            "visibility": null,
            "width": null
          }
        },
        "2b5e97b2c12f47a2a5a49345b7577add": {
          "model_module": "@jupyter-widgets/controls",
          "model_name": "DescriptionStyleModel",
          "model_module_version": "1.5.0",
          "state": {
            "_model_module": "@jupyter-widgets/controls",
            "_model_module_version": "1.5.0",
            "_model_name": "DescriptionStyleModel",
            "_view_count": null,
            "_view_module": "@jupyter-widgets/base",
            "_view_module_version": "1.2.0",
            "_view_name": "StyleView",
            "description_width": ""
          }
        },
        "9f77579472cb4da5b576aa8a6110fadf": {
          "model_module": "@jupyter-widgets/controls",
          "model_name": "HBoxModel",
          "model_module_version": "1.5.0",
          "state": {
            "_dom_classes": [],
            "_model_module": "@jupyter-widgets/controls",
            "_model_module_version": "1.5.0",
            "_model_name": "HBoxModel",
            "_view_count": null,
            "_view_module": "@jupyter-widgets/controls",
            "_view_module_version": "1.5.0",
            "_view_name": "HBoxView",
            "box_style": "",
            "children": [
              "IPY_MODEL_a07096ce0c8b4dd9be5a41abd2be02ab",
              "IPY_MODEL_49dd1557c7e1440a852c4d92bb0526f4",
              "IPY_MODEL_79629e8809854b2b8ff2a0ff97ed652b"
            ],
            "layout": "IPY_MODEL_c17ff3ffe8b94e2bb6fcecb2dd5ef67d"
          }
        },
        "a07096ce0c8b4dd9be5a41abd2be02ab": {
          "model_module": "@jupyter-widgets/controls",
          "model_name": "HTMLModel",
          "model_module_version": "1.5.0",
          "state": {
            "_dom_classes": [],
            "_model_module": "@jupyter-widgets/controls",
            "_model_module_version": "1.5.0",
            "_model_name": "HTMLModel",
            "_view_count": null,
            "_view_module": "@jupyter-widgets/controls",
            "_view_module_version": "1.5.0",
            "_view_name": "HTMLView",
            "description": "",
            "description_tooltip": null,
            "layout": "IPY_MODEL_d7d40053860546f99465672217a8daf8",
            "placeholder": "​",
            "style": "IPY_MODEL_b4c99be8a29b437daf6376905fc72516",
            "value": "Extraction completed...: 100%"
          }
        },
        "49dd1557c7e1440a852c4d92bb0526f4": {
          "model_module": "@jupyter-widgets/controls",
          "model_name": "FloatProgressModel",
          "model_module_version": "1.5.0",
          "state": {
            "_dom_classes": [],
            "_model_module": "@jupyter-widgets/controls",
            "_model_module_version": "1.5.0",
            "_model_name": "FloatProgressModel",
            "_view_count": null,
            "_view_module": "@jupyter-widgets/controls",
            "_view_module_version": "1.5.0",
            "_view_name": "ProgressView",
            "bar_style": "success",
            "description": "",
            "description_tooltip": null,
            "layout": "IPY_MODEL_3146659de85a4cc596234f4a471433e6",
            "max": 1,
            "min": 0,
            "orientation": "horizontal",
            "style": "IPY_MODEL_986bfec75f744809847d7d40eed051fa",
            "value": 1
          }
        },
        "79629e8809854b2b8ff2a0ff97ed652b": {
          "model_module": "@jupyter-widgets/controls",
          "model_name": "HTMLModel",
          "model_module_version": "1.5.0",
          "state": {
            "_dom_classes": [],
            "_model_module": "@jupyter-widgets/controls",
            "_model_module_version": "1.5.0",
            "_model_name": "HTMLModel",
            "_view_count": null,
            "_view_module": "@jupyter-widgets/controls",
            "_view_module_version": "1.5.0",
            "_view_name": "HTMLView",
            "description": "",
            "description_tooltip": null,
            "layout": "IPY_MODEL_fe3be3cc1a394744988b36f5c2705145",
            "placeholder": "​",
            "style": "IPY_MODEL_8759562952be4447a8f44195b74a2b6b",
            "value": " 4/4 [00:04&lt;00:00,  1.40s/ file]"
          }
        },
        "c17ff3ffe8b94e2bb6fcecb2dd5ef67d": {
          "model_module": "@jupyter-widgets/base",
          "model_name": "LayoutModel",
          "model_module_version": "1.2.0",
          "state": {
            "_model_module": "@jupyter-widgets/base",
            "_model_module_version": "1.2.0",
            "_model_name": "LayoutModel",
            "_view_count": null,
            "_view_module": "@jupyter-widgets/base",
            "_view_module_version": "1.2.0",
            "_view_name": "LayoutView",
            "align_content": null,
            "align_items": null,
            "align_self": null,
            "border": null,
            "bottom": null,
            "display": null,
            "flex": null,
            "flex_flow": null,
            "grid_area": null,
            "grid_auto_columns": null,
            "grid_auto_flow": null,
            "grid_auto_rows": null,
            "grid_column": null,
            "grid_gap": null,
            "grid_row": null,
            "grid_template_areas": null,
            "grid_template_columns": null,
            "grid_template_rows": null,
            "height": null,
            "justify_content": null,
            "justify_items": null,
            "left": null,
            "margin": null,
            "max_height": null,
            "max_width": null,
            "min_height": null,
            "min_width": null,
            "object_fit": null,
            "object_position": null,
            "order": null,
            "overflow": null,
            "overflow_x": null,
            "overflow_y": null,
            "padding": null,
            "right": null,
            "top": null,
            "visibility": null,
            "width": null
          }
        },
        "d7d40053860546f99465672217a8daf8": {
          "model_module": "@jupyter-widgets/base",
          "model_name": "LayoutModel",
          "model_module_version": "1.2.0",
          "state": {
            "_model_module": "@jupyter-widgets/base",
            "_model_module_version": "1.2.0",
            "_model_name": "LayoutModel",
            "_view_count": null,
            "_view_module": "@jupyter-widgets/base",
            "_view_module_version": "1.2.0",
            "_view_name": "LayoutView",
            "align_content": null,
            "align_items": null,
            "align_self": null,
            "border": null,
            "bottom": null,
            "display": null,
            "flex": null,
            "flex_flow": null,
            "grid_area": null,
            "grid_auto_columns": null,
            "grid_auto_flow": null,
            "grid_auto_rows": null,
            "grid_column": null,
            "grid_gap": null,
            "grid_row": null,
            "grid_template_areas": null,
            "grid_template_columns": null,
            "grid_template_rows": null,
            "height": null,
            "justify_content": null,
            "justify_items": null,
            "left": null,
            "margin": null,
            "max_height": null,
            "max_width": null,
            "min_height": null,
            "min_width": null,
            "object_fit": null,
            "object_position": null,
            "order": null,
            "overflow": null,
            "overflow_x": null,
            "overflow_y": null,
            "padding": null,
            "right": null,
            "top": null,
            "visibility": null,
            "width": null
          }
        },
        "b4c99be8a29b437daf6376905fc72516": {
          "model_module": "@jupyter-widgets/controls",
          "model_name": "DescriptionStyleModel",
          "model_module_version": "1.5.0",
          "state": {
            "_model_module": "@jupyter-widgets/controls",
            "_model_module_version": "1.5.0",
            "_model_name": "DescriptionStyleModel",
            "_view_count": null,
            "_view_module": "@jupyter-widgets/base",
            "_view_module_version": "1.2.0",
            "_view_name": "StyleView",
            "description_width": ""
          }
        },
        "3146659de85a4cc596234f4a471433e6": {
          "model_module": "@jupyter-widgets/base",
          "model_name": "LayoutModel",
          "model_module_version": "1.2.0",
          "state": {
            "_model_module": "@jupyter-widgets/base",
            "_model_module_version": "1.2.0",
            "_model_name": "LayoutModel",
            "_view_count": null,
            "_view_module": "@jupyter-widgets/base",
            "_view_module_version": "1.2.0",
            "_view_name": "LayoutView",
            "align_content": null,
            "align_items": null,
            "align_self": null,
            "border": null,
            "bottom": null,
            "display": null,
            "flex": null,
            "flex_flow": null,
            "grid_area": null,
            "grid_auto_columns": null,
            "grid_auto_flow": null,
            "grid_auto_rows": null,
            "grid_column": null,
            "grid_gap": null,
            "grid_row": null,
            "grid_template_areas": null,
            "grid_template_columns": null,
            "grid_template_rows": null,
            "height": null,
            "justify_content": null,
            "justify_items": null,
            "left": null,
            "margin": null,
            "max_height": null,
            "max_width": null,
            "min_height": null,
            "min_width": null,
            "object_fit": null,
            "object_position": null,
            "order": null,
            "overflow": null,
            "overflow_x": null,
            "overflow_y": null,
            "padding": null,
            "right": null,
            "top": null,
            "visibility": null,
            "width": "20px"
          }
        },
        "986bfec75f744809847d7d40eed051fa": {
          "model_module": "@jupyter-widgets/controls",
          "model_name": "ProgressStyleModel",
          "model_module_version": "1.5.0",
          "state": {
            "_model_module": "@jupyter-widgets/controls",
            "_model_module_version": "1.5.0",
            "_model_name": "ProgressStyleModel",
            "_view_count": null,
            "_view_module": "@jupyter-widgets/base",
            "_view_module_version": "1.2.0",
            "_view_name": "StyleView",
            "bar_color": null,
            "description_width": ""
          }
        },
        "fe3be3cc1a394744988b36f5c2705145": {
          "model_module": "@jupyter-widgets/base",
          "model_name": "LayoutModel",
          "model_module_version": "1.2.0",
          "state": {
            "_model_module": "@jupyter-widgets/base",
            "_model_module_version": "1.2.0",
            "_model_name": "LayoutModel",
            "_view_count": null,
            "_view_module": "@jupyter-widgets/base",
            "_view_module_version": "1.2.0",
            "_view_name": "LayoutView",
            "align_content": null,
            "align_items": null,
            "align_self": null,
            "border": null,
            "bottom": null,
            "display": null,
            "flex": null,
            "flex_flow": null,
            "grid_area": null,
            "grid_auto_columns": null,
            "grid_auto_flow": null,
            "grid_auto_rows": null,
            "grid_column": null,
            "grid_gap": null,
            "grid_row": null,
            "grid_template_areas": null,
            "grid_template_columns": null,
            "grid_template_rows": null,
            "height": null,
            "justify_content": null,
            "justify_items": null,
            "left": null,
            "margin": null,
            "max_height": null,
            "max_width": null,
            "min_height": null,
            "min_width": null,
            "object_fit": null,
            "object_position": null,
            "order": null,
            "overflow": null,
            "overflow_x": null,
            "overflow_y": null,
            "padding": null,
            "right": null,
            "top": null,
            "visibility": null,
            "width": null
          }
        },
        "8759562952be4447a8f44195b74a2b6b": {
          "model_module": "@jupyter-widgets/controls",
          "model_name": "DescriptionStyleModel",
          "model_module_version": "1.5.0",
          "state": {
            "_model_module": "@jupyter-widgets/controls",
            "_model_module_version": "1.5.0",
            "_model_name": "DescriptionStyleModel",
            "_view_count": null,
            "_view_module": "@jupyter-widgets/base",
            "_view_module_version": "1.2.0",
            "_view_name": "StyleView",
            "description_width": ""
          }
        },
        "8ea765c643f94ab98a38f6f1e0675607": {
          "model_module": "@jupyter-widgets/controls",
          "model_name": "HBoxModel",
          "model_module_version": "1.5.0",
          "state": {
            "_dom_classes": [],
            "_model_module": "@jupyter-widgets/controls",
            "_model_module_version": "1.5.0",
            "_model_name": "HBoxModel",
            "_view_count": null,
            "_view_module": "@jupyter-widgets/controls",
            "_view_module_version": "1.5.0",
            "_view_name": "HBoxView",
            "box_style": "",
            "children": [
              "IPY_MODEL_298dad516fca4e7bab30aad8e2c249aa",
              "IPY_MODEL_125aa36fe4c947a89d98876a32c80f98",
              "IPY_MODEL_5aed8cd7915b44ac98ac2fe93c052602"
            ],
            "layout": "IPY_MODEL_afd43050e699413ab6e69df0ee49966d"
          }
        },
        "298dad516fca4e7bab30aad8e2c249aa": {
          "model_module": "@jupyter-widgets/controls",
          "model_name": "HTMLModel",
          "model_module_version": "1.5.0",
          "state": {
            "_dom_classes": [],
            "_model_module": "@jupyter-widgets/controls",
            "_model_module_version": "1.5.0",
            "_model_name": "HTMLModel",
            "_view_count": null,
            "_view_module": "@jupyter-widgets/controls",
            "_view_module_version": "1.5.0",
            "_view_name": "HTMLView",
            "description": "",
            "description_tooltip": null,
            "layout": "IPY_MODEL_0254c78a7f234a7eb18d16dde20cc203",
            "placeholder": "​",
            "style": "IPY_MODEL_60536a06d4584c4f81644e5b4dfc8c95",
            "value": "Generating splits...: 100%"
          }
        },
        "125aa36fe4c947a89d98876a32c80f98": {
          "model_module": "@jupyter-widgets/controls",
          "model_name": "FloatProgressModel",
          "model_module_version": "1.5.0",
          "state": {
            "_dom_classes": [],
            "_model_module": "@jupyter-widgets/controls",
            "_model_module_version": "1.5.0",
            "_model_name": "FloatProgressModel",
            "_view_count": null,
            "_view_module": "@jupyter-widgets/controls",
            "_view_module_version": "1.5.0",
            "_view_name": "ProgressView",
            "bar_style": "",
            "description": "",
            "description_tooltip": null,
            "layout": "IPY_MODEL_4af0261a24584f0ab920287b976d8860",
            "max": 2,
            "min": 0,
            "orientation": "horizontal",
            "style": "IPY_MODEL_0d873ff0dda448ad885d63ae30409725",
            "value": 2
          }
        },
        "5aed8cd7915b44ac98ac2fe93c052602": {
          "model_module": "@jupyter-widgets/controls",
          "model_name": "HTMLModel",
          "model_module_version": "1.5.0",
          "state": {
            "_dom_classes": [],
            "_model_module": "@jupyter-widgets/controls",
            "_model_module_version": "1.5.0",
            "_model_name": "HTMLModel",
            "_view_count": null,
            "_view_module": "@jupyter-widgets/controls",
            "_view_module_version": "1.5.0",
            "_view_name": "HTMLView",
            "description": "",
            "description_tooltip": null,
            "layout": "IPY_MODEL_8dd5a831211242a8a56a55d8c11fb451",
            "placeholder": "​",
            "style": "IPY_MODEL_4de9e9e233954a7482f9df74396f8216",
            "value": " 2/2 [00:50&lt;00:00, 21.77s/ splits]"
          }
        },
        "afd43050e699413ab6e69df0ee49966d": {
          "model_module": "@jupyter-widgets/base",
          "model_name": "LayoutModel",
          "model_module_version": "1.2.0",
          "state": {
            "_model_module": "@jupyter-widgets/base",
            "_model_module_version": "1.2.0",
            "_model_name": "LayoutModel",
            "_view_count": null,
            "_view_module": "@jupyter-widgets/base",
            "_view_module_version": "1.2.0",
            "_view_name": "LayoutView",
            "align_content": null,
            "align_items": null,
            "align_self": null,
            "border": null,
            "bottom": null,
            "display": null,
            "flex": null,
            "flex_flow": null,
            "grid_area": null,
            "grid_auto_columns": null,
            "grid_auto_flow": null,
            "grid_auto_rows": null,
            "grid_column": null,
            "grid_gap": null,
            "grid_row": null,
            "grid_template_areas": null,
            "grid_template_columns": null,
            "grid_template_rows": null,
            "height": null,
            "justify_content": null,
            "justify_items": null,
            "left": null,
            "margin": null,
            "max_height": null,
            "max_width": null,
            "min_height": null,
            "min_width": null,
            "object_fit": null,
            "object_position": null,
            "order": null,
            "overflow": null,
            "overflow_x": null,
            "overflow_y": null,
            "padding": null,
            "right": null,
            "top": null,
            "visibility": null,
            "width": null
          }
        },
        "0254c78a7f234a7eb18d16dde20cc203": {
          "model_module": "@jupyter-widgets/base",
          "model_name": "LayoutModel",
          "model_module_version": "1.2.0",
          "state": {
            "_model_module": "@jupyter-widgets/base",
            "_model_module_version": "1.2.0",
            "_model_name": "LayoutModel",
            "_view_count": null,
            "_view_module": "@jupyter-widgets/base",
            "_view_module_version": "1.2.0",
            "_view_name": "LayoutView",
            "align_content": null,
            "align_items": null,
            "align_self": null,
            "border": null,
            "bottom": null,
            "display": null,
            "flex": null,
            "flex_flow": null,
            "grid_area": null,
            "grid_auto_columns": null,
            "grid_auto_flow": null,
            "grid_auto_rows": null,
            "grid_column": null,
            "grid_gap": null,
            "grid_row": null,
            "grid_template_areas": null,
            "grid_template_columns": null,
            "grid_template_rows": null,
            "height": null,
            "justify_content": null,
            "justify_items": null,
            "left": null,
            "margin": null,
            "max_height": null,
            "max_width": null,
            "min_height": null,
            "min_width": null,
            "object_fit": null,
            "object_position": null,
            "order": null,
            "overflow": null,
            "overflow_x": null,
            "overflow_y": null,
            "padding": null,
            "right": null,
            "top": null,
            "visibility": null,
            "width": null
          }
        },
        "60536a06d4584c4f81644e5b4dfc8c95": {
          "model_module": "@jupyter-widgets/controls",
          "model_name": "DescriptionStyleModel",
          "model_module_version": "1.5.0",
          "state": {
            "_model_module": "@jupyter-widgets/controls",
            "_model_module_version": "1.5.0",
            "_model_name": "DescriptionStyleModel",
            "_view_count": null,
            "_view_module": "@jupyter-widgets/base",
            "_view_module_version": "1.2.0",
            "_view_name": "StyleView",
            "description_width": ""
          }
        },
        "4af0261a24584f0ab920287b976d8860": {
          "model_module": "@jupyter-widgets/base",
          "model_name": "LayoutModel",
          "model_module_version": "1.2.0",
          "state": {
            "_model_module": "@jupyter-widgets/base",
            "_model_module_version": "1.2.0",
            "_model_name": "LayoutModel",
            "_view_count": null,
            "_view_module": "@jupyter-widgets/base",
            "_view_module_version": "1.2.0",
            "_view_name": "LayoutView",
            "align_content": null,
            "align_items": null,
            "align_self": null,
            "border": null,
            "bottom": null,
            "display": null,
            "flex": null,
            "flex_flow": null,
            "grid_area": null,
            "grid_auto_columns": null,
            "grid_auto_flow": null,
            "grid_auto_rows": null,
            "grid_column": null,
            "grid_gap": null,
            "grid_row": null,
            "grid_template_areas": null,
            "grid_template_columns": null,
            "grid_template_rows": null,
            "height": null,
            "justify_content": null,
            "justify_items": null,
            "left": null,
            "margin": null,
            "max_height": null,
            "max_width": null,
            "min_height": null,
            "min_width": null,
            "object_fit": null,
            "object_position": null,
            "order": null,
            "overflow": null,
            "overflow_x": null,
            "overflow_y": null,
            "padding": null,
            "right": null,
            "top": null,
            "visibility": null,
            "width": null
          }
        },
        "0d873ff0dda448ad885d63ae30409725": {
          "model_module": "@jupyter-widgets/controls",
          "model_name": "ProgressStyleModel",
          "model_module_version": "1.5.0",
          "state": {
            "_model_module": "@jupyter-widgets/controls",
            "_model_module_version": "1.5.0",
            "_model_name": "ProgressStyleModel",
            "_view_count": null,
            "_view_module": "@jupyter-widgets/base",
            "_view_module_version": "1.2.0",
            "_view_name": "StyleView",
            "bar_color": null,
            "description_width": ""
          }
        },
        "8dd5a831211242a8a56a55d8c11fb451": {
          "model_module": "@jupyter-widgets/base",
          "model_name": "LayoutModel",
          "model_module_version": "1.2.0",
          "state": {
            "_model_module": "@jupyter-widgets/base",
            "_model_module_version": "1.2.0",
            "_model_name": "LayoutModel",
            "_view_count": null,
            "_view_module": "@jupyter-widgets/base",
            "_view_module_version": "1.2.0",
            "_view_name": "LayoutView",
            "align_content": null,
            "align_items": null,
            "align_self": null,
            "border": null,
            "bottom": null,
            "display": null,
            "flex": null,
            "flex_flow": null,
            "grid_area": null,
            "grid_auto_columns": null,
            "grid_auto_flow": null,
            "grid_auto_rows": null,
            "grid_column": null,
            "grid_gap": null,
            "grid_row": null,
            "grid_template_areas": null,
            "grid_template_columns": null,
            "grid_template_rows": null,
            "height": null,
            "justify_content": null,
            "justify_items": null,
            "left": null,
            "margin": null,
            "max_height": null,
            "max_width": null,
            "min_height": null,
            "min_width": null,
            "object_fit": null,
            "object_position": null,
            "order": null,
            "overflow": null,
            "overflow_x": null,
            "overflow_y": null,
            "padding": null,
            "right": null,
            "top": null,
            "visibility": null,
            "width": null
          }
        },
        "4de9e9e233954a7482f9df74396f8216": {
          "model_module": "@jupyter-widgets/controls",
          "model_name": "DescriptionStyleModel",
          "model_module_version": "1.5.0",
          "state": {
            "_model_module": "@jupyter-widgets/controls",
            "_model_module_version": "1.5.0",
            "_model_name": "DescriptionStyleModel",
            "_view_count": null,
            "_view_module": "@jupyter-widgets/base",
            "_view_module_version": "1.2.0",
            "_view_name": "StyleView",
            "description_width": ""
          }
        },
        "d70c24524db34513bb80324040447850": {
          "model_module": "@jupyter-widgets/controls",
          "model_name": "HBoxModel",
          "model_module_version": "1.5.0",
          "state": {
            "_dom_classes": [],
            "_model_module": "@jupyter-widgets/controls",
            "_model_module_version": "1.5.0",
            "_model_name": "HBoxModel",
            "_view_count": null,
            "_view_module": "@jupyter-widgets/controls",
            "_view_module_version": "1.5.0",
            "_view_name": "HBoxView",
            "box_style": "",
            "children": [
              "IPY_MODEL_f9673bcb3d0248fb86b0effac4d942e9",
              "IPY_MODEL_ed937ae6a209456c9aef5537dda7c95b",
              "IPY_MODEL_ef7cf6fc21df4f3f9f7942d36dab24c5"
            ],
            "layout": "IPY_MODEL_fd96622292914372bb606d2323a7bc8e"
          }
        },
        "f9673bcb3d0248fb86b0effac4d942e9": {
          "model_module": "@jupyter-widgets/controls",
          "model_name": "HTMLModel",
          "model_module_version": "1.5.0",
          "state": {
            "_dom_classes": [],
            "_model_module": "@jupyter-widgets/controls",
            "_model_module_version": "1.5.0",
            "_model_name": "HTMLModel",
            "_view_count": null,
            "_view_module": "@jupyter-widgets/controls",
            "_view_module_version": "1.5.0",
            "_view_name": "HTMLView",
            "description": "",
            "description_tooltip": null,
            "layout": "IPY_MODEL_899cb9d38bb047bb8ff93c0beccb2307",
            "placeholder": "​",
            "style": "IPY_MODEL_31b7da57a94a4e168f28f3e05797892f",
            "value": "Generating train examples...: 100%"
          }
        },
        "ed937ae6a209456c9aef5537dda7c95b": {
          "model_module": "@jupyter-widgets/controls",
          "model_name": "FloatProgressModel",
          "model_module_version": "1.5.0",
          "state": {
            "_dom_classes": [],
            "_model_module": "@jupyter-widgets/controls",
            "_model_module_version": "1.5.0",
            "_model_name": "FloatProgressModel",
            "_view_count": null,
            "_view_module": "@jupyter-widgets/controls",
            "_view_module_version": "1.5.0",
            "_view_name": "ProgressView",
            "bar_style": "",
            "description": "",
            "description_tooltip": null,
            "layout": "IPY_MODEL_0e4b10d3d76d4cc48342cd9293790d16",
            "max": 60000,
            "min": 0,
            "orientation": "horizontal",
            "style": "IPY_MODEL_64a20556e7f446e38e14eefb1f697990",
            "value": 60000
          }
        },
        "ef7cf6fc21df4f3f9f7942d36dab24c5": {
          "model_module": "@jupyter-widgets/controls",
          "model_name": "HTMLModel",
          "model_module_version": "1.5.0",
          "state": {
            "_dom_classes": [],
            "_model_module": "@jupyter-widgets/controls",
            "_model_module_version": "1.5.0",
            "_model_name": "HTMLModel",
            "_view_count": null,
            "_view_module": "@jupyter-widgets/controls",
            "_view_module_version": "1.5.0",
            "_view_name": "HTMLView",
            "description": "",
            "description_tooltip": null,
            "layout": "IPY_MODEL_2585b9f94bd144ee85b0d30cb47c540f",
            "placeholder": "​",
            "style": "IPY_MODEL_d7722a35019643ef8a493a0c624cf622",
            "value": " 59839/60000 [00:42&lt;00:00, 1594.75 examples/s]"
          }
        },
        "fd96622292914372bb606d2323a7bc8e": {
          "model_module": "@jupyter-widgets/base",
          "model_name": "LayoutModel",
          "model_module_version": "1.2.0",
          "state": {
            "_model_module": "@jupyter-widgets/base",
            "_model_module_version": "1.2.0",
            "_model_name": "LayoutModel",
            "_view_count": null,
            "_view_module": "@jupyter-widgets/base",
            "_view_module_version": "1.2.0",
            "_view_name": "LayoutView",
            "align_content": null,
            "align_items": null,
            "align_self": null,
            "border": null,
            "bottom": null,
            "display": null,
            "flex": null,
            "flex_flow": null,
            "grid_area": null,
            "grid_auto_columns": null,
            "grid_auto_flow": null,
            "grid_auto_rows": null,
            "grid_column": null,
            "grid_gap": null,
            "grid_row": null,
            "grid_template_areas": null,
            "grid_template_columns": null,
            "grid_template_rows": null,
            "height": null,
            "justify_content": null,
            "justify_items": null,
            "left": null,
            "margin": null,
            "max_height": null,
            "max_width": null,
            "min_height": null,
            "min_width": null,
            "object_fit": null,
            "object_position": null,
            "order": null,
            "overflow": null,
            "overflow_x": null,
            "overflow_y": null,
            "padding": null,
            "right": null,
            "top": null,
            "visibility": null,
            "width": null
          }
        },
        "899cb9d38bb047bb8ff93c0beccb2307": {
          "model_module": "@jupyter-widgets/base",
          "model_name": "LayoutModel",
          "model_module_version": "1.2.0",
          "state": {
            "_model_module": "@jupyter-widgets/base",
            "_model_module_version": "1.2.0",
            "_model_name": "LayoutModel",
            "_view_count": null,
            "_view_module": "@jupyter-widgets/base",
            "_view_module_version": "1.2.0",
            "_view_name": "LayoutView",
            "align_content": null,
            "align_items": null,
            "align_self": null,
            "border": null,
            "bottom": null,
            "display": null,
            "flex": null,
            "flex_flow": null,
            "grid_area": null,
            "grid_auto_columns": null,
            "grid_auto_flow": null,
            "grid_auto_rows": null,
            "grid_column": null,
            "grid_gap": null,
            "grid_row": null,
            "grid_template_areas": null,
            "grid_template_columns": null,
            "grid_template_rows": null,
            "height": null,
            "justify_content": null,
            "justify_items": null,
            "left": null,
            "margin": null,
            "max_height": null,
            "max_width": null,
            "min_height": null,
            "min_width": null,
            "object_fit": null,
            "object_position": null,
            "order": null,
            "overflow": null,
            "overflow_x": null,
            "overflow_y": null,
            "padding": null,
            "right": null,
            "top": null,
            "visibility": null,
            "width": null
          }
        },
        "31b7da57a94a4e168f28f3e05797892f": {
          "model_module": "@jupyter-widgets/controls",
          "model_name": "DescriptionStyleModel",
          "model_module_version": "1.5.0",
          "state": {
            "_model_module": "@jupyter-widgets/controls",
            "_model_module_version": "1.5.0",
            "_model_name": "DescriptionStyleModel",
            "_view_count": null,
            "_view_module": "@jupyter-widgets/base",
            "_view_module_version": "1.2.0",
            "_view_name": "StyleView",
            "description_width": ""
          }
        },
        "0e4b10d3d76d4cc48342cd9293790d16": {
          "model_module": "@jupyter-widgets/base",
          "model_name": "LayoutModel",
          "model_module_version": "1.2.0",
          "state": {
            "_model_module": "@jupyter-widgets/base",
            "_model_module_version": "1.2.0",
            "_model_name": "LayoutModel",
            "_view_count": null,
            "_view_module": "@jupyter-widgets/base",
            "_view_module_version": "1.2.0",
            "_view_name": "LayoutView",
            "align_content": null,
            "align_items": null,
            "align_self": null,
            "border": null,
            "bottom": null,
            "display": null,
            "flex": null,
            "flex_flow": null,
            "grid_area": null,
            "grid_auto_columns": null,
            "grid_auto_flow": null,
            "grid_auto_rows": null,
            "grid_column": null,
            "grid_gap": null,
            "grid_row": null,
            "grid_template_areas": null,
            "grid_template_columns": null,
            "grid_template_rows": null,
            "height": null,
            "justify_content": null,
            "justify_items": null,
            "left": null,
            "margin": null,
            "max_height": null,
            "max_width": null,
            "min_height": null,
            "min_width": null,
            "object_fit": null,
            "object_position": null,
            "order": null,
            "overflow": null,
            "overflow_x": null,
            "overflow_y": null,
            "padding": null,
            "right": null,
            "top": null,
            "visibility": null,
            "width": null
          }
        },
        "64a20556e7f446e38e14eefb1f697990": {
          "model_module": "@jupyter-widgets/controls",
          "model_name": "ProgressStyleModel",
          "model_module_version": "1.5.0",
          "state": {
            "_model_module": "@jupyter-widgets/controls",
            "_model_module_version": "1.5.0",
            "_model_name": "ProgressStyleModel",
            "_view_count": null,
            "_view_module": "@jupyter-widgets/base",
            "_view_module_version": "1.2.0",
            "_view_name": "StyleView",
            "bar_color": null,
            "description_width": ""
          }
        },
        "2585b9f94bd144ee85b0d30cb47c540f": {
          "model_module": "@jupyter-widgets/base",
          "model_name": "LayoutModel",
          "model_module_version": "1.2.0",
          "state": {
            "_model_module": "@jupyter-widgets/base",
            "_model_module_version": "1.2.0",
            "_model_name": "LayoutModel",
            "_view_count": null,
            "_view_module": "@jupyter-widgets/base",
            "_view_module_version": "1.2.0",
            "_view_name": "LayoutView",
            "align_content": null,
            "align_items": null,
            "align_self": null,
            "border": null,
            "bottom": null,
            "display": null,
            "flex": null,
            "flex_flow": null,
            "grid_area": null,
            "grid_auto_columns": null,
            "grid_auto_flow": null,
            "grid_auto_rows": null,
            "grid_column": null,
            "grid_gap": null,
            "grid_row": null,
            "grid_template_areas": null,
            "grid_template_columns": null,
            "grid_template_rows": null,
            "height": null,
            "justify_content": null,
            "justify_items": null,
            "left": null,
            "margin": null,
            "max_height": null,
            "max_width": null,
            "min_height": null,
            "min_width": null,
            "object_fit": null,
            "object_position": null,
            "order": null,
            "overflow": null,
            "overflow_x": null,
            "overflow_y": null,
            "padding": null,
            "right": null,
            "top": null,
            "visibility": null,
            "width": null
          }
        },
        "d7722a35019643ef8a493a0c624cf622": {
          "model_module": "@jupyter-widgets/controls",
          "model_name": "DescriptionStyleModel",
          "model_module_version": "1.5.0",
          "state": {
            "_model_module": "@jupyter-widgets/controls",
            "_model_module_version": "1.5.0",
            "_model_name": "DescriptionStyleModel",
            "_view_count": null,
            "_view_module": "@jupyter-widgets/base",
            "_view_module_version": "1.2.0",
            "_view_name": "StyleView",
            "description_width": ""
          }
        },
        "2bf5d5b1bd5f469d823026da3f5a065a": {
          "model_module": "@jupyter-widgets/controls",
          "model_name": "HBoxModel",
          "model_module_version": "1.5.0",
          "state": {
            "_dom_classes": [],
            "_model_module": "@jupyter-widgets/controls",
            "_model_module_version": "1.5.0",
            "_model_name": "HBoxModel",
            "_view_count": null,
            "_view_module": "@jupyter-widgets/controls",
            "_view_module_version": "1.5.0",
            "_view_name": "HBoxView",
            "box_style": "",
            "children": [
              "IPY_MODEL_77143dfb8257410f94f2bc56505c1b6c",
              "IPY_MODEL_0a7201019345443aaf51ac3e62d7ad79",
              "IPY_MODEL_b5a26c73c2684cc39280a458396decf9"
            ],
            "layout": "IPY_MODEL_1b69f3a4d15649f2b8039d3a4b8a777d"
          }
        },
        "77143dfb8257410f94f2bc56505c1b6c": {
          "model_module": "@jupyter-widgets/controls",
          "model_name": "HTMLModel",
          "model_module_version": "1.5.0",
          "state": {
            "_dom_classes": [],
            "_model_module": "@jupyter-widgets/controls",
            "_model_module_version": "1.5.0",
            "_model_name": "HTMLModel",
            "_view_count": null,
            "_view_module": "@jupyter-widgets/controls",
            "_view_module_version": "1.5.0",
            "_view_name": "HTMLView",
            "description": "",
            "description_tooltip": null,
            "layout": "IPY_MODEL_51077107e5f541a587c152241b40b3ec",
            "placeholder": "​",
            "style": "IPY_MODEL_6c54925d60334839a7975faceddfe34d",
            "value": "Shuffling ~/tensorflow_datasets/fashion_mnist/3.0.1.incomplete8S28TD/fashion_mnist-train.tfrecord*...:  60%"
          }
        },
        "0a7201019345443aaf51ac3e62d7ad79": {
          "model_module": "@jupyter-widgets/controls",
          "model_name": "FloatProgressModel",
          "model_module_version": "1.5.0",
          "state": {
            "_dom_classes": [],
            "_model_module": "@jupyter-widgets/controls",
            "_model_module_version": "1.5.0",
            "_model_name": "FloatProgressModel",
            "_view_count": null,
            "_view_module": "@jupyter-widgets/controls",
            "_view_module_version": "1.5.0",
            "_view_name": "ProgressView",
            "bar_style": "",
            "description": "",
            "description_tooltip": null,
            "layout": "IPY_MODEL_8548f3b688dc4d7caae84d8498d56ca9",
            "max": 60000,
            "min": 0,
            "orientation": "horizontal",
            "style": "IPY_MODEL_346a99ec9deb47058f12b06c0d40274c",
            "value": 60000
          }
        },
        "b5a26c73c2684cc39280a458396decf9": {
          "model_module": "@jupyter-widgets/controls",
          "model_name": "HTMLModel",
          "model_module_version": "1.5.0",
          "state": {
            "_dom_classes": [],
            "_model_module": "@jupyter-widgets/controls",
            "_model_module_version": "1.5.0",
            "_model_name": "HTMLModel",
            "_view_count": null,
            "_view_module": "@jupyter-widgets/controls",
            "_view_module_version": "1.5.0",
            "_view_name": "HTMLView",
            "description": "",
            "description_tooltip": null,
            "layout": "IPY_MODEL_9ec13a22438146b390f62957222e90c5",
            "placeholder": "​",
            "style": "IPY_MODEL_cb29198aa43b49259f5a09f58761b50c",
            "value": " 36106/60000 [00:00&lt;00:00, 207767.11 examples/s]"
          }
        },
        "1b69f3a4d15649f2b8039d3a4b8a777d": {
          "model_module": "@jupyter-widgets/base",
          "model_name": "LayoutModel",
          "model_module_version": "1.2.0",
          "state": {
            "_model_module": "@jupyter-widgets/base",
            "_model_module_version": "1.2.0",
            "_model_name": "LayoutModel",
            "_view_count": null,
            "_view_module": "@jupyter-widgets/base",
            "_view_module_version": "1.2.0",
            "_view_name": "LayoutView",
            "align_content": null,
            "align_items": null,
            "align_self": null,
            "border": null,
            "bottom": null,
            "display": null,
            "flex": null,
            "flex_flow": null,
            "grid_area": null,
            "grid_auto_columns": null,
            "grid_auto_flow": null,
            "grid_auto_rows": null,
            "grid_column": null,
            "grid_gap": null,
            "grid_row": null,
            "grid_template_areas": null,
            "grid_template_columns": null,
            "grid_template_rows": null,
            "height": null,
            "justify_content": null,
            "justify_items": null,
            "left": null,
            "margin": null,
            "max_height": null,
            "max_width": null,
            "min_height": null,
            "min_width": null,
            "object_fit": null,
            "object_position": null,
            "order": null,
            "overflow": null,
            "overflow_x": null,
            "overflow_y": null,
            "padding": null,
            "right": null,
            "top": null,
            "visibility": null,
            "width": null
          }
        },
        "51077107e5f541a587c152241b40b3ec": {
          "model_module": "@jupyter-widgets/base",
          "model_name": "LayoutModel",
          "model_module_version": "1.2.0",
          "state": {
            "_model_module": "@jupyter-widgets/base",
            "_model_module_version": "1.2.0",
            "_model_name": "LayoutModel",
            "_view_count": null,
            "_view_module": "@jupyter-widgets/base",
            "_view_module_version": "1.2.0",
            "_view_name": "LayoutView",
            "align_content": null,
            "align_items": null,
            "align_self": null,
            "border": null,
            "bottom": null,
            "display": null,
            "flex": null,
            "flex_flow": null,
            "grid_area": null,
            "grid_auto_columns": null,
            "grid_auto_flow": null,
            "grid_auto_rows": null,
            "grid_column": null,
            "grid_gap": null,
            "grid_row": null,
            "grid_template_areas": null,
            "grid_template_columns": null,
            "grid_template_rows": null,
            "height": null,
            "justify_content": null,
            "justify_items": null,
            "left": null,
            "margin": null,
            "max_height": null,
            "max_width": null,
            "min_height": null,
            "min_width": null,
            "object_fit": null,
            "object_position": null,
            "order": null,
            "overflow": null,
            "overflow_x": null,
            "overflow_y": null,
            "padding": null,
            "right": null,
            "top": null,
            "visibility": null,
            "width": null
          }
        },
        "6c54925d60334839a7975faceddfe34d": {
          "model_module": "@jupyter-widgets/controls",
          "model_name": "DescriptionStyleModel",
          "model_module_version": "1.5.0",
          "state": {
            "_model_module": "@jupyter-widgets/controls",
            "_model_module_version": "1.5.0",
            "_model_name": "DescriptionStyleModel",
            "_view_count": null,
            "_view_module": "@jupyter-widgets/base",
            "_view_module_version": "1.2.0",
            "_view_name": "StyleView",
            "description_width": ""
          }
        },
        "8548f3b688dc4d7caae84d8498d56ca9": {
          "model_module": "@jupyter-widgets/base",
          "model_name": "LayoutModel",
          "model_module_version": "1.2.0",
          "state": {
            "_model_module": "@jupyter-widgets/base",
            "_model_module_version": "1.2.0",
            "_model_name": "LayoutModel",
            "_view_count": null,
            "_view_module": "@jupyter-widgets/base",
            "_view_module_version": "1.2.0",
            "_view_name": "LayoutView",
            "align_content": null,
            "align_items": null,
            "align_self": null,
            "border": null,
            "bottom": null,
            "display": null,
            "flex": null,
            "flex_flow": null,
            "grid_area": null,
            "grid_auto_columns": null,
            "grid_auto_flow": null,
            "grid_auto_rows": null,
            "grid_column": null,
            "grid_gap": null,
            "grid_row": null,
            "grid_template_areas": null,
            "grid_template_columns": null,
            "grid_template_rows": null,
            "height": null,
            "justify_content": null,
            "justify_items": null,
            "left": null,
            "margin": null,
            "max_height": null,
            "max_width": null,
            "min_height": null,
            "min_width": null,
            "object_fit": null,
            "object_position": null,
            "order": null,
            "overflow": null,
            "overflow_x": null,
            "overflow_y": null,
            "padding": null,
            "right": null,
            "top": null,
            "visibility": null,
            "width": null
          }
        },
        "346a99ec9deb47058f12b06c0d40274c": {
          "model_module": "@jupyter-widgets/controls",
          "model_name": "ProgressStyleModel",
          "model_module_version": "1.5.0",
          "state": {
            "_model_module": "@jupyter-widgets/controls",
            "_model_module_version": "1.5.0",
            "_model_name": "ProgressStyleModel",
            "_view_count": null,
            "_view_module": "@jupyter-widgets/base",
            "_view_module_version": "1.2.0",
            "_view_name": "StyleView",
            "bar_color": null,
            "description_width": ""
          }
        },
        "9ec13a22438146b390f62957222e90c5": {
          "model_module": "@jupyter-widgets/base",
          "model_name": "LayoutModel",
          "model_module_version": "1.2.0",
          "state": {
            "_model_module": "@jupyter-widgets/base",
            "_model_module_version": "1.2.0",
            "_model_name": "LayoutModel",
            "_view_count": null,
            "_view_module": "@jupyter-widgets/base",
            "_view_module_version": "1.2.0",
            "_view_name": "LayoutView",
            "align_content": null,
            "align_items": null,
            "align_self": null,
            "border": null,
            "bottom": null,
            "display": null,
            "flex": null,
            "flex_flow": null,
            "grid_area": null,
            "grid_auto_columns": null,
            "grid_auto_flow": null,
            "grid_auto_rows": null,
            "grid_column": null,
            "grid_gap": null,
            "grid_row": null,
            "grid_template_areas": null,
            "grid_template_columns": null,
            "grid_template_rows": null,
            "height": null,
            "justify_content": null,
            "justify_items": null,
            "left": null,
            "margin": null,
            "max_height": null,
            "max_width": null,
            "min_height": null,
            "min_width": null,
            "object_fit": null,
            "object_position": null,
            "order": null,
            "overflow": null,
            "overflow_x": null,
            "overflow_y": null,
            "padding": null,
            "right": null,
            "top": null,
            "visibility": null,
            "width": null
          }
        },
        "cb29198aa43b49259f5a09f58761b50c": {
          "model_module": "@jupyter-widgets/controls",
          "model_name": "DescriptionStyleModel",
          "model_module_version": "1.5.0",
          "state": {
            "_model_module": "@jupyter-widgets/controls",
            "_model_module_version": "1.5.0",
            "_model_name": "DescriptionStyleModel",
            "_view_count": null,
            "_view_module": "@jupyter-widgets/base",
            "_view_module_version": "1.2.0",
            "_view_name": "StyleView",
            "description_width": ""
          }
        },
        "fb191da12e8a4e2092d1066acbb4a814": {
          "model_module": "@jupyter-widgets/controls",
          "model_name": "HBoxModel",
          "model_module_version": "1.5.0",
          "state": {
            "_dom_classes": [],
            "_model_module": "@jupyter-widgets/controls",
            "_model_module_version": "1.5.0",
            "_model_name": "HBoxModel",
            "_view_count": null,
            "_view_module": "@jupyter-widgets/controls",
            "_view_module_version": "1.5.0",
            "_view_name": "HBoxView",
            "box_style": "",
            "children": [
              "IPY_MODEL_3e9a02ac677046cbbd3a45c4be79b7d8",
              "IPY_MODEL_189f9e305a594e9394c3cfa1ec175e75",
              "IPY_MODEL_35ab6d50abcd49c3beefc08e0ed9653f"
            ],
            "layout": "IPY_MODEL_bb12f23fe27e46aebc99866647b426ce"
          }
        },
        "3e9a02ac677046cbbd3a45c4be79b7d8": {
          "model_module": "@jupyter-widgets/controls",
          "model_name": "HTMLModel",
          "model_module_version": "1.5.0",
          "state": {
            "_dom_classes": [],
            "_model_module": "@jupyter-widgets/controls",
            "_model_module_version": "1.5.0",
            "_model_name": "HTMLModel",
            "_view_count": null,
            "_view_module": "@jupyter-widgets/controls",
            "_view_module_version": "1.5.0",
            "_view_name": "HTMLView",
            "description": "",
            "description_tooltip": null,
            "layout": "IPY_MODEL_d5f836d643624e8fa906e51185e2d9e6",
            "placeholder": "​",
            "style": "IPY_MODEL_f6612201461f4d1d8bb25bf20cb73c83",
            "value": "Generating test examples...:  99%"
          }
        },
        "189f9e305a594e9394c3cfa1ec175e75": {
          "model_module": "@jupyter-widgets/controls",
          "model_name": "FloatProgressModel",
          "model_module_version": "1.5.0",
          "state": {
            "_dom_classes": [],
            "_model_module": "@jupyter-widgets/controls",
            "_model_module_version": "1.5.0",
            "_model_name": "FloatProgressModel",
            "_view_count": null,
            "_view_module": "@jupyter-widgets/controls",
            "_view_module_version": "1.5.0",
            "_view_name": "ProgressView",
            "bar_style": "",
            "description": "",
            "description_tooltip": null,
            "layout": "IPY_MODEL_c92821451339448a92537bca001214d0",
            "max": 10000,
            "min": 0,
            "orientation": "horizontal",
            "style": "IPY_MODEL_20e95397c2db4f15a38d477b1583c09c",
            "value": 10000
          }
        },
        "35ab6d50abcd49c3beefc08e0ed9653f": {
          "model_module": "@jupyter-widgets/controls",
          "model_name": "HTMLModel",
          "model_module_version": "1.5.0",
          "state": {
            "_dom_classes": [],
            "_model_module": "@jupyter-widgets/controls",
            "_model_module_version": "1.5.0",
            "_model_name": "HTMLModel",
            "_view_count": null,
            "_view_module": "@jupyter-widgets/controls",
            "_view_module_version": "1.5.0",
            "_view_name": "HTMLView",
            "description": "",
            "description_tooltip": null,
            "layout": "IPY_MODEL_e9653df84cff47ec80a925d448075225",
            "placeholder": "​",
            "style": "IPY_MODEL_91725242636247009bdb3a89e37d1e97",
            "value": " 9874/10000 [00:06&lt;00:00, 1544.49 examples/s]"
          }
        },
        "bb12f23fe27e46aebc99866647b426ce": {
          "model_module": "@jupyter-widgets/base",
          "model_name": "LayoutModel",
          "model_module_version": "1.2.0",
          "state": {
            "_model_module": "@jupyter-widgets/base",
            "_model_module_version": "1.2.0",
            "_model_name": "LayoutModel",
            "_view_count": null,
            "_view_module": "@jupyter-widgets/base",
            "_view_module_version": "1.2.0",
            "_view_name": "LayoutView",
            "align_content": null,
            "align_items": null,
            "align_self": null,
            "border": null,
            "bottom": null,
            "display": null,
            "flex": null,
            "flex_flow": null,
            "grid_area": null,
            "grid_auto_columns": null,
            "grid_auto_flow": null,
            "grid_auto_rows": null,
            "grid_column": null,
            "grid_gap": null,
            "grid_row": null,
            "grid_template_areas": null,
            "grid_template_columns": null,
            "grid_template_rows": null,
            "height": null,
            "justify_content": null,
            "justify_items": null,
            "left": null,
            "margin": null,
            "max_height": null,
            "max_width": null,
            "min_height": null,
            "min_width": null,
            "object_fit": null,
            "object_position": null,
            "order": null,
            "overflow": null,
            "overflow_x": null,
            "overflow_y": null,
            "padding": null,
            "right": null,
            "top": null,
            "visibility": null,
            "width": null
          }
        },
        "d5f836d643624e8fa906e51185e2d9e6": {
          "model_module": "@jupyter-widgets/base",
          "model_name": "LayoutModel",
          "model_module_version": "1.2.0",
          "state": {
            "_model_module": "@jupyter-widgets/base",
            "_model_module_version": "1.2.0",
            "_model_name": "LayoutModel",
            "_view_count": null,
            "_view_module": "@jupyter-widgets/base",
            "_view_module_version": "1.2.0",
            "_view_name": "LayoutView",
            "align_content": null,
            "align_items": null,
            "align_self": null,
            "border": null,
            "bottom": null,
            "display": null,
            "flex": null,
            "flex_flow": null,
            "grid_area": null,
            "grid_auto_columns": null,
            "grid_auto_flow": null,
            "grid_auto_rows": null,
            "grid_column": null,
            "grid_gap": null,
            "grid_row": null,
            "grid_template_areas": null,
            "grid_template_columns": null,
            "grid_template_rows": null,
            "height": null,
            "justify_content": null,
            "justify_items": null,
            "left": null,
            "margin": null,
            "max_height": null,
            "max_width": null,
            "min_height": null,
            "min_width": null,
            "object_fit": null,
            "object_position": null,
            "order": null,
            "overflow": null,
            "overflow_x": null,
            "overflow_y": null,
            "padding": null,
            "right": null,
            "top": null,
            "visibility": null,
            "width": null
          }
        },
        "f6612201461f4d1d8bb25bf20cb73c83": {
          "model_module": "@jupyter-widgets/controls",
          "model_name": "DescriptionStyleModel",
          "model_module_version": "1.5.0",
          "state": {
            "_model_module": "@jupyter-widgets/controls",
            "_model_module_version": "1.5.0",
            "_model_name": "DescriptionStyleModel",
            "_view_count": null,
            "_view_module": "@jupyter-widgets/base",
            "_view_module_version": "1.2.0",
            "_view_name": "StyleView",
            "description_width": ""
          }
        },
        "c92821451339448a92537bca001214d0": {
          "model_module": "@jupyter-widgets/base",
          "model_name": "LayoutModel",
          "model_module_version": "1.2.0",
          "state": {
            "_model_module": "@jupyter-widgets/base",
            "_model_module_version": "1.2.0",
            "_model_name": "LayoutModel",
            "_view_count": null,
            "_view_module": "@jupyter-widgets/base",
            "_view_module_version": "1.2.0",
            "_view_name": "LayoutView",
            "align_content": null,
            "align_items": null,
            "align_self": null,
            "border": null,
            "bottom": null,
            "display": null,
            "flex": null,
            "flex_flow": null,
            "grid_area": null,
            "grid_auto_columns": null,
            "grid_auto_flow": null,
            "grid_auto_rows": null,
            "grid_column": null,
            "grid_gap": null,
            "grid_row": null,
            "grid_template_areas": null,
            "grid_template_columns": null,
            "grid_template_rows": null,
            "height": null,
            "justify_content": null,
            "justify_items": null,
            "left": null,
            "margin": null,
            "max_height": null,
            "max_width": null,
            "min_height": null,
            "min_width": null,
            "object_fit": null,
            "object_position": null,
            "order": null,
            "overflow": null,
            "overflow_x": null,
            "overflow_y": null,
            "padding": null,
            "right": null,
            "top": null,
            "visibility": null,
            "width": null
          }
        },
        "20e95397c2db4f15a38d477b1583c09c": {
          "model_module": "@jupyter-widgets/controls",
          "model_name": "ProgressStyleModel",
          "model_module_version": "1.5.0",
          "state": {
            "_model_module": "@jupyter-widgets/controls",
            "_model_module_version": "1.5.0",
            "_model_name": "ProgressStyleModel",
            "_view_count": null,
            "_view_module": "@jupyter-widgets/base",
            "_view_module_version": "1.2.0",
            "_view_name": "StyleView",
            "bar_color": null,
            "description_width": ""
          }
        },
        "e9653df84cff47ec80a925d448075225": {
          "model_module": "@jupyter-widgets/base",
          "model_name": "LayoutModel",
          "model_module_version": "1.2.0",
          "state": {
            "_model_module": "@jupyter-widgets/base",
            "_model_module_version": "1.2.0",
            "_model_name": "LayoutModel",
            "_view_count": null,
            "_view_module": "@jupyter-widgets/base",
            "_view_module_version": "1.2.0",
            "_view_name": "LayoutView",
            "align_content": null,
            "align_items": null,
            "align_self": null,
            "border": null,
            "bottom": null,
            "display": null,
            "flex": null,
            "flex_flow": null,
            "grid_area": null,
            "grid_auto_columns": null,
            "grid_auto_flow": null,
            "grid_auto_rows": null,
            "grid_column": null,
            "grid_gap": null,
            "grid_row": null,
            "grid_template_areas": null,
            "grid_template_columns": null,
            "grid_template_rows": null,
            "height": null,
            "justify_content": null,
            "justify_items": null,
            "left": null,
            "margin": null,
            "max_height": null,
            "max_width": null,
            "min_height": null,
            "min_width": null,
            "object_fit": null,
            "object_position": null,
            "order": null,
            "overflow": null,
            "overflow_x": null,
            "overflow_y": null,
            "padding": null,
            "right": null,
            "top": null,
            "visibility": null,
            "width": null
          }
        },
        "91725242636247009bdb3a89e37d1e97": {
          "model_module": "@jupyter-widgets/controls",
          "model_name": "DescriptionStyleModel",
          "model_module_version": "1.5.0",
          "state": {
            "_model_module": "@jupyter-widgets/controls",
            "_model_module_version": "1.5.0",
            "_model_name": "DescriptionStyleModel",
            "_view_count": null,
            "_view_module": "@jupyter-widgets/base",
            "_view_module_version": "1.2.0",
            "_view_name": "StyleView",
            "description_width": ""
          }
        },
        "1d1c7150e3054bde8a37c22db92eb1b3": {
          "model_module": "@jupyter-widgets/controls",
          "model_name": "HBoxModel",
          "model_module_version": "1.5.0",
          "state": {
            "_dom_classes": [],
            "_model_module": "@jupyter-widgets/controls",
            "_model_module_version": "1.5.0",
            "_model_name": "HBoxModel",
            "_view_count": null,
            "_view_module": "@jupyter-widgets/controls",
            "_view_module_version": "1.5.0",
            "_view_name": "HBoxView",
            "box_style": "",
            "children": [
              "IPY_MODEL_a009bb990e4447f0aa1308cb2dcacfd6",
              "IPY_MODEL_6661785da93e4fe1ac12b1d75c6116cf",
              "IPY_MODEL_c44d0d49b12c427792b9da81e2fca666"
            ],
            "layout": "IPY_MODEL_540e6fd1a5f94a34a28e8474aba768c0"
          }
        },
        "a009bb990e4447f0aa1308cb2dcacfd6": {
          "model_module": "@jupyter-widgets/controls",
          "model_name": "HTMLModel",
          "model_module_version": "1.5.0",
          "state": {
            "_dom_classes": [],
            "_model_module": "@jupyter-widgets/controls",
            "_model_module_version": "1.5.0",
            "_model_name": "HTMLModel",
            "_view_count": null,
            "_view_module": "@jupyter-widgets/controls",
            "_view_module_version": "1.5.0",
            "_view_name": "HTMLView",
            "description": "",
            "description_tooltip": null,
            "layout": "IPY_MODEL_96e13996af0043a4a6a813685bea4eed",
            "placeholder": "​",
            "style": "IPY_MODEL_9dda7b2aa7484234a58cf89fbb9fa997",
            "value": "Shuffling ~/tensorflow_datasets/fashion_mnist/3.0.1.incomplete8S28TD/fashion_mnist-test.tfrecord*...:   0%"
          }
        },
        "6661785da93e4fe1ac12b1d75c6116cf": {
          "model_module": "@jupyter-widgets/controls",
          "model_name": "FloatProgressModel",
          "model_module_version": "1.5.0",
          "state": {
            "_dom_classes": [],
            "_model_module": "@jupyter-widgets/controls",
            "_model_module_version": "1.5.0",
            "_model_name": "FloatProgressModel",
            "_view_count": null,
            "_view_module": "@jupyter-widgets/controls",
            "_view_module_version": "1.5.0",
            "_view_name": "ProgressView",
            "bar_style": "",
            "description": "",
            "description_tooltip": null,
            "layout": "IPY_MODEL_8825d321ac584c47a755d7c979d79383",
            "max": 10000,
            "min": 0,
            "orientation": "horizontal",
            "style": "IPY_MODEL_03e4a4a576f940559560aac9c1cd481a",
            "value": 10000
          }
        },
        "c44d0d49b12c427792b9da81e2fca666": {
          "model_module": "@jupyter-widgets/controls",
          "model_name": "HTMLModel",
          "model_module_version": "1.5.0",
          "state": {
            "_dom_classes": [],
            "_model_module": "@jupyter-widgets/controls",
            "_model_module_version": "1.5.0",
            "_model_name": "HTMLModel",
            "_view_count": null,
            "_view_module": "@jupyter-widgets/controls",
            "_view_module_version": "1.5.0",
            "_view_name": "HTMLView",
            "description": "",
            "description_tooltip": null,
            "layout": "IPY_MODEL_4e07c676e0b84962988dfca69c1dc7b7",
            "placeholder": "​",
            "style": "IPY_MODEL_7edddb8207bc445ba38d24fd31382b14",
            "value": " 0/10000 [00:00&lt;?, ? examples/s]"
          }
        },
        "540e6fd1a5f94a34a28e8474aba768c0": {
          "model_module": "@jupyter-widgets/base",
          "model_name": "LayoutModel",
          "model_module_version": "1.2.0",
          "state": {
            "_model_module": "@jupyter-widgets/base",
            "_model_module_version": "1.2.0",
            "_model_name": "LayoutModel",
            "_view_count": null,
            "_view_module": "@jupyter-widgets/base",
            "_view_module_version": "1.2.0",
            "_view_name": "LayoutView",
            "align_content": null,
            "align_items": null,
            "align_self": null,
            "border": null,
            "bottom": null,
            "display": null,
            "flex": null,
            "flex_flow": null,
            "grid_area": null,
            "grid_auto_columns": null,
            "grid_auto_flow": null,
            "grid_auto_rows": null,
            "grid_column": null,
            "grid_gap": null,
            "grid_row": null,
            "grid_template_areas": null,
            "grid_template_columns": null,
            "grid_template_rows": null,
            "height": null,
            "justify_content": null,
            "justify_items": null,
            "left": null,
            "margin": null,
            "max_height": null,
            "max_width": null,
            "min_height": null,
            "min_width": null,
            "object_fit": null,
            "object_position": null,
            "order": null,
            "overflow": null,
            "overflow_x": null,
            "overflow_y": null,
            "padding": null,
            "right": null,
            "top": null,
            "visibility": null,
            "width": null
          }
        },
        "96e13996af0043a4a6a813685bea4eed": {
          "model_module": "@jupyter-widgets/base",
          "model_name": "LayoutModel",
          "model_module_version": "1.2.0",
          "state": {
            "_model_module": "@jupyter-widgets/base",
            "_model_module_version": "1.2.0",
            "_model_name": "LayoutModel",
            "_view_count": null,
            "_view_module": "@jupyter-widgets/base",
            "_view_module_version": "1.2.0",
            "_view_name": "LayoutView",
            "align_content": null,
            "align_items": null,
            "align_self": null,
            "border": null,
            "bottom": null,
            "display": null,
            "flex": null,
            "flex_flow": null,
            "grid_area": null,
            "grid_auto_columns": null,
            "grid_auto_flow": null,
            "grid_auto_rows": null,
            "grid_column": null,
            "grid_gap": null,
            "grid_row": null,
            "grid_template_areas": null,
            "grid_template_columns": null,
            "grid_template_rows": null,
            "height": null,
            "justify_content": null,
            "justify_items": null,
            "left": null,
            "margin": null,
            "max_height": null,
            "max_width": null,
            "min_height": null,
            "min_width": null,
            "object_fit": null,
            "object_position": null,
            "order": null,
            "overflow": null,
            "overflow_x": null,
            "overflow_y": null,
            "padding": null,
            "right": null,
            "top": null,
            "visibility": null,
            "width": null
          }
        },
        "9dda7b2aa7484234a58cf89fbb9fa997": {
          "model_module": "@jupyter-widgets/controls",
          "model_name": "DescriptionStyleModel",
          "model_module_version": "1.5.0",
          "state": {
            "_model_module": "@jupyter-widgets/controls",
            "_model_module_version": "1.5.0",
            "_model_name": "DescriptionStyleModel",
            "_view_count": null,
            "_view_module": "@jupyter-widgets/base",
            "_view_module_version": "1.2.0",
            "_view_name": "StyleView",
            "description_width": ""
          }
        },
        "8825d321ac584c47a755d7c979d79383": {
          "model_module": "@jupyter-widgets/base",
          "model_name": "LayoutModel",
          "model_module_version": "1.2.0",
          "state": {
            "_model_module": "@jupyter-widgets/base",
            "_model_module_version": "1.2.0",
            "_model_name": "LayoutModel",
            "_view_count": null,
            "_view_module": "@jupyter-widgets/base",
            "_view_module_version": "1.2.0",
            "_view_name": "LayoutView",
            "align_content": null,
            "align_items": null,
            "align_self": null,
            "border": null,
            "bottom": null,
            "display": null,
            "flex": null,
            "flex_flow": null,
            "grid_area": null,
            "grid_auto_columns": null,
            "grid_auto_flow": null,
            "grid_auto_rows": null,
            "grid_column": null,
            "grid_gap": null,
            "grid_row": null,
            "grid_template_areas": null,
            "grid_template_columns": null,
            "grid_template_rows": null,
            "height": null,
            "justify_content": null,
            "justify_items": null,
            "left": null,
            "margin": null,
            "max_height": null,
            "max_width": null,
            "min_height": null,
            "min_width": null,
            "object_fit": null,
            "object_position": null,
            "order": null,
            "overflow": null,
            "overflow_x": null,
            "overflow_y": null,
            "padding": null,
            "right": null,
            "top": null,
            "visibility": null,
            "width": null
          }
        },
        "03e4a4a576f940559560aac9c1cd481a": {
          "model_module": "@jupyter-widgets/controls",
          "model_name": "ProgressStyleModel",
          "model_module_version": "1.5.0",
          "state": {
            "_model_module": "@jupyter-widgets/controls",
            "_model_module_version": "1.5.0",
            "_model_name": "ProgressStyleModel",
            "_view_count": null,
            "_view_module": "@jupyter-widgets/base",
            "_view_module_version": "1.2.0",
            "_view_name": "StyleView",
            "bar_color": null,
            "description_width": ""
          }
        },
        "4e07c676e0b84962988dfca69c1dc7b7": {
          "model_module": "@jupyter-widgets/base",
          "model_name": "LayoutModel",
          "model_module_version": "1.2.0",
          "state": {
            "_model_module": "@jupyter-widgets/base",
            "_model_module_version": "1.2.0",
            "_model_name": "LayoutModel",
            "_view_count": null,
            "_view_module": "@jupyter-widgets/base",
            "_view_module_version": "1.2.0",
            "_view_name": "LayoutView",
            "align_content": null,
            "align_items": null,
            "align_self": null,
            "border": null,
            "bottom": null,
            "display": null,
            "flex": null,
            "flex_flow": null,
            "grid_area": null,
            "grid_auto_columns": null,
            "grid_auto_flow": null,
            "grid_auto_rows": null,
            "grid_column": null,
            "grid_gap": null,
            "grid_row": null,
            "grid_template_areas": null,
            "grid_template_columns": null,
            "grid_template_rows": null,
            "height": null,
            "justify_content": null,
            "justify_items": null,
            "left": null,
            "margin": null,
            "max_height": null,
            "max_width": null,
            "min_height": null,
            "min_width": null,
            "object_fit": null,
            "object_position": null,
            "order": null,
            "overflow": null,
            "overflow_x": null,
            "overflow_y": null,
            "padding": null,
            "right": null,
            "top": null,
            "visibility": null,
            "width": null
          }
        },
        "7edddb8207bc445ba38d24fd31382b14": {
          "model_module": "@jupyter-widgets/controls",
          "model_name": "DescriptionStyleModel",
          "model_module_version": "1.5.0",
          "state": {
            "_model_module": "@jupyter-widgets/controls",
            "_model_module_version": "1.5.0",
            "_model_name": "DescriptionStyleModel",
            "_view_count": null,
            "_view_module": "@jupyter-widgets/base",
            "_view_module_version": "1.2.0",
            "_view_name": "StyleView",
            "description_width": ""
          }
        }
      }
    }
  },
  "cells": [
    {
      "cell_type": "markdown",
      "metadata": {
        "id": "b8UR_xA3H32-"
      },
      "source": [
        "\n",
        "Here is Fashion MNIST training from scratch without using model.fit(...) method and keras.optimizers.\n",
        "Main purpose of such approach: understanding NN training process"
      ]
    },
    {
      "cell_type": "markdown",
      "metadata": {
        "id": "8niqIIJNImeh"
      },
      "source": [
        "This example gives accuracy = 80% (+-0.5%) after 30 epoch on test dataset (please, check it).\n",
        "\n",
        "**Task**: without changing Neural Network architecture reach accuracy on **test** dataset>= 90%. (i.e. model must contain only 3 trainable layers and they must be Fully Connected (Dense) as it is below, \n",
        "but you can add non-trainable parameters, decrease neurons number) \n",
        "\n",
        "**Auxiliary task**: create evaluation function to calculate accuracy for this classification problem, create your custom loss_function(y_true, y_pred), describe impact of each your improvement\n",
        "\n",
        "It is prohibited to use: model.fit(...) and tf.keras.optimizers(but it is allowed to inherit from tf.optimizers.Optimizer and write your own optimizer). So, you have to implement train process and optimizer (like at this example).\n"
      ]
    },
    {
      "cell_type": "markdown",
      "metadata": {
        "id": "xdUZtsVTDYGh"
      },
      "source": [
        "Advices: You are able to change :\n",
        "\n",
        "\n",
        "*   pre-processing\n",
        "*   data augmentation\n",
        "*   optimization process (SGD + momentum, Adam, RMSProp, etc)\n",
        "*   regularization\n",
        "*   learning rate schedule\n",
        "*   loss function\n",
        "*   add Normalization layers without training parameters\n",
        "*   your approach\n",
        "\n",
        "It is recommended to describe why your changes lead to the accuracy improvement"
      ]
    },
    {
      "cell_type": "markdown",
      "source": [
        "## **Importing all necessary packages**"
      ],
      "metadata": {
        "id": "C35eorD-_CpZ"
      }
    },
    {
      "cell_type": "code",
      "metadata": {
        "colab": {
          "base_uri": "https://localhost:8080/"
        },
        "id": "EVRB56diZh1e",
        "outputId": "eee864c7-4d8e-4264-b112-64f09ab11d5d"
      },
      "source": [
        "import math\n",
        "import random\n",
        "random.seed(2022)\n",
        "import numpy as np\n",
        "from tqdm import tqdm\n",
        "import tensorflow as tf\n",
        "tf.random.set_seed(2022)\n",
        "import tensorflow_datasets as tfds\n",
        "print(tf.__version__)\n",
        "\n",
        "from matplotlib import rcParams\n",
        "from matplotlib import pyplot as plt"
      ],
      "execution_count": null,
      "outputs": [
        {
          "output_type": "stream",
          "name": "stdout",
          "text": [
            "2.8.2\n"
          ]
        }
      ]
    },
    {
      "cell_type": "markdown",
      "source": [
        "# **Data loading**"
      ],
      "metadata": {
        "id": "nCG81lBx_M6T"
      }
    },
    {
      "cell_type": "code",
      "metadata": {
        "id": "t2ZXi3E0lPOJ",
        "colab": {
          "base_uri": "https://localhost:8080/",
          "height": 168,
          "referenced_widgets": [
            "1019c5386e7440a8b1d3afa8cf4f34df",
            "3e38561301934cc0a1db401e31960f03",
            "101cdf5254ea49faaa8c92882c7eff37",
            "6619492ce2764120a5205ada59405a1c",
            "2fc774b6653b402e8d60e7c874407dd2",
            "c65fb71c5b374a128ade6aaed264b377",
            "e97c013a09cb42cab9e0329b4338a7e1",
            "c32480ed36cb46118c49e8b1c2416653",
            "f65dbf57dd8c4dc99e5c75c04698b0a8",
            "cfd284a66181480195531694b583d4d4",
            "5db2f5dbfb4443c7a60d1dfec95f1a83",
            "b3eb87f8e0164e47be9a1beb05958428",
            "23e91690ef8b4b21824b306775b59796",
            "2af5c95ea54148448dd993aabe495799",
            "293d07742fb449129f53c5ee83419141",
            "f2a71828295447ed8f269a2e069b81b0",
            "7999b89b96f3450d8d96ce7893eaccd3",
            "b308c01b5c594299b5abd2e7c737f071",
            "8ad33ebe60924d5f80d51e839b09f16d",
            "962cb48d557e4db49291555453e926b6",
            "736e3e474c4a428eae4235fc1bbef0b0",
            "2b5e97b2c12f47a2a5a49345b7577add",
            "9f77579472cb4da5b576aa8a6110fadf",
            "a07096ce0c8b4dd9be5a41abd2be02ab",
            "49dd1557c7e1440a852c4d92bb0526f4",
            "79629e8809854b2b8ff2a0ff97ed652b",
            "c17ff3ffe8b94e2bb6fcecb2dd5ef67d",
            "d7d40053860546f99465672217a8daf8",
            "b4c99be8a29b437daf6376905fc72516",
            "3146659de85a4cc596234f4a471433e6",
            "986bfec75f744809847d7d40eed051fa",
            "fe3be3cc1a394744988b36f5c2705145",
            "8759562952be4447a8f44195b74a2b6b",
            "8ea765c643f94ab98a38f6f1e0675607",
            "298dad516fca4e7bab30aad8e2c249aa",
            "125aa36fe4c947a89d98876a32c80f98",
            "5aed8cd7915b44ac98ac2fe93c052602",
            "afd43050e699413ab6e69df0ee49966d",
            "0254c78a7f234a7eb18d16dde20cc203",
            "60536a06d4584c4f81644e5b4dfc8c95",
            "4af0261a24584f0ab920287b976d8860",
            "0d873ff0dda448ad885d63ae30409725",
            "8dd5a831211242a8a56a55d8c11fb451",
            "4de9e9e233954a7482f9df74396f8216",
            "d70c24524db34513bb80324040447850",
            "f9673bcb3d0248fb86b0effac4d942e9",
            "ed937ae6a209456c9aef5537dda7c95b",
            "ef7cf6fc21df4f3f9f7942d36dab24c5",
            "fd96622292914372bb606d2323a7bc8e",
            "899cb9d38bb047bb8ff93c0beccb2307",
            "31b7da57a94a4e168f28f3e05797892f",
            "0e4b10d3d76d4cc48342cd9293790d16",
            "64a20556e7f446e38e14eefb1f697990",
            "2585b9f94bd144ee85b0d30cb47c540f",
            "d7722a35019643ef8a493a0c624cf622",
            "2bf5d5b1bd5f469d823026da3f5a065a",
            "77143dfb8257410f94f2bc56505c1b6c",
            "0a7201019345443aaf51ac3e62d7ad79",
            "b5a26c73c2684cc39280a458396decf9",
            "1b69f3a4d15649f2b8039d3a4b8a777d",
            "51077107e5f541a587c152241b40b3ec",
            "6c54925d60334839a7975faceddfe34d",
            "8548f3b688dc4d7caae84d8498d56ca9",
            "346a99ec9deb47058f12b06c0d40274c",
            "9ec13a22438146b390f62957222e90c5",
            "cb29198aa43b49259f5a09f58761b50c",
            "fb191da12e8a4e2092d1066acbb4a814",
            "3e9a02ac677046cbbd3a45c4be79b7d8",
            "189f9e305a594e9394c3cfa1ec175e75",
            "35ab6d50abcd49c3beefc08e0ed9653f",
            "bb12f23fe27e46aebc99866647b426ce",
            "d5f836d643624e8fa906e51185e2d9e6",
            "f6612201461f4d1d8bb25bf20cb73c83",
            "c92821451339448a92537bca001214d0",
            "20e95397c2db4f15a38d477b1583c09c",
            "e9653df84cff47ec80a925d448075225",
            "91725242636247009bdb3a89e37d1e97",
            "1d1c7150e3054bde8a37c22db92eb1b3",
            "a009bb990e4447f0aa1308cb2dcacfd6",
            "6661785da93e4fe1ac12b1d75c6116cf",
            "c44d0d49b12c427792b9da81e2fca666",
            "540e6fd1a5f94a34a28e8474aba768c0",
            "96e13996af0043a4a6a813685bea4eed",
            "9dda7b2aa7484234a58cf89fbb9fa997",
            "8825d321ac584c47a755d7c979d79383",
            "03e4a4a576f940559560aac9c1cd481a",
            "4e07c676e0b84962988dfca69c1dc7b7",
            "7edddb8207bc445ba38d24fd31382b14"
          ]
        },
        "outputId": "8b6e9b16-6df2-42d7-fa23-1adbb64d6402"
      },
      "source": [
        "# splitting train MNIST Fashion data into validation and training sets\n",
        "# and loading test data\n",
        "(train_data, validation_data), info  = tfds.load(\"fashion_mnist\", with_info = True, split = [\"train[:98%]\", \"train[98%:]\"])\n",
        "test_data = tfds.load(\"fashion_mnist\", split = \"test\")"
      ],
      "execution_count": null,
      "outputs": [
        {
          "output_type": "stream",
          "name": "stdout",
          "text": [
            "\u001b[1mDownloading and preparing dataset 29.45 MiB (download: 29.45 MiB, generated: 36.42 MiB, total: 65.87 MiB) to ~/tensorflow_datasets/fashion_mnist/3.0.1...\u001b[0m\n"
          ]
        },
        {
          "output_type": "display_data",
          "data": {
            "text/plain": [
              "Dl Completed...: 0 url [00:00, ? url/s]"
            ],
            "application/vnd.jupyter.widget-view+json": {
              "version_major": 2,
              "version_minor": 0,
              "model_id": "1019c5386e7440a8b1d3afa8cf4f34df"
            }
          },
          "metadata": {}
        },
        {
          "output_type": "display_data",
          "data": {
            "text/plain": [
              "Dl Size...: 0 MiB [00:00, ? MiB/s]"
            ],
            "application/vnd.jupyter.widget-view+json": {
              "version_major": 2,
              "version_minor": 0,
              "model_id": "b3eb87f8e0164e47be9a1beb05958428"
            }
          },
          "metadata": {}
        },
        {
          "output_type": "display_data",
          "data": {
            "text/plain": [
              "Extraction completed...: 0 file [00:00, ? file/s]"
            ],
            "application/vnd.jupyter.widget-view+json": {
              "version_major": 2,
              "version_minor": 0,
              "model_id": "9f77579472cb4da5b576aa8a6110fadf"
            }
          },
          "metadata": {}
        },
        {
          "output_type": "display_data",
          "data": {
            "text/plain": [
              "Generating splits...:   0%|          | 0/2 [00:00<?, ? splits/s]"
            ],
            "application/vnd.jupyter.widget-view+json": {
              "version_major": 2,
              "version_minor": 0,
              "model_id": "8ea765c643f94ab98a38f6f1e0675607"
            }
          },
          "metadata": {}
        },
        {
          "output_type": "display_data",
          "data": {
            "text/plain": [
              "Generating train examples...:   0%|          | 0/60000 [00:00<?, ? examples/s]"
            ],
            "application/vnd.jupyter.widget-view+json": {
              "version_major": 2,
              "version_minor": 0,
              "model_id": "d70c24524db34513bb80324040447850"
            }
          },
          "metadata": {}
        },
        {
          "output_type": "display_data",
          "data": {
            "text/plain": [
              "Shuffling ~/tensorflow_datasets/fashion_mnist/3.0.1.incomplete8S28TD/fashion_mnist-train.tfrecord*...:   0%|  …"
            ],
            "application/vnd.jupyter.widget-view+json": {
              "version_major": 2,
              "version_minor": 0,
              "model_id": "2bf5d5b1bd5f469d823026da3f5a065a"
            }
          },
          "metadata": {}
        },
        {
          "output_type": "display_data",
          "data": {
            "text/plain": [
              "Generating test examples...:   0%|          | 0/10000 [00:00<?, ? examples/s]"
            ],
            "application/vnd.jupyter.widget-view+json": {
              "version_major": 2,
              "version_minor": 0,
              "model_id": "fb191da12e8a4e2092d1066acbb4a814"
            }
          },
          "metadata": {}
        },
        {
          "output_type": "display_data",
          "data": {
            "text/plain": [
              "Shuffling ~/tensorflow_datasets/fashion_mnist/3.0.1.incomplete8S28TD/fashion_mnist-test.tfrecord*...:   0%|   …"
            ],
            "application/vnd.jupyter.widget-view+json": {
              "version_major": 2,
              "version_minor": 0,
              "model_id": "1d1c7150e3054bde8a37c22db92eb1b3"
            }
          },
          "metadata": {}
        },
        {
          "output_type": "stream",
          "name": "stdout",
          "text": [
            "\u001b[1mDataset fashion_mnist downloaded and prepared to ~/tensorflow_datasets/fashion_mnist/3.0.1. Subsequent calls will reuse this data.\u001b[0m\n"
          ]
        }
      ]
    },
    {
      "cell_type": "markdown",
      "source": [
        "#**Exploratory Data Analysis**"
      ],
      "metadata": {
        "id": "1b-ZFr1-_RsC"
      }
    },
    {
      "cell_type": "code",
      "metadata": {
        "id": "NFQraBB7cJi2"
      },
      "source": [
        "names = [\"T-shirt/top\", \"Trouser\", \"Pullover\", \"Dress\", \"Coat\", \"Sandal\", \"Shirt\", \"Sneaker\",\t\"Bag\",\t\"Ankle boot\"]"
      ],
      "execution_count": null,
      "outputs": []
    },
    {
      "cell_type": "code",
      "metadata": {
        "id": "zqwWo5iIdfIT"
      },
      "source": [
        "from matplotlib import rcParams\n",
        "from matplotlib import pyplot as plt\n",
        "rcParams[\"figure.figsize\"] = [10,10]\n",
        "rcParams['xtick.labelbottom'] = False"
      ],
      "execution_count": null,
      "outputs": []
    },
    {
      "cell_type": "code",
      "metadata": {
        "colab": {
          "base_uri": "https://localhost:8080/",
          "height": 588
        },
        "id": "22jvzqepPuSa",
        "outputId": "3b886d31-9998-4669-9e58-c884528b1f6e"
      },
      "source": [
        "for idx, elem in enumerate(train_data.take(25)):\n",
        "  plt.subplot(5, 5, idx+1, title = names[elem['label'].numpy()] )\n",
        "  plt.imshow(elem['image'][:,:,0])\n",
        "  # adding plt.colorbar() to get a pixel values range\n",
        "  plt.colorbar()"
      ],
      "execution_count": null,
      "outputs": [
        {
          "output_type": "display_data",
          "data": {
            "text/plain": [
              "<Figure size 720x720 with 50 Axes>"
            ],
            "image/png": "[encoded data removed]"
          },
          "metadata": {
            "needs_background": "light"
          }
        }
      ]
    },
    {
      "cell_type": "code",
      "source": [
        "TRAIN_DATA_LENGTH = len(list(train_data))\n",
        "VALIDATION_DATA_LENGTH = len(list(validation_data))\n",
        "TEST_DATA_LENGTH = len(list(test_data))\n",
        "\n",
        "print(\"Size of the training dataset: {} samples\".format(TRAIN_DATA_LENGTH))\n",
        "print(\"Size of the validation dataset: {} samples\".format(VALIDATION_DATA_LENGTH))\n",
        "print(\"Size of the test dataset: {} samples\".format(TEST_DATA_LENGTH))"
      ],
      "metadata": {
        "colab": {
          "base_uri": "https://localhost:8080/"
        },
        "id": "0Fp84LI9_Z_d",
        "outputId": "55d14094-4ba5-4e88-8519-34e307eead71"
      },
      "execution_count": null,
      "outputs": [
        {
          "output_type": "stream",
          "name": "stdout",
          "text": [
            "Size of the training dataset: 58800 samples\n",
            "Size of the validation dataset: 1200 samples\n",
            "Size of the test dataset: 10000 samples\n"
          ]
        }
      ]
    },
    {
      "cell_type": "code",
      "source": [
        "# Next step is to get the distribution of classes per each sub-set \n",
        "# (training, validation and test)\n",
        "LABELS = {0 : \"T-shirt/top\", 1: \"Trouser\", 2: \"Pullover\", 3: \"Dress\", 4: \"Coat\",\n",
        "          5: \"Sandal\", 6: \"Shirt\", 7: \"Sneaker\", 8: \"Bag\", 9: \"Ankle Boot\"}\n",
        "\n",
        "def get_distribution_of_classes(data, num_of_samples):\n",
        "  \"\"\"Computes the distribution of each class in a subset.\n",
        "Args:\n",
        "  data: a `PrefetchDataset` representing one of three subsets.\n",
        "  num_of_samples: a `int` value that shows the length of a subset.\n",
        "Returns:\n",
        "  A `dict` {int: int} representing number of samples per each class.\n",
        "  \"\"\"\n",
        "  distribution_dict = {val:0 for val in range(10)}\n",
        "  for idx, elem in enumerate(data.take(num_of_samples)):\n",
        "    distribution_dict[elem['label'].numpy()] += 1\n",
        "\n",
        "  return distribution_dict\n",
        "\n",
        "def print_distribution_of_classes(dist_dictionary):\n",
        "  \"\"\"Prints the distribution of each class in a subset.\n",
        "Args:\n",
        "  dist_dictionary: a `dict`  {int: int} representing number of samples per each class.\n",
        "  \"\"\"\n",
        "  for i in range(10):\n",
        "    print(\"{:<12s}:   {}\".format(LABELS[i], dist_dictionary[i]))\n",
        "\n",
        "def plot_distribution(dist_dictionary):\n",
        "  \"\"\"Plots the barplot for distribution of each class in a subset.\n",
        "Args:\n",
        "  dist_dictionary: a `dict`  {int: int} representing number of samples per each class.\n",
        "  \"\"\"\n",
        "  for i in range(10):\n",
        "    plt.bar(i, dist_dictionary[i], align='center')\n",
        "  plt.xticks(np.arange(10), LABELS.values(), rotation=45, visible = True)\n",
        "  plt.show()"
      ],
      "metadata": {
        "id": "EvB-tFCV_dUT"
      },
      "execution_count": null,
      "outputs": []
    },
    {
      "cell_type": "code",
      "source": [
        "# Distribution of the training data\n",
        "train_distribution = get_distribution_of_classes(train_data, TRAIN_DATA_LENGTH)\n",
        "print_distribution_of_classes(train_distribution)"
      ],
      "metadata": {
        "colab": {
          "base_uri": "https://localhost:8080/"
        },
        "id": "T4CkC65B_hGP",
        "outputId": "e2d6c32c-4e11-4c30-938d-8ec3fc46c4d0"
      },
      "execution_count": null,
      "outputs": [
        {
          "output_type": "stream",
          "name": "stdout",
          "text": [
            "T-shirt/top :   5868\n",
            "Trouser     :   5873\n",
            "Pullover    :   5865\n",
            "Dress       :   5886\n",
            "Coat        :   5884\n",
            "Sandal      :   5872\n",
            "Shirt       :   5900\n",
            "Sneaker     :   5884\n",
            "Bag         :   5886\n",
            "Ankle Boot  :   5882\n"
          ]
        }
      ]
    },
    {
      "cell_type": "code",
      "source": [
        "plot_distribution(train_distribution)"
      ],
      "metadata": {
        "colab": {
          "base_uri": "https://localhost:8080/",
          "height": 679
        },
        "id": "gpBKFiB8_jCd",
        "outputId": "6f92334f-7fed-464e-a30f-101269373dfa"
      },
      "execution_count": null,
      "outputs": [
        {
          "output_type": "display_data",
          "data": {
            "text/plain": [
              "<Figure size 720x720 with 1 Axes>"
            ],
            "image/png": "[encoded data removed]"
          },
          "metadata": {
            "needs_background": "light"
          }
        }
      ]
    },
    {
      "cell_type": "code",
      "source": [
        "# Distribution of the validation data\n",
        "validation_distribution = get_distribution_of_classes(validation_data, VALIDATION_DATA_LENGTH)\n",
        "print_distribution_of_classes(validation_distribution)"
      ],
      "metadata": {
        "colab": {
          "base_uri": "https://localhost:8080/"
        },
        "id": "MRwOfPmH_i7b",
        "outputId": "92876c42-fbec-4def-8362-ecfa4c7711f4"
      },
      "execution_count": null,
      "outputs": [
        {
          "output_type": "stream",
          "name": "stdout",
          "text": [
            "T-shirt/top :   132\n",
            "Trouser     :   127\n",
            "Pullover    :   135\n",
            "Dress       :   114\n",
            "Coat        :   116\n",
            "Sandal      :   128\n",
            "Shirt       :   100\n",
            "Sneaker     :   116\n",
            "Bag         :   114\n",
            "Ankle Boot  :   118\n"
          ]
        }
      ]
    },
    {
      "cell_type": "code",
      "source": [
        "plot_distribution(validation_distribution)"
      ],
      "metadata": {
        "colab": {
          "base_uri": "https://localhost:8080/",
          "height": 679
        },
        "id": "3UAjr5kR_iyB",
        "outputId": "abe11a6b-b888-4491-c243-4576df6b1a8a"
      },
      "execution_count": null,
      "outputs": [
        {
          "output_type": "display_data",
          "data": {
            "text/plain": [
              "<Figure size 720x720 with 1 Axes>"
            ],
            "image/png": "[encoded data removed]"
          },
          "metadata": {
            "needs_background": "light"
          }
        }
      ]
    },
    {
      "cell_type": "code",
      "source": [
        "# Distribution of the test data\n",
        "test_distribution = get_distribution_of_classes(test_data, TEST_DATA_LENGTH)\n",
        "print_distribution_of_classes(test_distribution)"
      ],
      "metadata": {
        "colab": {
          "base_uri": "https://localhost:8080/"
        },
        "id": "0nfj6U7A_ioI",
        "outputId": "7e111530-b17a-4efd-be63-4d13eb8b88ce"
      },
      "execution_count": null,
      "outputs": [
        {
          "output_type": "stream",
          "name": "stdout",
          "text": [
            "T-shirt/top :   1000\n",
            "Trouser     :   1000\n",
            "Pullover    :   1000\n",
            "Dress       :   1000\n",
            "Coat        :   1000\n",
            "Sandal      :   1000\n",
            "Shirt       :   1000\n",
            "Sneaker     :   1000\n",
            "Bag         :   1000\n",
            "Ankle Boot  :   1000\n"
          ]
        }
      ]
    },
    {
      "cell_type": "code",
      "source": [
        "plot_distribution(test_distribution)"
      ],
      "metadata": {
        "colab": {
          "base_uri": "https://localhost:8080/",
          "height": 679
        },
        "id": "ad26OUip_ikY",
        "outputId": "45f30f7f-9e88-47e3-d2c1-ee0d14083ef1"
      },
      "execution_count": null,
      "outputs": [
        {
          "output_type": "display_data",
          "data": {
            "text/plain": [
              "<Figure size 720x720 with 1 Axes>"
            ],
            "image/png": "[encoded data removed]"
          },
          "metadata": {
            "needs_background": "light"
          }
        }
      ]
    },
    {
      "cell_type": "markdown",
      "source": [
        "The splited data is almost completely balanced."
      ],
      "metadata": {
        "id": "Om4rtCRC_rOD"
      }
    },
    {
      "cell_type": "markdown",
      "source": [
        "# **Image Pre-processing**\n",
        "image pre-processing will be edited later\n"
      ],
      "metadata": {
        "id": "JlZS-Enq_uu3"
      }
    },
    {
      "cell_type": "code",
      "metadata": {
        "id": "sba9XAqNgDBc"
      },
      "source": [
        "def preprocessing(data):\n",
        "    \"\"\"Implements image preprocessing.\n",
        "Args:\n",
        "  data: a `PrefetchDataset` representing one of three subsets.\n",
        "Returns:\n",
        "  x: a `Tensor` representing image.\n",
        "  y: a `Tensor` representing label.\n",
        "    \"\"\"        \n",
        "    x = tf.reshape(data[\"image\"], [-1])\n",
        "    y = data[\"label\"]\n",
        "\n",
        "    return x, y "
      ],
      "execution_count": null,
      "outputs": []
    },
    {
      "cell_type": "code",
      "metadata": {
        "id": "2YRLy2BrilXq"
      },
      "source": [
        "train_data_pre = train_data.map(preprocessing)\n",
        "validation_data_pre = validation_data.map(preprocessing)\n",
        "test_data_pre = test_data.map(preprocessing)\n",
        "\n",
        "batch_size = 64 \n",
        "train_data_pre = train_data_pre.batch(batch_size)\n",
        "validation_data_pre = validation_data_pre.batch(batch_size)\n",
        "test_data_pre = test_data_pre.batch(batch_size)\n"
      ],
      "execution_count": null,
      "outputs": []
    },
    {
      "cell_type": "markdown",
      "source": [
        "# **Base Model Architecture**"
      ],
      "metadata": {
        "id": "ln1XrVSg_0fk"
      }
    },
    {
      "cell_type": "code",
      "metadata": {
        "id": "qq01viv_jr5t",
        "colab": {
          "base_uri": "https://localhost:8080/"
        },
        "outputId": "292b3086-3275-4a14-fb7a-289abb7ef218"
      },
      "source": [
        "# You are able to modify base_model(), but requirements: \n",
        "# 1)Trainable params <= 55,050\n",
        "# 2)Model contains only 3 fully-connected trainable layers.\n",
        "def base_model():\n",
        "  inputs = tf.keras.Input(shape=(784,))\n",
        "  x = tf.keras.layers.Dense(64, activation='relu')(inputs)\n",
        "  x = tf.keras.layers.Dense(64, activation='relu')(x)\n",
        "  outputs = tf.keras.layers.Dense(10, activation='softmax')(x)\n",
        "  model = tf.keras.Model(inputs=inputs, outputs=outputs)\n",
        "  return model\n",
        "\n",
        "model = base_model()\n",
        "model.summary()"
      ],
      "execution_count": null,
      "outputs": [
        {
          "output_type": "stream",
          "name": "stdout",
          "text": [
            "Model: \"model\"\n",
            "_________________________________________________________________\n",
            " Layer (type)                Output Shape              Param #   \n",
            "=================================================================\n",
            " input_1 (InputLayer)        [(None, 784)]             0         \n",
            "                                                                 \n",
            " dense (Dense)               (None, 64)                50240     \n",
            "                                                                 \n",
            " dense_1 (Dense)             (None, 64)                4160      \n",
            "                                                                 \n",
            " dense_2 (Dense)             (None, 10)                650       \n",
            "                                                                 \n",
            "=================================================================\n",
            "Total params: 55,050\n",
            "Trainable params: 55,050\n",
            "Non-trainable params: 0\n",
            "_________________________________________________________________\n"
          ]
        }
      ]
    },
    {
      "cell_type": "markdown",
      "metadata": {
        "id": "CJLDWc56aU0t"
      },
      "source": [
        "TODO: write your own imlementation of the **loss function**, \n",
        "i.e. implement **loss_func(y_true, y_pred)** and use it  \n",
        "instead of tf.keras.losses.SparseCategoricalCrossentropy()"
      ]
    },
    {
      "cell_type": "code",
      "source": [
        "def custom_categorical_crossentropy_loss(y, predicted):\n",
        "  \"\"\"Implements the crossentropy loss using 'auto'/'sum_over_batch_size' reduction type:\n",
        "  https://www.tensorflow.org/api_docs/python/tf/keras/losses/CategoricalCrossentropy\n",
        "Args:\n",
        "  y: a `Tensor` representing ground truth label.\n",
        "  predicted: a `Tensor` representing predicted value.\n",
        "Returns:\n",
        "  `Tensor` representing crossentropy loss value.\n",
        "  \"\"\" \n",
        "  size = y.shape[0]\n",
        "  return -1 / size * (tf.reduce_sum(y * tf.math.log(predicted + 10 ** -10)))"
      ],
      "metadata": {
        "id": "Ahdhkbal_4Pu"
      },
      "execution_count": null,
      "outputs": []
    },
    {
      "cell_type": "code",
      "source": [
        "@tf.function\n",
        "def train_step(model_to_be_trained, x, y):\n",
        "  \"\"\"Implements gradients computation and weights update.\n",
        "Args:\n",
        "  model_to_be_trained: a `tf.Functional` representing built model.\n",
        "  x: a `Tensor` representing input batch of images.\n",
        "  y: a `Tensor` representing input batch of labels.\n",
        "Returns:\n",
        "  loss: `Tensor` representing crossentropy loss value.\n",
        "  pred: `Tensor` representing predicted values (batch)\n",
        "  \"\"\" \n",
        "  lr = 0.0004\n",
        "  with tf.GradientTape() as tape:\n",
        "    pred = model_to_be_trained(x, training=True)\n",
        "    loss = custom_categorical_crossentropy_loss(y, pred)\n",
        "    gradients = tape.gradient(loss, model_to_be_trained.trainable_variables)\n",
        "\n",
        "    new_weights = []\n",
        "    for w, grad in zip(model_to_be_trained.trainable_variables, gradients):\n",
        "      new_weights.append(w - lr*grad)\n",
        "\n",
        "    for v, w in zip (model_to_be_trained.trainable_variables, new_weights):\n",
        "      v.assign(w)\n",
        "  return loss, pred"
      ],
      "metadata": {
        "id": "IMufgTcw_6Md"
      },
      "execution_count": null,
      "outputs": []
    },
    {
      "cell_type": "markdown",
      "source": [
        "# **Training Procedure**\n",
        "It's not mentioned that using build-it accuracy metrics prohibited. \n",
        "We will use \n",
        "\n",
        "```\n",
        "tf.keras.metrics.CategoricalAccuracy()\n",
        "```\n",
        "\n"
      ],
      "metadata": {
        "id": "KLE8PZnmAA1d"
      }
    },
    {
      "cell_type": "code",
      "source": [
        "def training_loop(model_to_be_trained, train_data, val_data, epoch_num, train_metric, val_metric):\n",
        "  \"\"\"Implements custom training loop.\n",
        "Args:\n",
        "  model_to_be_trained: a `tf.Functional` representing built model.\n",
        "  train_data: a `BatchDataset` representing input batch of images and labels for training.\n",
        "  val_data: a `BatchDataset` representing input batch of images and labels for validation.\n",
        "  epoch_num: an `int` value representing number of epochs.\n",
        "  train_metric: a `tf.keras.metrics` value representing accuracy metric for training.\n",
        "  val_metric: a `tf.keras.metrics` value representing accuracy metric for validation.\n",
        "Returns:\n",
        "  `list` of four metrics during training: training loss and accuracy, \n",
        "          validation loss and accuracy.\n",
        "  \"\"\" \n",
        "  training_loss_history = list()\n",
        "  validation_loss_history = list()\n",
        "  training_accuracy_history = list()\n",
        "  validation_accuracy_history = list()\n",
        "  for epoch in range(epoch_num):\n",
        "    print(\"------------------------------\")\n",
        "    print(\"epoch {}:\".format(epoch))\n",
        "    training_losses = list()\n",
        "    for step, (x, y) in enumerate(tqdm(train_data_pre)):\n",
        "\n",
        "      y = tf.keras.utils.to_categorical(y, 10) \n",
        "      loss, prediction = train_step(model_to_be_trained, x, y)\n",
        "      \n",
        "      training_losses.append(loss)\n",
        "      train_acc_metric.update_state(y, prediction)\n",
        "    \n",
        "    avg_training_loss_per_epoch = tf.reduce_sum(tf.stack(training_losses)) / len(training_losses)\n",
        "    training_loss_history.append(avg_training_loss_per_epoch)\n",
        "    training_accuracy_history.append(train_acc_metric.result().numpy())\n",
        "\n",
        "    print(\"Average training loss on epoch #{}: {}\".format(epoch, avg_training_loss_per_epoch.numpy()))\n",
        "    print(\"Training accuracy on epoch #{}: {}\".format(epoch, train_acc_metric.result().numpy()))\n",
        "    \n",
        "    validation_losses = list()\n",
        "    for (x, y) in validation_data_pre:\n",
        "      y = tf.keras.utils.to_categorical(y, 10) \n",
        "      prediction = model_to_be_trained(x, training=False)\n",
        "\n",
        "      loss = custom_categorical_crossentropy_loss(y, prediction)\n",
        "      validation_losses.append(loss)\n",
        "      val_acc_metric.update_state(y, prediction)\n",
        "      \n",
        "    avg_validation_loss_per_epoch = tf.reduce_sum(tf.stack(validation_losses)) / len(validation_losses)\n",
        "    validation_loss_history.append(avg_validation_loss_per_epoch)\n",
        "    validation_accuracy_history.append(val_acc_metric.result().numpy())\n",
        "\n",
        "    print(\"Average validation loss on epoch #{}: {}\".format(epoch, avg_validation_loss_per_epoch.numpy()))\n",
        "    print(\"Validation accuracy on epoch #{}: {}\".format(epoch, val_acc_metric.result().numpy()))\n",
        "\n",
        "  return [training_loss_history, validation_loss_history, \n",
        "          training_accuracy_history, validation_accuracy_history]"
      ],
      "metadata": {
        "id": "c7t5LHEGAD5m"
      },
      "execution_count": null,
      "outputs": []
    },
    {
      "cell_type": "code",
      "source": [
        "EPOCHS_NUM = 30\n",
        "train_acc_metric = tf.keras.metrics.CategoricalAccuracy()\n",
        "val_acc_metric = tf.keras.metrics.CategoricalAccuracy()\n",
        "\n",
        "training_loss_history, validation_loss_history, training_accuracy_history, validation_accuracy_history = training_loop(model, train_data_pre, validation_data_pre, EPOCHS_NUM, train_acc_metric, val_acc_metric)"
      ],
      "metadata": {
        "colab": {
          "base_uri": "https://localhost:8080/"
        },
        "id": "UOxZDE4oAF4r",
        "outputId": "6bde59e5-2b52-4135-f2c7-6f808815705e"
      },
      "execution_count": null,
      "outputs": [
        {
          "output_type": "stream",
          "name": "stdout",
          "text": [
            "------------------------------\n",
            "epoch 0:\n"
          ]
        },
        {
          "output_type": "stream",
          "name": "stderr",
          "text": [
            "100%|██████████| 919/919 [00:04<00:00, 219.54it/s]\n"
          ]
        },
        {
          "output_type": "stream",
          "name": "stdout",
          "text": [
            "Average training loss on epoch #0: 0.5393186807632446\n",
            "Training accuracy on epoch #0: 0.8136734962463379\n",
            "Average validation loss on epoch #0: 0.55312579870224\n",
            "Validation accuracy on epoch #0: 0.8100000023841858\n",
            "------------------------------\n",
            "epoch 1:\n"
          ]
        },
        {
          "output_type": "stream",
          "name": "stderr",
          "text": [
            "100%|██████████| 919/919 [00:05<00:00, 179.42it/s]\n"
          ]
        },
        {
          "output_type": "stream",
          "name": "stdout",
          "text": [
            "Average training loss on epoch #1: 0.5232719779014587\n",
            "Training accuracy on epoch #1: 0.8161224722862244\n",
            "Average validation loss on epoch #1: 0.5364145040512085\n",
            "Validation accuracy on epoch #1: 0.809166669845581\n",
            "------------------------------\n",
            "epoch 2:\n"
          ]
        },
        {
          "output_type": "stream",
          "name": "stderr",
          "text": [
            "100%|██████████| 919/919 [00:05<00:00, 178.71it/s]\n"
          ]
        },
        {
          "output_type": "stream",
          "name": "stdout",
          "text": [
            "Average training loss on epoch #2: 0.5103322863578796\n",
            "Training accuracy on epoch #2: 0.8175169825553894\n",
            "Average validation loss on epoch #2: 0.534000813961029\n",
            "Validation accuracy on epoch #2: 0.8088889122009277\n",
            "------------------------------\n",
            "epoch 3:\n"
          ]
        },
        {
          "output_type": "stream",
          "name": "stderr",
          "text": [
            "100%|██████████| 919/919 [00:05<00:00, 179.47it/s]\n"
          ]
        },
        {
          "output_type": "stream",
          "name": "stdout",
          "text": [
            "Average training loss on epoch #3: 0.4987427294254303\n",
            "Training accuracy on epoch #3: 0.8192134499549866\n",
            "Average validation loss on epoch #3: 0.5238766670227051\n",
            "Validation accuracy on epoch #3: 0.8100000023841858\n",
            "------------------------------\n",
            "epoch 4:\n"
          ]
        },
        {
          "output_type": "stream",
          "name": "stderr",
          "text": [
            "100%|██████████| 919/919 [00:05<00:00, 179.36it/s]\n"
          ]
        },
        {
          "output_type": "stream",
          "name": "stdout",
          "text": [
            "Average training loss on epoch #4: 0.4887990951538086\n",
            "Training accuracy on epoch #4: 0.8209353685379028\n",
            "Average validation loss on epoch #4: 0.5165307521820068\n",
            "Validation accuracy on epoch #4: 0.8115000128746033\n",
            "------------------------------\n",
            "epoch 5:\n"
          ]
        },
        {
          "output_type": "stream",
          "name": "stderr",
          "text": [
            "100%|██████████| 919/919 [00:04<00:00, 228.42it/s]\n"
          ]
        },
        {
          "output_type": "stream",
          "name": "stdout",
          "text": [
            "Average training loss on epoch #5: 0.4794851243495941\n",
            "Training accuracy on epoch #5: 0.8223441243171692\n",
            "Average validation loss on epoch #5: 0.511643648147583\n",
            "Validation accuracy on epoch #5: 0.8123611211776733\n",
            "------------------------------\n",
            "epoch 6:\n"
          ]
        },
        {
          "output_type": "stream",
          "name": "stderr",
          "text": [
            "100%|██████████| 919/919 [00:05<00:00, 179.40it/s]\n"
          ]
        },
        {
          "output_type": "stream",
          "name": "stdout",
          "text": [
            "Average training loss on epoch #6: 0.4718983471393585\n",
            "Training accuracy on epoch #6: 0.8237074613571167\n",
            "Average validation loss on epoch #6: 0.5059621930122375\n",
            "Validation accuracy on epoch #6: 0.8133333325386047\n",
            "------------------------------\n",
            "epoch 7:\n"
          ]
        },
        {
          "output_type": "stream",
          "name": "stderr",
          "text": [
            "100%|██████████| 919/919 [00:04<00:00, 227.54it/s]\n"
          ]
        },
        {
          "output_type": "stream",
          "name": "stdout",
          "text": [
            "Average training loss on epoch #7: 0.4640845060348511\n",
            "Training accuracy on epoch #7: 0.8250489234924316\n",
            "Average validation loss on epoch #7: 0.5013917088508606\n",
            "Validation accuracy on epoch #7: 0.8145833611488342\n",
            "------------------------------\n",
            "epoch 8:\n"
          ]
        },
        {
          "output_type": "stream",
          "name": "stderr",
          "text": [
            "100%|██████████| 919/919 [00:04<00:00, 225.52it/s]\n"
          ]
        },
        {
          "output_type": "stream",
          "name": "stdout",
          "text": [
            "Average training loss on epoch #8: 0.4569507837295532\n",
            "Training accuracy on epoch #8: 0.8263643383979797\n",
            "Average validation loss on epoch #8: 0.49880871176719666\n",
            "Validation accuracy on epoch #8: 0.8155555725097656\n",
            "------------------------------\n",
            "epoch 9:\n"
          ]
        },
        {
          "output_type": "stream",
          "name": "stderr",
          "text": [
            "100%|██████████| 919/919 [00:05<00:00, 179.26it/s]\n"
          ]
        },
        {
          "output_type": "stream",
          "name": "stdout",
          "text": [
            "Average training loss on epoch #9: 0.4513168931007385\n",
            "Training accuracy on epoch #9: 0.8275952339172363\n",
            "Average validation loss on epoch #9: 0.494050532579422\n",
            "Validation accuracy on epoch #9: 0.8164166808128357\n",
            "------------------------------\n",
            "epoch 10:\n"
          ]
        },
        {
          "output_type": "stream",
          "name": "stderr",
          "text": [
            "100%|██████████| 919/919 [00:03<00:00, 235.03it/s]\n"
          ]
        },
        {
          "output_type": "stream",
          "name": "stdout",
          "text": [
            "Average training loss on epoch #10: 0.4451947510242462\n",
            "Training accuracy on epoch #10: 0.8287739753723145\n",
            "Average validation loss on epoch #10: 0.4860767424106598\n",
            "Validation accuracy on epoch #10: 0.8178030252456665\n",
            "------------------------------\n",
            "epoch 11:\n"
          ]
        },
        {
          "output_type": "stream",
          "name": "stderr",
          "text": [
            "100%|██████████| 919/919 [00:04<00:00, 229.25it/s]\n"
          ]
        },
        {
          "output_type": "stream",
          "name": "stdout",
          "text": [
            "Average training loss on epoch #11: 0.43998074531555176\n",
            "Training accuracy on epoch #11: 0.8299291133880615\n",
            "Average validation loss on epoch #11: 0.48491743206977844\n",
            "Validation accuracy on epoch #11: 0.8186110854148865\n",
            "------------------------------\n",
            "epoch 12:\n"
          ]
        },
        {
          "output_type": "stream",
          "name": "stderr",
          "text": [
            "100%|██████████| 919/919 [00:03<00:00, 235.26it/s]\n"
          ]
        },
        {
          "output_type": "stream",
          "name": "stdout",
          "text": [
            "Average training loss on epoch #12: 0.4345504939556122\n",
            "Training accuracy on epoch #12: 0.8310047388076782\n",
            "Average validation loss on epoch #12: 0.4793270528316498\n",
            "Validation accuracy on epoch #12: 0.8196794986724854\n",
            "------------------------------\n",
            "epoch 13:\n"
          ]
        },
        {
          "output_type": "stream",
          "name": "stderr",
          "text": [
            "100%|██████████| 919/919 [00:03<00:00, 235.66it/s]\n"
          ]
        },
        {
          "output_type": "stream",
          "name": "stdout",
          "text": [
            "Average training loss on epoch #13: 0.42987725138664246\n",
            "Training accuracy on epoch #13: 0.8319982886314392\n",
            "Average validation loss on epoch #13: 0.4775213897228241\n",
            "Validation accuracy on epoch #13: 0.8207142949104309\n",
            "------------------------------\n",
            "epoch 14:\n"
          ]
        },
        {
          "output_type": "stream",
          "name": "stderr",
          "text": [
            "100%|██████████| 919/919 [00:05<00:00, 179.42it/s]\n"
          ]
        },
        {
          "output_type": "stream",
          "name": "stdout",
          "text": [
            "Average training loss on epoch #14: 0.4258106052875519\n",
            "Training accuracy on epoch #14: 0.8329365253448486\n",
            "Average validation loss on epoch #14: 0.47442129254341125\n",
            "Validation accuracy on epoch #14: 0.8215000033378601\n",
            "------------------------------\n",
            "epoch 15:\n"
          ]
        },
        {
          "output_type": "stream",
          "name": "stderr",
          "text": [
            "100%|██████████| 919/919 [00:05<00:00, 179.35it/s]\n"
          ]
        },
        {
          "output_type": "stream",
          "name": "stdout",
          "text": [
            "Average training loss on epoch #15: 0.42158663272857666\n",
            "Training accuracy on epoch #15: 0.8338233232498169\n",
            "Average validation loss on epoch #15: 0.4672764837741852\n",
            "Validation accuracy on epoch #15: 0.8222395777702332\n",
            "------------------------------\n",
            "epoch 16:\n"
          ]
        },
        {
          "output_type": "stream",
          "name": "stderr",
          "text": [
            "100%|██████████| 919/919 [00:05<00:00, 178.95it/s]\n"
          ]
        },
        {
          "output_type": "stream",
          "name": "stdout",
          "text": [
            "Average training loss on epoch #16: 0.4176521897315979\n",
            "Training accuracy on epoch #16: 0.8347159028053284\n",
            "Average validation loss on epoch #16: 0.46664515137672424\n",
            "Validation accuracy on epoch #16: 0.8230392336845398\n",
            "------------------------------\n",
            "epoch 17:\n"
          ]
        },
        {
          "output_type": "stream",
          "name": "stderr",
          "text": [
            "100%|██████████| 919/919 [00:04<00:00, 198.16it/s]\n"
          ]
        },
        {
          "output_type": "stream",
          "name": "stdout",
          "text": [
            "Average training loss on epoch #17: 0.41412678360939026\n",
            "Training accuracy on epoch #17: 0.8355215191841125\n",
            "Average validation loss on epoch #17: 0.46270209550857544\n",
            "Validation accuracy on epoch #17: 0.823796272277832\n",
            "------------------------------\n",
            "epoch 18:\n"
          ]
        },
        {
          "output_type": "stream",
          "name": "stderr",
          "text": [
            "100%|██████████| 919/919 [00:03<00:00, 234.85it/s]\n"
          ]
        },
        {
          "output_type": "stream",
          "name": "stdout",
          "text": [
            "Average training loss on epoch #18: 0.4105011820793152\n",
            "Training accuracy on epoch #18: 0.8363256454467773\n",
            "Average validation loss on epoch #18: 0.4636010527610779\n",
            "Validation accuracy on epoch #18: 0.8244736790657043\n",
            "------------------------------\n",
            "epoch 19:\n"
          ]
        },
        {
          "output_type": "stream",
          "name": "stderr",
          "text": [
            "100%|██████████| 919/919 [00:05<00:00, 179.42it/s]\n"
          ]
        },
        {
          "output_type": "stream",
          "name": "stdout",
          "text": [
            "Average training loss on epoch #19: 0.4072458744049072\n",
            "Training accuracy on epoch #19: 0.8371122479438782\n",
            "Average validation loss on epoch #19: 0.45735058188438416\n",
            "Validation accuracy on epoch #19: 0.8252500295639038\n",
            "------------------------------\n",
            "epoch 20:\n"
          ]
        },
        {
          "output_type": "stream",
          "name": "stderr",
          "text": [
            "100%|██████████| 919/919 [00:03<00:00, 233.32it/s]\n"
          ]
        },
        {
          "output_type": "stream",
          "name": "stdout",
          "text": [
            "Average training loss on epoch #20: 0.40418973565101624\n",
            "Training accuracy on epoch #20: 0.8379040956497192\n",
            "Average validation loss on epoch #20: 0.45334434509277344\n",
            "Validation accuracy on epoch #20: 0.825952410697937\n",
            "------------------------------\n",
            "epoch 21:\n"
          ]
        },
        {
          "output_type": "stream",
          "name": "stderr",
          "text": [
            "100%|██████████| 919/919 [00:05<00:00, 179.33it/s]\n"
          ]
        },
        {
          "output_type": "stream",
          "name": "stdout",
          "text": [
            "Average training loss on epoch #21: 0.4010045826435089\n",
            "Training accuracy on epoch #21: 0.8386495113372803\n",
            "Average validation loss on epoch #21: 0.4518028199672699\n",
            "Validation accuracy on epoch #21: 0.826590895652771\n",
            "------------------------------\n",
            "epoch 22:\n"
          ]
        },
        {
          "output_type": "stream",
          "name": "stderr",
          "text": [
            "100%|██████████| 919/919 [00:03<00:00, 230.11it/s]\n"
          ]
        },
        {
          "output_type": "stream",
          "name": "stdout",
          "text": [
            "Average training loss on epoch #22: 0.3981976807117462\n",
            "Training accuracy on epoch #22: 0.8393884897232056\n",
            "Average validation loss on epoch #22: 0.44964084029197693\n",
            "Validation accuracy on epoch #22: 0.8270652294158936\n",
            "------------------------------\n",
            "epoch 23:\n"
          ]
        },
        {
          "output_type": "stream",
          "name": "stderr",
          "text": [
            "100%|██████████| 919/919 [00:05<00:00, 179.38it/s]\n"
          ]
        },
        {
          "output_type": "stream",
          "name": "stdout",
          "text": [
            "Average training loss on epoch #23: 0.395679771900177\n",
            "Training accuracy on epoch #23: 0.8400899767875671\n",
            "Average validation loss on epoch #23: 0.4472438395023346\n",
            "Validation accuracy on epoch #23: 0.8275347352027893\n",
            "------------------------------\n",
            "epoch 24:\n"
          ]
        },
        {
          "output_type": "stream",
          "name": "stderr",
          "text": [
            "100%|██████████| 919/919 [00:04<00:00, 184.46it/s]\n"
          ]
        },
        {
          "output_type": "stream",
          "name": "stdout",
          "text": [
            "Average training loss on epoch #24: 0.3929291069507599\n",
            "Training accuracy on epoch #24: 0.8407993316650391\n",
            "Average validation loss on epoch #24: 0.44477328658103943\n",
            "Validation accuracy on epoch #24: 0.8279333114624023\n",
            "------------------------------\n",
            "epoch 25:\n"
          ]
        },
        {
          "output_type": "stream",
          "name": "stderr",
          "text": [
            "100%|██████████| 919/919 [00:03<00:00, 231.67it/s]\n"
          ]
        },
        {
          "output_type": "stream",
          "name": "stdout",
          "text": [
            "Average training loss on epoch #25: 0.3903093636035919\n",
            "Training accuracy on epoch #25: 0.841476321220398\n",
            "Average validation loss on epoch #25: 0.44399672746658325\n",
            "Validation accuracy on epoch #25: 0.82833331823349\n",
            "------------------------------\n",
            "epoch 26:\n"
          ]
        },
        {
          "output_type": "stream",
          "name": "stderr",
          "text": [
            "100%|██████████| 919/919 [00:03<00:00, 230.49it/s]\n"
          ]
        },
        {
          "output_type": "stream",
          "name": "stdout",
          "text": [
            "Average training loss on epoch #26: 0.387885183095932\n",
            "Training accuracy on epoch #26: 0.8421258330345154\n",
            "Average validation loss on epoch #26: 0.4421646296977997\n",
            "Validation accuracy on epoch #26: 0.8287037014961243\n",
            "------------------------------\n",
            "epoch 27:\n"
          ]
        },
        {
          "output_type": "stream",
          "name": "stderr",
          "text": [
            "100%|██████████| 919/919 [00:03<00:00, 233.42it/s]\n"
          ]
        },
        {
          "output_type": "stream",
          "name": "stdout",
          "text": [
            "Average training loss on epoch #27: 0.38564950227737427\n",
            "Training accuracy on epoch #27: 0.8427550792694092\n",
            "Average validation loss on epoch #27: 0.4402843415737152\n",
            "Validation accuracy on epoch #27: 0.8291666507720947\n",
            "------------------------------\n",
            "epoch 28:\n"
          ]
        },
        {
          "output_type": "stream",
          "name": "stderr",
          "text": [
            "100%|██████████| 919/919 [00:05<00:00, 179.40it/s]\n"
          ]
        },
        {
          "output_type": "stream",
          "name": "stdout",
          "text": [
            "Average training loss on epoch #28: 0.3831375241279602\n",
            "Training accuracy on epoch #28: 0.8433796763420105\n",
            "Average validation loss on epoch #28: 0.4380563497543335\n",
            "Validation accuracy on epoch #28: 0.8294540047645569\n",
            "------------------------------\n",
            "epoch 29:\n"
          ]
        },
        {
          "output_type": "stream",
          "name": "stderr",
          "text": [
            "100%|██████████| 919/919 [00:03<00:00, 230.45it/s]\n"
          ]
        },
        {
          "output_type": "stream",
          "name": "stdout",
          "text": [
            "Average training loss on epoch #29: 0.3809538781642914\n",
            "Training accuracy on epoch #29: 0.8439795970916748\n",
            "Average validation loss on epoch #29: 0.4378427267074585\n",
            "Validation accuracy on epoch #29: 0.8296666741371155\n"
          ]
        }
      ]
    },
    {
      "cell_type": "code",
      "source": [
        "def plot_training_history(epoch_num, training_loss_history, validation_loss_history, training_accuracy_history, validation_accuracy_history):\n",
        "  \"\"\"Implements custom training loop.\n",
        "Args:\n",
        "  training_loss_history: a `list` representing saved average training loss values per epoch.\n",
        "  validation_loss_history: a `list` representing saved average validation loss values per epoch.\n",
        "  training_accuracy_history: a `list` representing saved training accuracy per epoch.\n",
        "  validation_accuracy_history: a `list` representing saved validation accuracy per epoch.\n",
        "  \"\"\"  \n",
        "  fig = plt.figure(figsize=(12, 9))\n",
        "\n",
        "  ax1 = fig.add_subplot(1, 2, 1)\n",
        "  ax2 = fig.add_subplot(1, 2, 2)\n",
        "  \n",
        "  ax1.plot(range(epoch_num), training_loss_history, label='training_loss')\n",
        "  ax1.plot(range(epoch_num), validation_loss_history, label='validation_loss')\n",
        "  ax1.set_xlabel('Epochs')\n",
        "  ax1.set_ylabel('Cross-entropy loss')\n",
        "  ax1.set_title('Training VS Validation loss')\n",
        "  ax1.legend()\n",
        "\n",
        "  ax2.plot(range(epoch_num), training_accuracy_history, label='training_accuracy')\n",
        "  ax2.plot(range(epoch_num), validation_accuracy_history, label='validation_accuracy')\n",
        "  ax2.set_xlabel('Epochs')\n",
        "  ax2.set_ylabel('Categorical accuracy')\n",
        "  ax2.set_title('Training VS Validation accuracy')\n",
        "  ax2.legend()\n",
        "\n",
        "  plt.show()"
      ],
      "metadata": {
        "id": "5u3A4QOmTATA"
      },
      "execution_count": null,
      "outputs": []
    },
    {
      "cell_type": "code",
      "source": [
        "plot_training_history(EPOCHS_NUM, training_loss_history, validation_loss_history, training_accuracy_history, validation_accuracy_history)"
      ],
      "metadata": {
        "colab": {
          "base_uri": "https://localhost:8080/",
          "height": 550
        },
        "id": "kt0PDX_CAgc5",
        "outputId": "010a87a9-dcca-4ccc-933f-1698e94240ad"
      },
      "execution_count": null,
      "outputs": [
        {
          "output_type": "display_data",
          "data": {
            "text/plain": [
              "<Figure size 864x648 with 2 Axes>"
            ],
            "image/png": "[encoded data removed]"
          },
          "metadata": {
            "needs_background": "light"
          }
        }
      ]
    },
    {
      "cell_type": "markdown",
      "metadata": {
        "id": "Ysraz2hMwwJ9"
      },
      "source": [
        "# TO DO : calculate accuracy on the test dataset 'test_data_pre'"
      ]
    },
    {
      "cell_type": "code",
      "source": [
        "def evaluation_loop(input_model, test_data, test_metric):\n",
        "  \"\"\"Implements evaluation loop for checking accuracy of the trained model.\n",
        "Args:\n",
        "  input_model: a `tf.Functional` representing trained model.\n",
        "  test_data: a `BatchDataset` representing input batch of images and labels for testing.\n",
        "  test_metric: a `tf.keras.metrics` value representing accuracy metric for testing.\n",
        "Returns:\n",
        "  A `numpy.float32` value representing accuracy score\n",
        "  \"\"\"  \n",
        "  for (x, y) in test_data:\n",
        "    pred = input_model(x)\n",
        "    y = tf.keras.utils.to_categorical(y, 10)\n",
        "    test_metric.update_state(y, pred)\n",
        "  return test_metric.result().numpy()\n"
      ],
      "metadata": {
        "id": "1B7beNYvxtVv"
      },
      "execution_count": null,
      "outputs": []
    },
    {
      "cell_type": "code",
      "metadata": {
        "id": "pHoeC9hFvqtJ",
        "colab": {
          "base_uri": "https://localhost:8080/"
        },
        "outputId": "e0ff6e3a-c813-45b1-8785-906c3d741ceb"
      },
      "source": [
        "test_acc_metric = tf.keras.metrics.CategoricalAccuracy()\n",
        "\n",
        "print(\"Test accuracy of the base model: {}\".format(evaluation_loop(model, test_data_pre, test_acc_metric)))\n",
        "\n",
        "  "
      ],
      "execution_count": null,
      "outputs": [
        {
          "output_type": "stream",
          "name": "stdout",
          "text": [
            "Test accuracy of the base model: 0.8210999965667725\n"
          ]
        }
      ]
    },
    {
      "cell_type": "markdown",
      "source": [
        "# **Ways to improve model**\n",
        "We have to get a higher accuracy value. \n",
        "For that goal we will: \n",
        "\n",
        "*   Improve data preparation\n",
        "*   Add image augmentations\n",
        "*   Improve model's architecture\n",
        "*   Add learning rate scheduler\n",
        "*   Implement Adam optimizer which is the best among the adaptive optimizers in most of the cases\n",
        "\n",
        "\n",
        "\n",
        "\n",
        "\n",
        "\n",
        "\n",
        "\n",
        "\n"
      ],
      "metadata": {
        "id": "srT_X1TaAwor"
      }
    },
    {
      "cell_type": "markdown",
      "source": [
        "# **Advanced data preparation**"
      ],
      "metadata": {
        "id": "El9L8sTgA389"
      }
    },
    {
      "cell_type": "code",
      "metadata": {
        "id": "QSLfTy1YkmWJ"
      },
      "source": [
        "# As we can see (from the plots with colorbars) the pixel values vary between 0 and 255.\n",
        "# We should scale them to the range [0, 1]\n",
        "def preprocessing(data):\n",
        "    \"\"\"Implements image preprocessing.\n",
        "Args:\n",
        "  data: a `PrefetchDataset` representing one of three subsets.\n",
        "Returns:\n",
        "  x: a `Tensor` representing image.\n",
        "  y: a `Tensor` representing label.\n",
        "    \"\"\"       \n",
        "    # resize image from 28x28x1 to 24x24x1\n",
        "    x = tf.image.resize(data[\"image\"], [24, 24]) \n",
        "    # scaling one-dimensional array to [0, 1] range\n",
        "    x = tf.cast(x, tf.float32) / 255.0\n",
        "    \n",
        "    y = tf.cast(data[\"label\"], tf.float32)\n",
        "\n",
        "    return x, y "
      ],
      "execution_count": null,
      "outputs": []
    },
    {
      "cell_type": "markdown",
      "source": [
        "For training model on Fashion MNIST dataset two data augmentation techniques were used:\n",
        "\n",
        "*   Horizontal flip (left to right)\n",
        "*   Random Rotation (angle in range [-10, 10] degrees)\n",
        "\n"
      ],
      "metadata": {
        "id": "YN1jrmvSPE-Z"
      }
    },
    {
      "cell_type": "code",
      "source": [
        "class RandomFlipOnProbability(tf.keras.layers.Layer):\n",
        "  \"\"\"\n",
        "  Implementation of a custom data augmentation that flips image horizontally \n",
        "  (left to right) on a specific probability.\n",
        "  \"\"\"\n",
        "  def __init__(self, probability=0.1, **kwargs):\n",
        "    super().__init__(**kwargs)\n",
        "    self.probability = probability\n",
        "    self.layer = tf.keras.layers.RandomFlip(mode='horizontal')\n",
        "  \n",
        "  def __call__(self, x):\n",
        "    return tf.cond(tf.less(tf.random.uniform([]), self.probability), lambda: self.layer(x), lambda: x)\n",
        "\n",
        "class RandomRotationOnProbability(tf.keras.layers.Layer):\n",
        "  \"\"\"\n",
        "  Implementation of a custom data augmentation that rotates image an angle \n",
        "  on a specific probability.\n",
        "  \"\"\"\n",
        "  def __init__(self, probability=0.1, **kwargs):\n",
        "    super().__init__(**kwargs)\n",
        "    self.probability = probability\n",
        "    # factor - a tuple of size 2 representing lower and upper bound for rotating clockwise and counter-clockwise, fraction of 2 Pi.\n",
        "    self.layer = tf.keras.layers.RandomRotation(factor=(-0.055, 0.055), interpolation='bilinear')\n",
        "  \n",
        "  def __call__(self, x):\n",
        "    return tf.cond(tf.less(tf.random.uniform([]), self.probability), lambda: self.layer(x), lambda: x)\n",
        "\n",
        "data_augmentation = tf.keras.Sequential([\n",
        "    RandomFlipOnProbability(probability=0.2),\n",
        "    RandomRotationOnProbability(probability=0.1)\n",
        "])"
      ],
      "metadata": {
        "id": "vv-LO2-GQFFm"
      },
      "execution_count": null,
      "outputs": []
    },
    {
      "cell_type": "code",
      "source": [
        "train_data_pre = train_data.map(preprocessing)\n",
        "validation_data_pre = validation_data.map(preprocessing)\n",
        "test_data_pre = test_data.map(preprocessing)\n",
        "batch_size = 24\n",
        "# adding shuffling\n",
        "train_data_pre = train_data_pre.shuffle(batch_size).batch(batch_size)\n",
        "validation_data_pre = validation_data_pre.shuffle(batch_size).batch(batch_size)\n",
        "test_data_pre = test_data_pre.shuffle(batch_size).batch(batch_size)"
      ],
      "metadata": {
        "id": "759K-G6FA5XN"
      },
      "execution_count": null,
      "outputs": []
    },
    {
      "cell_type": "code",
      "source": [
        "train_data_pre_aug = train_data_pre.map(lambda x, y: (data_augmentation(x), y))\n",
        "validation_data_pre_aug = validation_data_pre.map(lambda x, y: (data_augmentation(x), y))"
      ],
      "metadata": {
        "id": "ZGq_RIh4TpNz"
      },
      "execution_count": null,
      "outputs": []
    },
    {
      "cell_type": "markdown",
      "source": [
        "# Base Model Improving\n",
        "To avoid overfitting we will use dropout regularization, i.e. add some Dropout layers.\n",
        "\n",
        "And also we will add `kernel_regularizer`, regularizer that applies both L1 and L2 regularization penalties for first two Dense layers.\n",
        "\n",
        "In addition we will add ```tf.keras.layers.BatchNormalization``` for [0,1]\n",
        "input normalization\n",
        "\n"
      ],
      "metadata": {
        "id": "0Pg1OwllA82g"
      }
    },
    {
      "cell_type": "code",
      "source": [
        "# You are able to modify base_model(), but requirements: \n",
        "# 1)Trainable params <= 55,050\n",
        "# 2)Model contains only 3 fully-connected trainable layers.\n",
        "def improved_base_model():\n",
        "  inputs = tf.keras.Input(shape=(24,24,))\n",
        "  x = tf.keras.layers.Flatten()(inputs)\n",
        "  x = tf.keras.layers.Dense(84, activation='relu', \n",
        "                            kernel_regularizer=tf.keras.regularizers.L1L2(l1=0.05, l2=0.05))(x)\n",
        "  x = tf.keras.layers.BatchNormalization(trainable=False)(x)\n",
        "  x = tf.keras.layers.Dropout(0.2)(x)\n",
        "  \n",
        "  x = tf.keras.layers.Dense(64, activation='relu', \n",
        "                            kernel_regularizer=tf.keras.regularizers.L1L2(l1=0.05, l2=0.05))(x)\n",
        "  x = tf.keras.layers.BatchNormalization(trainable=False)(x)\n",
        "  x = tf.keras.layers.Dropout(0.175)(x)\n",
        "  \n",
        "  outputs = tf.keras.layers.Dense(10, \n",
        "                                  activation='softmax')(x)\n",
        "  model = tf.keras.Model(inputs=inputs, outputs=outputs)\n",
        "  return model\n",
        "\n",
        "improved_model = improved_base_model()\n",
        "improved_model.summary()"
      ],
      "metadata": {
        "colab": {
          "base_uri": "https://localhost:8080/"
        },
        "id": "lZhqq-dkA6eq",
        "outputId": "18288e6a-9119-4488-9e07-735a12b64c0f"
      },
      "execution_count": null,
      "outputs": [
        {
          "output_type": "stream",
          "name": "stdout",
          "text": [
            "Model: \"model\"\n",
            "_________________________________________________________________\n",
            " Layer (type)                Output Shape              Param #   \n",
            "=================================================================\n",
            " input_1 (InputLayer)        [(None, 24, 24)]          0         \n",
            "                                                                 \n",
            " flatten (Flatten)           (None, 576)               0         \n",
            "                                                                 \n",
            " dense (Dense)               (None, 84)                48468     \n",
            "                                                                 \n",
            " batch_normalization (BatchN  (None, 84)               336       \n",
            " ormalization)                                                   \n",
            "                                                                 \n",
            " dropout (Dropout)           (None, 84)                0         \n",
            "                                                                 \n",
            " dense_1 (Dense)             (None, 64)                5440      \n",
            "                                                                 \n",
            " batch_normalization_1 (Batc  (None, 64)               256       \n",
            " hNormalization)                                                 \n",
            "                                                                 \n",
            " dropout_1 (Dropout)         (None, 64)                0         \n",
            "                                                                 \n",
            " dense_2 (Dense)             (None, 10)                650       \n",
            "                                                                 \n",
            "=================================================================\n",
            "Total params: 55,150\n",
            "Trainable params: 54,558\n",
            "Non-trainable params: 592\n",
            "_________________________________________________________________\n"
          ]
        }
      ]
    },
    {
      "cell_type": "markdown",
      "source": [
        "# **Learning Rate Scheduler**\n",
        "The Cosine Learning Rate Scheduler was implemented."
      ],
      "metadata": {
        "id": "bzjKdwHtUd53"
      }
    },
    {
      "cell_type": "code",
      "source": [
        "class CosineScheduler:\n",
        "  \"\"\"\n",
        "  Implementation of cosine scheduler for learning rate decay during training phase.\n",
        "  \"\"\"\n",
        "  def __init__(self, max_update, base_lr=0.01, final_lr=0,\n",
        "              warmup_steps=0, warmup_begin_lr=0):\n",
        "    \n",
        "    self.base_lr_orig = base_lr\n",
        "    self.max_update = max_update\n",
        "    self.final_lr = final_lr\n",
        "    self.warmup_steps = warmup_steps\n",
        "    self.warmup_begin_lr = warmup_begin_lr\n",
        "    self.max_steps = self.max_update - self.warmup_steps\n",
        "\n",
        "  def get_warmup_lr(self, epoch):\n",
        "    \"\"\"\n",
        "    Method that implements warm-up leraning rate value, if warmup_steps parameter \n",
        "    is not zero.\n",
        "  Args:\n",
        "    epoch: an epoch number.\n",
        "  Returns:\n",
        "    learning rate value.\n",
        "    \"\"\"\n",
        "    increase = (self.base_lr_orig - self.warmup_begin_lr) \\\n",
        "                    * float(epoch) / float(self.warmup_steps)\n",
        "    return self.warmup_begin_lr + increase\n",
        "\n",
        "  def __call__(self, epoch):\n",
        "      if epoch < self.warmup_steps:\n",
        "          return self.get_warmup_lr(epoch)\n",
        "      if epoch <= self.max_update:\n",
        "          self.base_lr = self.final_lr + (\n",
        "              self.base_lr_orig - self.final_lr) * (1 + math.cos(\n",
        "              math.pi * (epoch - self.warmup_steps) / self.max_steps)) / 2\n",
        "      return self.base_lr"
      ],
      "metadata": {
        "id": "eqdbW_mcUb1t"
      },
      "execution_count": null,
      "outputs": []
    },
    {
      "cell_type": "code",
      "source": [
        "scheduler = CosineScheduler(120, warmup_steps=0, base_lr=0.0005, final_lr=0.000005)"
      ],
      "metadata": {
        "id": "UVvAXLzVVZ7_"
      },
      "execution_count": null,
      "outputs": []
    },
    {
      "cell_type": "markdown",
      "source": [
        "# **Adam optimizer implementation**"
      ],
      "metadata": {
        "id": "wtPsstt_BBTa"
      }
    },
    {
      "cell_type": "code",
      "source": [
        "class CustomAdamOptimizer(tf.keras.optimizers.Optimizer):\n",
        "  \"\"\"\n",
        "  Implementation of the Adam optimizer using inheritance from tf.keras.optimizers.Optimizer\n",
        "  \"\"\"\n",
        "  \n",
        "  def __init__(self, learning_rate=.001, beta_1=.9, beta_2=.999, epsilon=1e-8, \n",
        "               name='Adam', **kwargs):\n",
        "    super().__init__(name, **kwargs)\n",
        "    self._set_hyper('learning_rate', kwargs.get('lr', learning_rate))\n",
        "    self._set_hyper('beta_1', beta_1)\n",
        "    self._set_hyper('beta_2', beta_2)\n",
        "    self.epsilon = epsilon or tf.keras.backend.epsilon()\n",
        "  \n",
        "  def _create_slots(self, var_list):\n",
        "    \"\"\"Create all slots needed by the variables.\n",
        "    Args:\n",
        "      var_list: A list of `Variable` objects.\n",
        "    \"\"\"\n",
        "    for var in var_list:\n",
        "      self.add_slot(var, 'm')\n",
        "      self.add_slot(var, 'v')\n",
        "  \n",
        "\n",
        "  def _resource_apply_dense(self, grad, var):\n",
        "    \"\"\"Add ops to apply dense gradients to the variable `var`.\n",
        "      Perform optimization step.\n",
        "    Args:\n",
        "      grad: a `Tensor` representing the gradient.\n",
        "      var: a `Tensor` of dtype `resource` which points to the variable\n",
        "       to be updated.\n",
        "    Returns:\n",
        "      An `Operation` which updates the value of the variable.\n",
        "    \"\"\"\n",
        "    dtype = var.dtype.base_dtype\n",
        "    t = tf.cast(self.iterations + 1, dtype)\n",
        "    lr = self._decayed_lr(dtype)\n",
        "    beta_1 = self._get_hyper('beta_1', dtype)\n",
        "    beta_2 = self._get_hyper('beta_2', dtype)\n",
        "    epsilon = tf.convert_to_tensor(self.epsilon, dtype)\n",
        "\n",
        "    m = self.get_slot(var, 'm')\n",
        "    v = self.get_slot(var, 'v')\n",
        "\n",
        "    m = m.assign(beta_1 * m + (1. - beta_1) * grad)\n",
        "    v = v.assign(beta_2 * v + (1. - beta_2) * tf.square(grad))\n",
        "\n",
        "    lr = lr * tf.sqrt(1 - tf.pow(beta_2, t)) / (1 - tf.pow(beta_1, t))\n",
        "    update = -lr * m / (tf.sqrt(v) + epsilon)\n",
        "    var_update = var.assign_add(update)\n",
        "    updates = [var_update, m, v]\n",
        "    return tf.group(*updates)"
      ],
      "metadata": {
        "id": "NKe2cXOKA-dO"
      },
      "execution_count": null,
      "outputs": []
    },
    {
      "cell_type": "code",
      "source": [
        "optimizer = CustomAdamOptimizer(learning_rate=0.0005)\n",
        "train_acc_metric = tf.keras.metrics.CategoricalAccuracy()\n",
        "val_acc_metric = tf.keras.metrics.CategoricalAccuracy()\n",
        "\n",
        "@tf.function\n",
        "def train_step(model_to_be_trained, x, y):\n",
        "  \"\"\"Implements gradients computation and weights update.\n",
        "Args:\n",
        "  model_to_be_trained: a `tf.Functional` representing built model.\n",
        "  x: a `Tensor` representing input batch of images.\n",
        "  y: a `Tensor` representing input batch of labels.\n",
        "Returns:\n",
        "  loss: `Tensor` representing crossentropy loss value.\n",
        "  pred: `Tensor` representing predicted values (batch)\n",
        "  \"\"\" \n",
        "  with tf.GradientTape() as tape:\n",
        "    prediction = model_to_be_trained(x, training=True)\n",
        "\n",
        "    loss = custom_categorical_crossentropy_loss(y, prediction)\n",
        "\n",
        "    gradients = tape.gradient(loss, model_to_be_trained.trainable_variables)\n",
        "\n",
        "    optimizer.apply_gradients(zip(gradients, model_to_be_trained.trainable_variables))\n",
        "  \n",
        "  return loss, prediction"
      ],
      "metadata": {
        "id": "rr4hbJMTBCsf"
      },
      "execution_count": null,
      "outputs": []
    },
    {
      "cell_type": "markdown",
      "source": [
        "# **Training Procedure**"
      ],
      "metadata": {
        "id": "xeAYClBwBGcw"
      }
    },
    {
      "cell_type": "markdown",
      "source": [
        "Updated training loop using learning rate decay:\n"
      ],
      "metadata": {
        "id": "7knHGFDSVkWK"
      }
    },
    {
      "cell_type": "code",
      "source": [
        "def training_loop(model_to_be_trained, train_data, val_data, epoch_num, train_metric, val_metric, lr_scheduler):\n",
        "  \"\"\"Implements custom training loop.\n",
        "Args:\n",
        "  model_to_be_trained: a `tf.Functional` representing built model.\n",
        "  train_data: a `BatchDataset` representing input batch of images and labels for training.\n",
        "  val_data: a `BatchDataset` representing input batch of images and labels for validation.\n",
        "  epoch_num: an `int` value representing number of epochs.\n",
        "  train_metric: a `tf.keras.metrics` value representing accuracy metric for training.\n",
        "  val_metric: a `tf.keras.metrics` value representing accuracy metric for validation.\n",
        "Returns:\n",
        "  `list` of four metrics during training: training loss and accuracy, \n",
        "          validation loss and accuracy.\n",
        "  \"\"\" \n",
        "  training_loss_history = list()\n",
        "  validation_loss_history = list()\n",
        "  training_accuracy_history = list()\n",
        "  validation_accuracy_history = list()\n",
        "\n",
        "\n",
        "  for epoch in range(epoch_num):\n",
        "    optimizer.learning_rate = lr_scheduler(epoch)\n",
        "\n",
        "    print(\"------------------------------\")\n",
        "    print(\"epoch {}:\".format(epoch))\n",
        "    training_losses = list()\n",
        "    for step, (x, y) in enumerate(tqdm(train_data_pre)):\n",
        "\n",
        "      y = tf.keras.utils.to_categorical(y, 10) \n",
        "      loss, prediction = train_step(model_to_be_trained, x, y)\n",
        "      \n",
        "      training_losses.append(loss)\n",
        "      train_acc_metric.update_state(y, prediction)\n",
        "    \n",
        "    avg_training_loss_per_epoch = tf.reduce_sum(tf.stack(training_losses)) / len(training_losses)\n",
        "    training_loss_history.append(avg_training_loss_per_epoch)\n",
        "    training_accuracy_history.append(train_acc_metric.result().numpy())\n",
        "\n",
        "    print(\"Average training loss on epoch #{}: {}\".format(epoch, avg_training_loss_per_epoch.numpy()))\n",
        "    print(\"Training accuracy on epoch #{}: {}\".format(epoch, train_acc_metric.result().numpy()))\n",
        "    \n",
        "    validation_losses = list()\n",
        "    for (x, y) in validation_data_pre:\n",
        "      y = tf.keras.utils.to_categorical(y, 10) \n",
        "      prediction = model_to_be_trained(x, training=False)\n",
        "\n",
        "      loss = custom_categorical_crossentropy_loss(y, prediction)\n",
        "      validation_losses.append(loss)\n",
        "      val_acc_metric.update_state(y, prediction)\n",
        "      \n",
        "    avg_validation_loss_per_epoch = tf.reduce_sum(tf.stack(validation_losses)) / len(validation_losses)\n",
        "    validation_loss_history.append(avg_validation_loss_per_epoch)\n",
        "    validation_accuracy_history.append(val_acc_metric.result().numpy())\n",
        "\n",
        "    print(\"Average validation loss on epoch #{}: {}\".format(epoch, avg_validation_loss_per_epoch.numpy()))\n",
        "    print(\"Validation accuracy on epoch #{}: {}\".format(epoch, val_acc_metric.result().numpy()))\n",
        "    validation_data_pre.shuffle(batch_size)\n",
        "\n",
        "  return [training_loss_history, validation_loss_history, \n",
        "          training_accuracy_history, validation_accuracy_history]"
      ],
      "metadata": {
        "id": "Y9nOmLikVjcA"
      },
      "execution_count": null,
      "outputs": []
    },
    {
      "cell_type": "code",
      "source": [
        "EPOCHS_NUM = 120\n",
        "train_acc_metric = tf.keras.metrics.CategoricalAccuracy()\n",
        "val_acc_metric = tf.keras.metrics.CategoricalAccuracy()\n",
        "\n",
        "training_loss_history, validation_loss_history, training_accuracy_history, validation_accuracy_history = training_loop(improved_model, train_data_pre_aug, validation_data_pre_aug, EPOCHS_NUM, train_acc_metric, val_acc_metric, scheduler)"
      ],
      "metadata": {
        "id": "yLD_fE9uXTfA",
        "colab": {
          "base_uri": "https://localhost:8080/"
        },
        "outputId": "16657c59-b3e4-44ce-9a04-d694f1c31042"
      },
      "execution_count": null,
      "outputs": [
        {
          "output_type": "stream",
          "name": "stdout",
          "text": [
            "------------------------------\n",
            "epoch 0:\n"
          ]
        },
        {
          "output_type": "stream",
          "name": "stderr",
          "text": [
            "100%|██████████| 2450/2450 [00:12<00:00, 193.91it/s]\n"
          ]
        },
        {
          "output_type": "stream",
          "name": "stdout",
          "text": [
            "Average training loss on epoch #0: 0.653962254524231\n",
            "Training accuracy on epoch #0: 0.7696938514709473\n",
            "Average validation loss on epoch #0: 0.39076173305511475\n",
            "Validation accuracy on epoch #0: 0.8550000190734863\n",
            "------------------------------\n",
            "epoch 1:\n"
          ]
        },
        {
          "output_type": "stream",
          "name": "stderr",
          "text": [
            "100%|██████████| 2450/2450 [00:11<00:00, 205.02it/s]\n"
          ]
        },
        {
          "output_type": "stream",
          "name": "stdout",
          "text": [
            "Average training loss on epoch #1: 0.4558684527873993\n",
            "Training accuracy on epoch #1: 0.8034098744392395\n",
            "Average validation loss on epoch #1: 0.32999539375305176\n",
            "Validation accuracy on epoch #1: 0.8666666746139526\n",
            "------------------------------\n",
            "epoch 2:\n"
          ]
        },
        {
          "output_type": "stream",
          "name": "stderr",
          "text": [
            "100%|██████████| 2450/2450 [00:12<00:00, 203.95it/s]\n"
          ]
        },
        {
          "output_type": "stream",
          "name": "stdout",
          "text": [
            "Average training loss on epoch #2: 0.4152263104915619\n",
            "Training accuracy on epoch #2: 0.8191099762916565\n",
            "Average validation loss on epoch #2: 0.31654679775238037\n",
            "Validation accuracy on epoch #2: 0.8730555772781372\n",
            "------------------------------\n",
            "epoch 3:\n"
          ]
        },
        {
          "output_type": "stream",
          "name": "stderr",
          "text": [
            "100%|██████████| 2450/2450 [00:12<00:00, 188.88it/s]\n"
          ]
        },
        {
          "output_type": "stream",
          "name": "stdout",
          "text": [
            "Average training loss on epoch #3: 0.39047420024871826\n",
            "Training accuracy on epoch #3: 0.8288435339927673\n",
            "Average validation loss on epoch #3: 0.30144184827804565\n",
            "Validation accuracy on epoch #3: 0.8785416483879089\n",
            "------------------------------\n",
            "epoch 4:\n"
          ]
        },
        {
          "output_type": "stream",
          "name": "stderr",
          "text": [
            "100%|██████████| 2450/2450 [00:12<00:00, 198.72it/s]\n"
          ]
        },
        {
          "output_type": "stream",
          "name": "stdout",
          "text": [
            "Average training loss on epoch #4: 0.3744406998157501\n",
            "Training accuracy on epoch #4: 0.8357925415039062\n",
            "Average validation loss on epoch #4: 0.28797686100006104\n",
            "Validation accuracy on epoch #4: 0.8821666836738586\n",
            "------------------------------\n",
            "epoch 5:\n"
          ]
        },
        {
          "output_type": "stream",
          "name": "stderr",
          "text": [
            "100%|██████████| 2450/2450 [00:13<00:00, 183.80it/s]\n"
          ]
        },
        {
          "output_type": "stream",
          "name": "stdout",
          "text": [
            "Average training loss on epoch #5: 0.36007556319236755\n",
            "Training accuracy on epoch #5: 0.8412188291549683\n",
            "Average validation loss on epoch #5: 0.27788928151130676\n",
            "Validation accuracy on epoch #5: 0.8848611116409302\n",
            "------------------------------\n",
            "epoch 6:\n"
          ]
        },
        {
          "output_type": "stream",
          "name": "stderr",
          "text": [
            "100%|██████████| 2450/2450 [00:13<00:00, 179.70it/s]\n"
          ]
        },
        {
          "output_type": "stream",
          "name": "stdout",
          "text": [
            "Average training loss on epoch #6: 0.35292381048202515\n",
            "Training accuracy on epoch #6: 0.8453644514083862\n",
            "Average validation loss on epoch #6: 0.27978551387786865\n",
            "Validation accuracy on epoch #6: 0.8864285945892334\n",
            "------------------------------\n",
            "epoch 7:\n"
          ]
        },
        {
          "output_type": "stream",
          "name": "stderr",
          "text": [
            "100%|██████████| 2450/2450 [00:11<00:00, 204.92it/s]\n"
          ]
        },
        {
          "output_type": "stream",
          "name": "stdout",
          "text": [
            "Average training loss on epoch #7: 0.34291040897369385\n",
            "Training accuracy on epoch #7: 0.8491751551628113\n",
            "Average validation loss on epoch #7: 0.2808365225791931\n",
            "Validation accuracy on epoch #7: 0.8878124952316284\n",
            "------------------------------\n",
            "epoch 8:\n"
          ]
        },
        {
          "output_type": "stream",
          "name": "stderr",
          "text": [
            "100%|██████████| 2450/2450 [00:11<00:00, 204.78it/s]\n"
          ]
        },
        {
          "output_type": "stream",
          "name": "stdout",
          "text": [
            "Average training loss on epoch #8: 0.3346969783306122\n",
            "Training accuracy on epoch #8: 0.8522071242332458\n",
            "Average validation loss on epoch #8: 0.2684932351112366\n",
            "Validation accuracy on epoch #8: 0.8891666531562805\n",
            "------------------------------\n",
            "epoch 9:\n"
          ]
        },
        {
          "output_type": "stream",
          "name": "stderr",
          "text": [
            "100%|██████████| 2450/2450 [00:12<00:00, 204.08it/s]\n"
          ]
        },
        {
          "output_type": "stream",
          "name": "stdout",
          "text": [
            "Average training loss on epoch #9: 0.3294835388660431\n",
            "Training accuracy on epoch #9: 0.854823112487793\n",
            "Average validation loss on epoch #9: 0.25865408778190613\n",
            "Validation accuracy on epoch #9: 0.890500009059906\n",
            "------------------------------\n",
            "epoch 10:\n"
          ]
        },
        {
          "output_type": "stream",
          "name": "stderr",
          "text": [
            "100%|██████████| 2450/2450 [00:12<00:00, 203.10it/s]\n"
          ]
        },
        {
          "output_type": "stream",
          "name": "stdout",
          "text": [
            "Average training loss on epoch #10: 0.32405945658683777\n",
            "Training accuracy on epoch #10: 0.8571969866752625\n",
            "Average validation loss on epoch #10: 0.2623891234397888\n",
            "Validation accuracy on epoch #10: 0.8915151357650757\n",
            "------------------------------\n",
            "epoch 11:\n"
          ]
        },
        {
          "output_type": "stream",
          "name": "stderr",
          "text": [
            "100%|██████████| 2450/2450 [00:11<00:00, 205.00it/s]\n"
          ]
        },
        {
          "output_type": "stream",
          "name": "stdout",
          "text": [
            "Average training loss on epoch #11: 0.3193809390068054\n",
            "Training accuracy on epoch #11: 0.8593367338180542\n",
            "Average validation loss on epoch #11: 0.2594006061553955\n",
            "Validation accuracy on epoch #11: 0.8930555582046509\n",
            "------------------------------\n",
            "epoch 12:\n"
          ]
        },
        {
          "output_type": "stream",
          "name": "stderr",
          "text": [
            "100%|██████████| 2450/2450 [00:12<00:00, 203.96it/s]\n"
          ]
        },
        {
          "output_type": "stream",
          "name": "stdout",
          "text": [
            "Average training loss on epoch #12: 0.3158271014690399\n",
            "Training accuracy on epoch #12: 0.861177384853363\n",
            "Average validation loss on epoch #12: 0.24529165029525757\n",
            "Validation accuracy on epoch #12: 0.8943589925765991\n",
            "------------------------------\n",
            "epoch 13:\n"
          ]
        },
        {
          "output_type": "stream",
          "name": "stderr",
          "text": [
            "100%|██████████| 2450/2450 [00:11<00:00, 204.56it/s]\n"
          ]
        },
        {
          "output_type": "stream",
          "name": "stdout",
          "text": [
            "Average training loss on epoch #13: 0.3130418658256531\n",
            "Training accuracy on epoch #13: 0.8628000617027283\n",
            "Average validation loss on epoch #13: 0.25414401292800903\n",
            "Validation accuracy on epoch #13: 0.8951190710067749\n",
            "------------------------------\n",
            "epoch 14:\n"
          ]
        },
        {
          "output_type": "stream",
          "name": "stderr",
          "text": [
            "100%|██████████| 2450/2450 [00:12<00:00, 190.86it/s]\n"
          ]
        },
        {
          "output_type": "stream",
          "name": "stdout",
          "text": [
            "Average training loss on epoch #14: 0.3053617775440216\n",
            "Training accuracy on epoch #14: 0.8643798232078552\n",
            "Average validation loss on epoch #14: 0.27042725682258606\n",
            "Validation accuracy on epoch #14: 0.8953889012336731\n",
            "------------------------------\n",
            "epoch 15:\n"
          ]
        },
        {
          "output_type": "stream",
          "name": "stderr",
          "text": [
            "100%|██████████| 2450/2450 [00:11<00:00, 204.22it/s]\n"
          ]
        },
        {
          "output_type": "stream",
          "name": "stdout",
          "text": [
            "Average training loss on epoch #15: 0.30395346879959106\n",
            "Training accuracy on epoch #15: 0.8658067584037781\n",
            "Average validation loss on epoch #15: 0.2607937157154083\n",
            "Validation accuracy on epoch #15: 0.8958333134651184\n",
            "------------------------------\n",
            "epoch 16:\n"
          ]
        },
        {
          "output_type": "stream",
          "name": "stderr",
          "text": [
            "100%|██████████| 2450/2450 [00:11<00:00, 204.56it/s]\n"
          ]
        },
        {
          "output_type": "stream",
          "name": "stdout",
          "text": [
            "Average training loss on epoch #16: 0.30162903666496277\n",
            "Training accuracy on epoch #16: 0.8671518564224243\n",
            "Average validation loss on epoch #16: 0.24983297288417816\n",
            "Validation accuracy on epoch #16: 0.8962745070457458\n",
            "------------------------------\n",
            "epoch 17:\n"
          ]
        },
        {
          "output_type": "stream",
          "name": "stderr",
          "text": [
            "100%|██████████| 2450/2450 [00:12<00:00, 203.33it/s]\n"
          ]
        },
        {
          "output_type": "stream",
          "name": "stdout",
          "text": [
            "Average training loss on epoch #17: 0.2956090271472931\n",
            "Training accuracy on epoch #17: 0.8683626055717468\n",
            "Average validation loss on epoch #17: 0.24756166338920593\n",
            "Validation accuracy on epoch #17: 0.8968518376350403\n",
            "------------------------------\n",
            "epoch 18:\n"
          ]
        },
        {
          "output_type": "stream",
          "name": "stderr",
          "text": [
            "100%|██████████| 2450/2450 [00:11<00:00, 204.78it/s]\n"
          ]
        },
        {
          "output_type": "stream",
          "name": "stdout",
          "text": [
            "Average training loss on epoch #18: 0.29153475165367126\n",
            "Training accuracy on epoch #18: 0.8696123957633972\n",
            "Average validation loss on epoch #18: 0.25505760312080383\n",
            "Validation accuracy on epoch #18: 0.8977631330490112\n",
            "------------------------------\n",
            "epoch 19:\n"
          ]
        },
        {
          "output_type": "stream",
          "name": "stderr",
          "text": [
            "100%|██████████| 2450/2450 [00:11<00:00, 204.61it/s]\n"
          ]
        },
        {
          "output_type": "stream",
          "name": "stdout",
          "text": [
            "Average training loss on epoch #19: 0.2898802161216736\n",
            "Training accuracy on epoch #19: 0.8707525730133057\n",
            "Average validation loss on epoch #19: 0.2449205368757248\n",
            "Validation accuracy on epoch #19: 0.8982916474342346\n",
            "------------------------------\n",
            "epoch 20:\n"
          ]
        },
        {
          "output_type": "stream",
          "name": "stderr",
          "text": [
            "100%|██████████| 2450/2450 [00:11<00:00, 205.34it/s]\n"
          ]
        },
        {
          "output_type": "stream",
          "name": "stdout",
          "text": [
            "Average training loss on epoch #20: 0.28596633672714233\n",
            "Training accuracy on epoch #20: 0.8718003034591675\n",
            "Average validation loss on epoch #20: 0.24946361780166626\n",
            "Validation accuracy on epoch #20: 0.8990476131439209\n",
            "------------------------------\n",
            "epoch 21:\n"
          ]
        },
        {
          "output_type": "stream",
          "name": "stderr",
          "text": [
            "100%|██████████| 2450/2450 [00:12<00:00, 190.83it/s]\n"
          ]
        },
        {
          "output_type": "stream",
          "name": "stdout",
          "text": [
            "Average training loss on epoch #21: 0.28346025943756104\n",
            "Training accuracy on epoch #21: 0.872830867767334\n",
            "Average validation loss on epoch #21: 0.25400546193122864\n",
            "Validation accuracy on epoch #21: 0.8992045521736145\n",
            "------------------------------\n",
            "epoch 22:\n"
          ]
        },
        {
          "output_type": "stream",
          "name": "stderr",
          "text": [
            "100%|██████████| 2450/2450 [00:11<00:00, 204.57it/s]\n"
          ]
        },
        {
          "output_type": "stream",
          "name": "stdout",
          "text": [
            "Average training loss on epoch #22: 0.2811996638774872\n",
            "Training accuracy on epoch #22: 0.8738301992416382\n",
            "Average validation loss on epoch #22: 0.24728214740753174\n",
            "Validation accuracy on epoch #22: 0.8997101187705994\n",
            "------------------------------\n",
            "epoch 23:\n"
          ]
        },
        {
          "output_type": "stream",
          "name": "stderr",
          "text": [
            "100%|██████████| 2450/2450 [00:12<00:00, 203.25it/s]\n"
          ]
        },
        {
          "output_type": "stream",
          "name": "stdout",
          "text": [
            "Average training loss on epoch #23: 0.2788149118423462\n",
            "Training accuracy on epoch #23: 0.8747314214706421\n",
            "Average validation loss on epoch #23: 0.24955624341964722\n",
            "Validation accuracy on epoch #23: 0.8999652862548828\n",
            "------------------------------\n",
            "epoch 24:\n"
          ]
        },
        {
          "output_type": "stream",
          "name": "stderr",
          "text": [
            "100%|██████████| 2450/2450 [00:12<00:00, 203.31it/s]\n"
          ]
        },
        {
          "output_type": "stream",
          "name": "stdout",
          "text": [
            "Average training loss on epoch #24: 0.2751798629760742\n",
            "Training accuracy on epoch #24: 0.8756163120269775\n",
            "Average validation loss on epoch #24: 0.24639499187469482\n",
            "Validation accuracy on epoch #24: 0.9002333283424377\n",
            "------------------------------\n",
            "epoch 25:\n"
          ]
        },
        {
          "output_type": "stream",
          "name": "stderr",
          "text": [
            "100%|██████████| 2450/2450 [00:12<00:00, 203.35it/s]\n"
          ]
        },
        {
          "output_type": "stream",
          "name": "stdout",
          "text": [
            "Average training loss on epoch #25: 0.275077760219574\n",
            "Training accuracy on epoch #25: 0.8764285445213318\n",
            "Average validation loss on epoch #25: 0.25487270951271057\n",
            "Validation accuracy on epoch #25: 0.9005769491195679\n",
            "------------------------------\n",
            "epoch 26:\n"
          ]
        },
        {
          "output_type": "stream",
          "name": "stderr",
          "text": [
            "100%|██████████| 2450/2450 [00:11<00:00, 205.25it/s]\n"
          ]
        },
        {
          "output_type": "stream",
          "name": "stdout",
          "text": [
            "Average training loss on epoch #26: 0.2714197635650635\n",
            "Training accuracy on epoch #26: 0.8772455453872681\n",
            "Average validation loss on epoch #26: 0.24072694778442383\n",
            "Validation accuracy on epoch #26: 0.9009259343147278\n",
            "------------------------------\n",
            "epoch 27:\n"
          ]
        },
        {
          "output_type": "stream",
          "name": "stderr",
          "text": [
            "100%|██████████| 2450/2450 [00:11<00:00, 204.22it/s]\n"
          ]
        },
        {
          "output_type": "stream",
          "name": "stdout",
          "text": [
            "Average training loss on epoch #27: 0.26879724860191345\n",
            "Training accuracy on epoch #27: 0.8780636787414551\n",
            "Average validation loss on epoch #27: 0.24754127860069275\n",
            "Validation accuracy on epoch #27: 0.901190459728241\n",
            "------------------------------\n",
            "epoch 28:\n"
          ]
        },
        {
          "output_type": "stream",
          "name": "stderr",
          "text": [
            "100%|██████████| 2450/2450 [00:13<00:00, 187.70it/s]\n"
          ]
        },
        {
          "output_type": "stream",
          "name": "stdout",
          "text": [
            "Average training loss on epoch #28: 0.26699668169021606\n",
            "Training accuracy on epoch #28: 0.878844141960144\n",
            "Average validation loss on epoch #28: 0.25572118163108826\n",
            "Validation accuracy on epoch #28: 0.9017241597175598\n",
            "------------------------------\n",
            "epoch 29:\n"
          ]
        },
        {
          "output_type": "stream",
          "name": "stderr",
          "text": [
            "100%|██████████| 2450/2450 [00:12<00:00, 201.77it/s]\n"
          ]
        },
        {
          "output_type": "stream",
          "name": "stdout",
          "text": [
            "Average training loss on epoch #29: 0.265093594789505\n",
            "Training accuracy on epoch #29: 0.879593551158905\n",
            "Average validation loss on epoch #29: 0.25202101469039917\n",
            "Validation accuracy on epoch #29: 0.901888906955719\n",
            "------------------------------\n",
            "epoch 30:\n"
          ]
        },
        {
          "output_type": "stream",
          "name": "stderr",
          "text": [
            "100%|██████████| 2450/2450 [00:20<00:00, 119.65it/s]\n"
          ]
        },
        {
          "output_type": "stream",
          "name": "stdout",
          "text": [
            "Average training loss on epoch #30: 0.26448097825050354\n",
            "Training accuracy on epoch #30: 0.8802885413169861\n",
            "Average validation loss on epoch #30: 0.2492266148328781\n",
            "Validation accuracy on epoch #30: 0.9022042751312256\n",
            "------------------------------\n",
            "epoch 31:\n"
          ]
        },
        {
          "output_type": "stream",
          "name": "stderr",
          "text": [
            "100%|██████████| 2450/2450 [00:12<00:00, 203.69it/s]\n"
          ]
        },
        {
          "output_type": "stream",
          "name": "stdout",
          "text": [
            "Average training loss on epoch #31: 0.263031542301178\n",
            "Training accuracy on epoch #31: 0.8809645771980286\n",
            "Average validation loss on epoch #31: 0.2438264638185501\n",
            "Validation accuracy on epoch #31: 0.9024218916893005\n",
            "------------------------------\n",
            "epoch 32:\n"
          ]
        },
        {
          "output_type": "stream",
          "name": "stderr",
          "text": [
            "100%|██████████| 2450/2450 [00:11<00:00, 204.26it/s]\n"
          ]
        },
        {
          "output_type": "stream",
          "name": "stdout",
          "text": [
            "Average training loss on epoch #32: 0.2599412202835083\n",
            "Training accuracy on epoch #32: 0.8816398978233337\n",
            "Average validation loss on epoch #32: 0.253047913312912\n",
            "Validation accuracy on epoch #32: 0.9024999737739563\n",
            "------------------------------\n",
            "epoch 33:\n"
          ]
        },
        {
          "output_type": "stream",
          "name": "stderr",
          "text": [
            "100%|██████████| 2450/2450 [00:12<00:00, 203.48it/s]\n"
          ]
        },
        {
          "output_type": "stream",
          "name": "stdout",
          "text": [
            "Average training loss on epoch #33: 0.2573418617248535\n",
            "Training accuracy on epoch #33: 0.8823249340057373\n",
            "Average validation loss on epoch #33: 0.25180065631866455\n",
            "Validation accuracy on epoch #33: 0.9026960730552673\n",
            "------------------------------\n",
            "epoch 34:\n"
          ]
        },
        {
          "output_type": "stream",
          "name": "stderr",
          "text": [
            "100%|██████████| 2450/2450 [00:12<00:00, 194.72it/s]\n"
          ]
        },
        {
          "output_type": "stream",
          "name": "stdout",
          "text": [
            "Average training loss on epoch #34: 0.2567547857761383\n",
            "Training accuracy on epoch #34: 0.8829169273376465\n",
            "Average validation loss on epoch #34: 0.2450069785118103\n",
            "Validation accuracy on epoch #34: 0.9030952453613281\n",
            "------------------------------\n",
            "epoch 35:\n"
          ]
        },
        {
          "output_type": "stream",
          "name": "stderr",
          "text": [
            "100%|██████████| 2450/2450 [00:12<00:00, 203.51it/s]\n"
          ]
        },
        {
          "output_type": "stream",
          "name": "stdout",
          "text": [
            "Average training loss on epoch #35: 0.2557998299598694\n",
            "Training accuracy on epoch #35: 0.8834868669509888\n",
            "Average validation loss on epoch #35: 0.25666484236717224\n",
            "Validation accuracy on epoch #35: 0.9032407402992249\n",
            "------------------------------\n",
            "epoch 36:\n"
          ]
        },
        {
          "output_type": "stream",
          "name": "stderr",
          "text": [
            "100%|██████████| 2450/2450 [00:12<00:00, 204.00it/s]\n"
          ]
        },
        {
          "output_type": "stream",
          "name": "stdout",
          "text": [
            "Average training loss on epoch #36: 0.25247427821159363\n",
            "Training accuracy on epoch #36: 0.8840765953063965\n",
            "Average validation loss on epoch #36: 0.2581448256969452\n",
            "Validation accuracy on epoch #36: 0.9034234285354614\n",
            "------------------------------\n",
            "epoch 37:\n"
          ]
        },
        {
          "output_type": "stream",
          "name": "stderr",
          "text": [
            "100%|██████████| 2450/2450 [00:12<00:00, 204.10it/s]\n"
          ]
        },
        {
          "output_type": "stream",
          "name": "stdout",
          "text": [
            "Average training loss on epoch #37: 0.25065702199935913\n",
            "Training accuracy on epoch #37: 0.8846563100814819\n",
            "Average validation loss on epoch #37: 0.24120767414569855\n",
            "Validation accuracy on epoch #37: 0.9037938714027405\n",
            "------------------------------\n",
            "epoch 38:\n"
          ]
        },
        {
          "output_type": "stream",
          "name": "stderr",
          "text": [
            "100%|██████████| 2450/2450 [00:12<00:00, 203.73it/s]\n"
          ]
        },
        {
          "output_type": "stream",
          "name": "stdout",
          "text": [
            "Average training loss on epoch #38: 0.248467817902565\n",
            "Training accuracy on epoch #38: 0.8852258920669556\n",
            "Average validation loss on epoch #38: 0.24413250386714935\n",
            "Validation accuracy on epoch #38: 0.9041239023208618\n",
            "------------------------------\n",
            "epoch 39:\n"
          ]
        },
        {
          "output_type": "stream",
          "name": "stderr",
          "text": [
            "100%|██████████| 2450/2450 [00:12<00:00, 203.42it/s]\n"
          ]
        },
        {
          "output_type": "stream",
          "name": "stdout",
          "text": [
            "Average training loss on epoch #39: 0.24644586443901062\n",
            "Training accuracy on epoch #39: 0.8857942223548889\n",
            "Average validation loss on epoch #39: 0.2437693029642105\n",
            "Validation accuracy on epoch #39: 0.9042500257492065\n",
            "------------------------------\n",
            "epoch 40:\n"
          ]
        },
        {
          "output_type": "stream",
          "name": "stderr",
          "text": [
            "100%|██████████| 2450/2450 [00:12<00:00, 201.74it/s]\n"
          ]
        },
        {
          "output_type": "stream",
          "name": "stdout",
          "text": [
            "Average training loss on epoch #40: 0.24771927297115326\n",
            "Training accuracy on epoch #40: 0.8863128423690796\n",
            "Average validation loss on epoch #40: 0.2410033792257309\n",
            "Validation accuracy on epoch #40: 0.9044308662414551\n",
            "------------------------------\n",
            "epoch 41:\n"
          ]
        },
        {
          "output_type": "stream",
          "name": "stderr",
          "text": [
            "100%|██████████| 2450/2450 [00:12<00:00, 202.43it/s]\n"
          ]
        },
        {
          "output_type": "stream",
          "name": "stdout",
          "text": [
            "Average training loss on epoch #41: 0.24551476538181305\n",
            "Training accuracy on epoch #41: 0.8868468403816223\n",
            "Average validation loss on epoch #41: 0.2520621120929718\n",
            "Validation accuracy on epoch #41: 0.9045436382293701\n",
            "------------------------------\n",
            "epoch 42:\n"
          ]
        },
        {
          "output_type": "stream",
          "name": "stderr",
          "text": [
            "100%|██████████| 2450/2450 [00:13<00:00, 187.05it/s]\n"
          ]
        },
        {
          "output_type": "stream",
          "name": "stdout",
          "text": [
            "Average training loss on epoch #42: 0.24320614337921143\n",
            "Training accuracy on epoch #42: 0.8873611688613892\n",
            "Average validation loss on epoch #42: 0.24613603949546814\n",
            "Validation accuracy on epoch #42: 0.9047287106513977\n",
            "------------------------------\n",
            "epoch 43:\n"
          ]
        },
        {
          "output_type": "stream",
          "name": "stderr",
          "text": [
            "100%|██████████| 2450/2450 [00:12<00:00, 197.98it/s]\n"
          ]
        },
        {
          "output_type": "stream",
          "name": "stdout",
          "text": [
            "Average training loss on epoch #43: 0.2424672394990921\n",
            "Training accuracy on epoch #43: 0.8878815174102783\n",
            "Average validation loss on epoch #43: 0.2513042986392975\n",
            "Validation accuracy on epoch #43: 0.9048295617103577\n",
            "------------------------------\n",
            "epoch 44:\n"
          ]
        },
        {
          "output_type": "stream",
          "name": "stderr",
          "text": [
            "100%|██████████| 2450/2450 [00:12<00:00, 202.53it/s]\n"
          ]
        },
        {
          "output_type": "stream",
          "name": "stdout",
          "text": [
            "Average training loss on epoch #44: 0.24171549081802368\n",
            "Training accuracy on epoch #44: 0.888364315032959\n",
            "Average validation loss on epoch #44: 0.24168354272842407\n",
            "Validation accuracy on epoch #44: 0.905055582523346\n",
            "------------------------------\n",
            "epoch 45:\n"
          ]
        },
        {
          "output_type": "stream",
          "name": "stderr",
          "text": [
            "100%|██████████| 2450/2450 [00:11<00:00, 204.97it/s]\n"
          ]
        },
        {
          "output_type": "stream",
          "name": "stdout",
          "text": [
            "Average training loss on epoch #45: 0.24112561345100403\n",
            "Training accuracy on epoch #45: 0.888853132724762\n",
            "Average validation loss on epoch #45: 0.25657621026039124\n",
            "Validation accuracy on epoch #45: 0.9051086902618408\n",
            "------------------------------\n",
            "epoch 46:\n"
          ]
        },
        {
          "output_type": "stream",
          "name": "stderr",
          "text": [
            "100%|██████████| 2450/2450 [00:11<00:00, 204.93it/s]\n"
          ]
        },
        {
          "output_type": "stream",
          "name": "stdout",
          "text": [
            "Average training loss on epoch #46: 0.2371324896812439\n",
            "Training accuracy on epoch #46: 0.8893378376960754\n",
            "Average validation loss on epoch #46: 0.24469298124313354\n",
            "Validation accuracy on epoch #46: 0.9053546190261841\n",
            "------------------------------\n",
            "epoch 47:\n"
          ]
        },
        {
          "output_type": "stream",
          "name": "stderr",
          "text": [
            "100%|██████████| 2450/2450 [00:11<00:00, 204.33it/s]\n"
          ]
        },
        {
          "output_type": "stream",
          "name": "stdout",
          "text": [
            "Average training loss on epoch #47: 0.23796232044696808\n",
            "Training accuracy on epoch #47: 0.8898005485534668\n",
            "Average validation loss on epoch #47: 0.23941195011138916\n",
            "Validation accuracy on epoch #47: 0.9055555462837219\n",
            "------------------------------\n",
            "epoch 48:\n"
          ]
        },
        {
          "output_type": "stream",
          "name": "stderr",
          "text": [
            "100%|██████████| 2450/2450 [00:12<00:00, 202.34it/s]\n"
          ]
        },
        {
          "output_type": "stream",
          "name": "stdout",
          "text": [
            "Average training loss on epoch #48: 0.23447467386722565\n",
            "Training accuracy on epoch #48: 0.8902564644813538\n",
            "Average validation loss on epoch #48: 0.24640655517578125\n",
            "Validation accuracy on epoch #48: 0.9057313203811646\n",
            "------------------------------\n",
            "epoch 49:\n"
          ]
        },
        {
          "output_type": "stream",
          "name": "stderr",
          "text": [
            "100%|██████████| 2450/2450 [00:12<00:00, 190.23it/s]\n"
          ]
        },
        {
          "output_type": "stream",
          "name": "stdout",
          "text": [
            "Average training loss on epoch #49: 0.2336331158876419\n",
            "Training accuracy on epoch #49: 0.890706479549408\n",
            "Average validation loss on epoch #49: 0.24799694120883942\n",
            "Validation accuracy on epoch #49: 0.9058499932289124\n",
            "------------------------------\n",
            "epoch 50:\n"
          ]
        },
        {
          "output_type": "stream",
          "name": "stderr",
          "text": [
            "100%|██████████| 2450/2450 [00:11<00:00, 204.47it/s]\n"
          ]
        },
        {
          "output_type": "stream",
          "name": "stdout",
          "text": [
            "Average training loss on epoch #50: 0.23200808465480804\n",
            "Training accuracy on epoch #50: 0.8911461234092712\n",
            "Average validation loss on epoch #50: 0.24105127155780792\n",
            "Validation accuracy on epoch #50: 0.9060784578323364\n",
            "------------------------------\n",
            "epoch 51:\n"
          ]
        },
        {
          "output_type": "stream",
          "name": "stderr",
          "text": [
            "100%|██████████| 2450/2450 [00:12<00:00, 203.69it/s]\n"
          ]
        },
        {
          "output_type": "stream",
          "name": "stdout",
          "text": [
            "Average training loss on epoch #51: 0.230772003531456\n",
            "Training accuracy on epoch #51: 0.8915518522262573\n",
            "Average validation loss on epoch #51: 0.24905717372894287\n",
            "Validation accuracy on epoch #51: 0.9062339663505554\n",
            "------------------------------\n",
            "epoch 52:\n"
          ]
        },
        {
          "output_type": "stream",
          "name": "stderr",
          "text": [
            "100%|██████████| 2450/2450 [00:12<00:00, 199.41it/s]\n"
          ]
        },
        {
          "output_type": "stream",
          "name": "stdout",
          "text": [
            "Average training loss on epoch #52: 0.23079650104045868\n",
            "Training accuracy on epoch #52: 0.8919628262519836\n",
            "Average validation loss on epoch #52: 0.2515822649002075\n",
            "Validation accuracy on epoch #52: 0.9063836336135864\n",
            "------------------------------\n",
            "epoch 53:\n"
          ]
        },
        {
          "output_type": "stream",
          "name": "stderr",
          "text": [
            "100%|██████████| 2450/2450 [00:12<00:00, 201.65it/s]\n"
          ]
        },
        {
          "output_type": "stream",
          "name": "stdout",
          "text": [
            "Average training loss on epoch #53: 0.22821523249149323\n",
            "Training accuracy on epoch #53: 0.892377495765686\n",
            "Average validation loss on epoch #53: 0.25339430570602417\n",
            "Validation accuracy on epoch #53: 0.9064660668373108\n",
            "------------------------------\n",
            "epoch 54:\n"
          ]
        },
        {
          "output_type": "stream",
          "name": "stderr",
          "text": [
            "100%|██████████| 2450/2450 [00:12<00:00, 203.73it/s]\n"
          ]
        },
        {
          "output_type": "stream",
          "name": "stdout",
          "text": [
            "Average training loss on epoch #54: 0.2276482731103897\n",
            "Training accuracy on epoch #54: 0.8927792310714722\n",
            "Average validation loss on epoch #54: 0.2504779100418091\n",
            "Validation accuracy on epoch #54: 0.9065909385681152\n",
            "------------------------------\n",
            "epoch 55:\n"
          ]
        },
        {
          "output_type": "stream",
          "name": "stderr",
          "text": [
            "100%|██████████| 2450/2450 [00:12<00:00, 203.69it/s]\n"
          ]
        },
        {
          "output_type": "stream",
          "name": "stdout",
          "text": [
            "Average training loss on epoch #55: 0.22660109400749207\n",
            "Training accuracy on epoch #55: 0.893161416053772\n",
            "Average validation loss on epoch #55: 0.24569880962371826\n",
            "Validation accuracy on epoch #55: 0.9066517949104309\n",
            "------------------------------\n",
            "epoch 56:\n"
          ]
        },
        {
          "output_type": "stream",
          "name": "stderr",
          "text": [
            "100%|██████████| 2450/2450 [00:12<00:00, 190.74it/s]\n"
          ]
        },
        {
          "output_type": "stream",
          "name": "stdout",
          "text": [
            "Average training loss on epoch #56: 0.22439472377300262\n",
            "Training accuracy on epoch #56: 0.8935427665710449\n",
            "Average validation loss on epoch #56: 0.252511203289032\n",
            "Validation accuracy on epoch #56: 0.906798243522644\n",
            "------------------------------\n",
            "epoch 57:\n"
          ]
        },
        {
          "output_type": "stream",
          "name": "stderr",
          "text": [
            "100%|██████████| 2450/2450 [00:12<00:00, 203.93it/s]\n"
          ]
        },
        {
          "output_type": "stream",
          "name": "stdout",
          "text": [
            "Average training loss on epoch #57: 0.222244530916214\n",
            "Training accuracy on epoch #57: 0.8939312100410461\n",
            "Average validation loss on epoch #57: 0.24989400804042816\n",
            "Validation accuracy on epoch #57: 0.9069540500640869\n",
            "------------------------------\n",
            "epoch 58:\n"
          ]
        },
        {
          "output_type": "stream",
          "name": "stderr",
          "text": [
            "100%|██████████| 2450/2450 [00:12<00:00, 203.53it/s]\n"
          ]
        },
        {
          "output_type": "stream",
          "name": "stdout",
          "text": [
            "Average training loss on epoch #58: 0.22204597294330597\n",
            "Training accuracy on epoch #58: 0.8943223357200623\n",
            "Average validation loss on epoch #58: 0.2542274296283722\n",
            "Validation accuracy on epoch #58: 0.9071186184883118\n",
            "------------------------------\n",
            "epoch 59:\n"
          ]
        },
        {
          "output_type": "stream",
          "name": "stderr",
          "text": [
            "100%|██████████| 2450/2450 [00:12<00:00, 204.08it/s]\n"
          ]
        },
        {
          "output_type": "stream",
          "name": "stdout",
          "text": [
            "Average training loss on epoch #59: 0.22043487429618835\n",
            "Training accuracy on epoch #59: 0.8947117328643799\n",
            "Average validation loss on epoch #59: 0.26136425137519836\n",
            "Validation accuracy on epoch #59: 0.9071527719497681\n",
            "------------------------------\n",
            "epoch 60:\n"
          ]
        },
        {
          "output_type": "stream",
          "name": "stderr",
          "text": [
            "100%|██████████| 2450/2450 [00:12<00:00, 204.06it/s]\n"
          ]
        },
        {
          "output_type": "stream",
          "name": "stdout",
          "text": [
            "Average training loss on epoch #60: 0.2210111916065216\n",
            "Training accuracy on epoch #60: 0.895063579082489\n",
            "Average validation loss on epoch #60: 0.2498493194580078\n",
            "Validation accuracy on epoch #60: 0.9073360562324524\n",
            "------------------------------\n",
            "epoch 61:\n"
          ]
        },
        {
          "output_type": "stream",
          "name": "stderr",
          "text": [
            "100%|██████████| 2450/2450 [00:12<00:00, 203.57it/s]\n"
          ]
        },
        {
          "output_type": "stream",
          "name": "stdout",
          "text": [
            "Average training loss on epoch #61: 0.21785280108451843\n",
            "Training accuracy on epoch #61: 0.8954290151596069\n",
            "Average validation loss on epoch #61: 0.24903219938278198\n",
            "Validation accuracy on epoch #61: 0.9074059128761292\n",
            "------------------------------\n",
            "epoch 62:\n"
          ]
        },
        {
          "output_type": "stream",
          "name": "stderr",
          "text": [
            "100%|██████████| 2450/2450 [00:12<00:00, 204.09it/s]\n"
          ]
        },
        {
          "output_type": "stream",
          "name": "stdout",
          "text": [
            "Average training loss on epoch #62: 0.21809497475624084\n",
            "Training accuracy on epoch #62: 0.8957658410072327\n",
            "Average validation loss on epoch #62: 0.2566312551498413\n",
            "Validation accuracy on epoch #62: 0.9074603319168091\n",
            "------------------------------\n",
            "epoch 63:\n"
          ]
        },
        {
          "output_type": "stream",
          "name": "stderr",
          "text": [
            "100%|██████████| 2450/2450 [00:12<00:00, 189.14it/s]\n"
          ]
        },
        {
          "output_type": "stream",
          "name": "stdout",
          "text": [
            "Average training loss on epoch #63: 0.21787744760513306\n",
            "Training accuracy on epoch #63: 0.8961200714111328\n",
            "Average validation loss on epoch #63: 0.2492493838071823\n",
            "Validation accuracy on epoch #63: 0.9074869751930237\n",
            "------------------------------\n",
            "epoch 64:\n"
          ]
        },
        {
          "output_type": "stream",
          "name": "stderr",
          "text": [
            "100%|██████████| 2450/2450 [00:11<00:00, 205.31it/s]\n"
          ]
        },
        {
          "output_type": "stream",
          "name": "stdout",
          "text": [
            "Average training loss on epoch #64: 0.21517881751060486\n",
            "Training accuracy on epoch #64: 0.8964704275131226\n",
            "Average validation loss on epoch #64: 0.2496562898159027\n",
            "Validation accuracy on epoch #64: 0.907564103603363\n",
            "------------------------------\n",
            "epoch 65:\n"
          ]
        },
        {
          "output_type": "stream",
          "name": "stderr",
          "text": [
            "100%|██████████| 2450/2450 [00:12<00:00, 203.53it/s]\n"
          ]
        },
        {
          "output_type": "stream",
          "name": "stdout",
          "text": [
            "Average training loss on epoch #65: 0.21332509815692902\n",
            "Training accuracy on epoch #65: 0.8968251347541809\n",
            "Average validation loss on epoch #65: 0.2408881038427353\n",
            "Validation accuracy on epoch #65: 0.9076515436172485\n",
            "------------------------------\n",
            "epoch 66:\n"
          ]
        },
        {
          "output_type": "stream",
          "name": "stderr",
          "text": [
            "100%|██████████| 2450/2450 [00:12<00:00, 203.74it/s]\n"
          ]
        },
        {
          "output_type": "stream",
          "name": "stdout",
          "text": [
            "Average training loss on epoch #66: 0.21154211461544037\n",
            "Training accuracy on epoch #66: 0.8971839547157288\n",
            "Average validation loss on epoch #66: 0.25323647260665894\n",
            "Validation accuracy on epoch #66: 0.9077114462852478\n",
            "------------------------------\n",
            "epoch 67:\n"
          ]
        },
        {
          "output_type": "stream",
          "name": "stderr",
          "text": [
            "100%|██████████| 2450/2450 [00:11<00:00, 204.29it/s]\n"
          ]
        },
        {
          "output_type": "stream",
          "name": "stdout",
          "text": [
            "Average training loss on epoch #67: 0.21147531270980835\n",
            "Training accuracy on epoch #67: 0.8975175023078918\n",
            "Average validation loss on epoch #67: 0.2516605257987976\n",
            "Validation accuracy on epoch #67: 0.9077941179275513\n",
            "------------------------------\n",
            "epoch 68:\n"
          ]
        },
        {
          "output_type": "stream",
          "name": "stderr",
          "text": [
            "100%|██████████| 2450/2450 [00:12<00:00, 202.04it/s]\n"
          ]
        },
        {
          "output_type": "stream",
          "name": "stdout",
          "text": [
            "Average training loss on epoch #68: 0.20970794558525085\n",
            "Training accuracy on epoch #68: 0.8978455662727356\n",
            "Average validation loss on epoch #68: 0.24981200695037842\n",
            "Validation accuracy on epoch #68: 0.9079468846321106\n",
            "------------------------------\n",
            "epoch 69:\n"
          ]
        },
        {
          "output_type": "stream",
          "name": "stderr",
          "text": [
            "100%|██████████| 2450/2450 [00:12<00:00, 199.36it/s]\n"
          ]
        },
        {
          "output_type": "stream",
          "name": "stdout",
          "text": [
            "Average training loss on epoch #69: 0.20850354433059692\n",
            "Training accuracy on epoch #69: 0.898176372051239\n",
            "Average validation loss on epoch #69: 0.2435353845357895\n",
            "Validation accuracy on epoch #69: 0.908130943775177\n",
            "------------------------------\n",
            "epoch 70:\n"
          ]
        },
        {
          "output_type": "stream",
          "name": "stderr",
          "text": [
            "100%|██████████| 2450/2450 [00:20<00:00, 119.63it/s]\n"
          ]
        },
        {
          "output_type": "stream",
          "name": "stdout",
          "text": [
            "Average training loss on epoch #70: 0.20759545266628265\n",
            "Training accuracy on epoch #70: 0.8985161185264587\n",
            "Average validation loss on epoch #70: 0.245300754904747\n",
            "Validation accuracy on epoch #70: 0.9082159399986267\n",
            "------------------------------\n",
            "epoch 71:\n"
          ]
        },
        {
          "output_type": "stream",
          "name": "stderr",
          "text": [
            "100%|██████████| 2450/2450 [00:12<00:00, 200.62it/s]\n"
          ]
        },
        {
          "output_type": "stream",
          "name": "stdout",
          "text": [
            "Average training loss on epoch #71: 0.20770137012004852\n",
            "Training accuracy on epoch #71: 0.8988383412361145\n",
            "Average validation loss on epoch #71: 0.26091423630714417\n",
            "Validation accuracy on epoch #71: 0.9081481695175171\n",
            "------------------------------\n",
            "epoch 72:\n"
          ]
        },
        {
          "output_type": "stream",
          "name": "stderr",
          "text": [
            "100%|██████████| 2450/2450 [00:12<00:00, 203.54it/s]\n"
          ]
        },
        {
          "output_type": "stream",
          "name": "stdout",
          "text": [
            "Average training loss on epoch #72: 0.20558002591133118\n",
            "Training accuracy on epoch #72: 0.8991552591323853\n",
            "Average validation loss on epoch #72: 0.24604257941246033\n",
            "Validation accuracy on epoch #72: 0.9082648158073425\n",
            "------------------------------\n",
            "epoch 73:\n"
          ]
        },
        {
          "output_type": "stream",
          "name": "stderr",
          "text": [
            "100%|██████████| 2450/2450 [00:12<00:00, 201.84it/s]\n"
          ]
        },
        {
          "output_type": "stream",
          "name": "stdout",
          "text": [
            "Average training loss on epoch #73: 0.20564673840999603\n",
            "Training accuracy on epoch #73: 0.8994660973548889\n",
            "Average validation loss on epoch #73: 0.24792663753032684\n",
            "Validation accuracy on epoch #73: 0.9083108305931091\n",
            "------------------------------\n",
            "epoch 74:\n"
          ]
        },
        {
          "output_type": "stream",
          "name": "stderr",
          "text": [
            "100%|██████████| 2450/2450 [00:12<00:00, 203.12it/s]\n"
          ]
        },
        {
          "output_type": "stream",
          "name": "stdout",
          "text": [
            "Average training loss on epoch #74: 0.2074686884880066\n",
            "Training accuracy on epoch #74: 0.8997682332992554\n",
            "Average validation loss on epoch #74: 0.25229960680007935\n",
            "Validation accuracy on epoch #74: 0.9083666801452637\n",
            "------------------------------\n",
            "epoch 75:\n"
          ]
        },
        {
          "output_type": "stream",
          "name": "stderr",
          "text": [
            "100%|██████████| 2450/2450 [00:12<00:00, 203.58it/s]\n"
          ]
        },
        {
          "output_type": "stream",
          "name": "stdout",
          "text": [
            "Average training loss on epoch #75: 0.20504629611968994\n",
            "Training accuracy on epoch #75: 0.9000666737556458\n",
            "Average validation loss on epoch #75: 0.25345221161842346\n",
            "Validation accuracy on epoch #75: 0.9083552360534668\n",
            "------------------------------\n",
            "epoch 76:\n"
          ]
        },
        {
          "output_type": "stream",
          "name": "stderr",
          "text": [
            "100%|██████████| 2450/2450 [00:12<00:00, 200.45it/s]\n"
          ]
        },
        {
          "output_type": "stream",
          "name": "stdout",
          "text": [
            "Average training loss on epoch #76: 0.20351314544677734\n",
            "Training accuracy on epoch #76: 0.9003560543060303\n",
            "Average validation loss on epoch #76: 0.25311896204948425\n",
            "Validation accuracy on epoch #76: 0.9084199070930481\n",
            "------------------------------\n",
            "epoch 77:\n"
          ]
        },
        {
          "output_type": "stream",
          "name": "stderr",
          "text": [
            "100%|██████████| 2450/2450 [00:13<00:00, 187.80it/s]\n"
          ]
        },
        {
          "output_type": "stream",
          "name": "stdout",
          "text": [
            "Average training loss on epoch #77: 0.20376668870449066\n",
            "Training accuracy on epoch #77: 0.9006538987159729\n",
            "Average validation loss on epoch #77: 0.24886055290699005\n",
            "Validation accuracy on epoch #77: 0.9084615111351013\n",
            "------------------------------\n",
            "epoch 78:\n"
          ]
        },
        {
          "output_type": "stream",
          "name": "stderr",
          "text": [
            "100%|██████████| 2450/2450 [00:12<00:00, 204.07it/s]\n"
          ]
        },
        {
          "output_type": "stream",
          "name": "stdout",
          "text": [
            "Average training loss on epoch #78: 0.20253579318523407\n",
            "Training accuracy on epoch #78: 0.9009489417076111\n",
            "Average validation loss on epoch #78: 0.249110147356987\n",
            "Validation accuracy on epoch #78: 0.9085548520088196\n",
            "------------------------------\n",
            "epoch 79:\n"
          ]
        },
        {
          "output_type": "stream",
          "name": "stderr",
          "text": [
            "100%|██████████| 2450/2450 [00:12<00:00, 197.71it/s]\n"
          ]
        },
        {
          "output_type": "stream",
          "name": "stdout",
          "text": [
            "Average training loss on epoch #79: 0.20149467885494232\n",
            "Training accuracy on epoch #79: 0.9012436270713806\n",
            "Average validation loss on epoch #79: 0.2470652014017105\n",
            "Validation accuracy on epoch #79: 0.9086562395095825\n",
            "------------------------------\n",
            "epoch 80:\n"
          ]
        },
        {
          "output_type": "stream",
          "name": "stderr",
          "text": [
            "100%|██████████| 2450/2450 [00:12<00:00, 199.84it/s]\n"
          ]
        },
        {
          "output_type": "stream",
          "name": "stdout",
          "text": [
            "Average training loss on epoch #80: 0.20090293884277344\n",
            "Training accuracy on epoch #80: 0.9015266299247742\n",
            "Average validation loss on epoch #80: 0.2468235045671463\n",
            "Validation accuracy on epoch #80: 0.9087139964103699\n",
            "------------------------------\n",
            "epoch 81:\n"
          ]
        },
        {
          "output_type": "stream",
          "name": "stderr",
          "text": [
            "100%|██████████| 2450/2450 [00:12<00:00, 200.56it/s]\n"
          ]
        },
        {
          "output_type": "stream",
          "name": "stdout",
          "text": [
            "Average training loss on epoch #81: 0.19982698559761047\n",
            "Training accuracy on epoch #81: 0.9018045663833618\n",
            "Average validation loss on epoch #81: 0.2543714642524719\n",
            "Validation accuracy on epoch #81: 0.9087296724319458\n",
            "------------------------------\n",
            "epoch 82:\n"
          ]
        },
        {
          "output_type": "stream",
          "name": "stderr",
          "text": [
            "100%|██████████| 2450/2450 [00:12<00:00, 194.07it/s]\n"
          ]
        },
        {
          "output_type": "stream",
          "name": "stdout",
          "text": [
            "Average training loss on epoch #82: 0.1996885985136032\n",
            "Training accuracy on epoch #82: 0.9020895957946777\n",
            "Average validation loss on epoch #82: 0.24145863950252533\n",
            "Validation accuracy on epoch #82: 0.9088051915168762\n",
            "------------------------------\n",
            "epoch 83:\n"
          ]
        },
        {
          "output_type": "stream",
          "name": "stderr",
          "text": [
            "100%|██████████| 2450/2450 [00:12<00:00, 203.22it/s]\n"
          ]
        },
        {
          "output_type": "stream",
          "name": "stdout",
          "text": [
            "Average training loss on epoch #83: 0.19580627977848053\n",
            "Training accuracy on epoch #83: 0.902368426322937\n",
            "Average validation loss on epoch #83: 0.24022215604782104\n",
            "Validation accuracy on epoch #83: 0.9089186787605286\n",
            "------------------------------\n",
            "epoch 84:\n"
          ]
        },
        {
          "output_type": "stream",
          "name": "stderr",
          "text": [
            "100%|██████████| 2450/2450 [00:12<00:00, 190.47it/s]\n"
          ]
        },
        {
          "output_type": "stream",
          "name": "stdout",
          "text": [
            "Average training loss on epoch #84: 0.19673986732959747\n",
            "Training accuracy on epoch #84: 0.9026460647583008\n",
            "Average validation loss on epoch #84: 0.2470911145210266\n",
            "Validation accuracy on epoch #84: 0.9090098142623901\n",
            "------------------------------\n",
            "epoch 85:\n"
          ]
        },
        {
          "output_type": "stream",
          "name": "stderr",
          "text": [
            "100%|██████████| 2450/2450 [00:12<00:00, 202.83it/s]\n"
          ]
        },
        {
          "output_type": "stream",
          "name": "stdout",
          "text": [
            "Average training loss on epoch #85: 0.19431903958320618\n",
            "Training accuracy on epoch #85: 0.9029310941696167\n",
            "Average validation loss on epoch #85: 0.24816648662090302\n",
            "Validation accuracy on epoch #85: 0.9090794324874878\n",
            "------------------------------\n",
            "epoch 86:\n"
          ]
        },
        {
          "output_type": "stream",
          "name": "stderr",
          "text": [
            "100%|██████████| 2450/2450 [00:12<00:00, 202.42it/s]\n"
          ]
        },
        {
          "output_type": "stream",
          "name": "stdout",
          "text": [
            "Average training loss on epoch #86: 0.19727785885334015\n",
            "Training accuracy on epoch #86: 0.9031913876533508\n",
            "Average validation loss on epoch #86: 0.2442559003829956\n",
            "Validation accuracy on epoch #86: 0.9091858267784119\n",
            "------------------------------\n",
            "epoch 87:\n"
          ]
        },
        {
          "output_type": "stream",
          "name": "stderr",
          "text": [
            "100%|██████████| 2450/2450 [00:12<00:00, 203.55it/s]\n"
          ]
        },
        {
          "output_type": "stream",
          "name": "stdout",
          "text": [
            "Average training loss on epoch #87: 0.19304487109184265\n",
            "Training accuracy on epoch #87: 0.9034767150878906\n",
            "Average validation loss on epoch #87: 0.24260593950748444\n",
            "Validation accuracy on epoch #87: 0.9092992544174194\n",
            "------------------------------\n",
            "epoch 88:\n"
          ]
        },
        {
          "output_type": "stream",
          "name": "stderr",
          "text": [
            "100%|██████████| 2450/2450 [00:12<00:00, 202.91it/s]\n"
          ]
        },
        {
          "output_type": "stream",
          "name": "stdout",
          "text": [
            "Average training loss on epoch #88: 0.19484500586986542\n",
            "Training accuracy on epoch #88: 0.903742253780365\n",
            "Average validation loss on epoch #88: 0.24682998657226562\n",
            "Validation accuracy on epoch #88: 0.9094007611274719\n",
            "------------------------------\n",
            "epoch 89:\n"
          ]
        },
        {
          "output_type": "stream",
          "name": "stderr",
          "text": [
            "100%|██████████| 2450/2450 [00:12<00:00, 203.44it/s]\n"
          ]
        },
        {
          "output_type": "stream",
          "name": "stdout",
          "text": [
            "Average training loss on epoch #89: 0.19329820573329926\n",
            "Training accuracy on epoch #89: 0.9040032029151917\n",
            "Average validation loss on epoch #89: 0.24867120385169983\n",
            "Validation accuracy on epoch #89: 0.9095092415809631\n",
            "------------------------------\n",
            "epoch 90:\n"
          ]
        },
        {
          "output_type": "stream",
          "name": "stderr",
          "text": [
            "100%|██████████| 2450/2450 [00:12<00:00, 203.67it/s]\n"
          ]
        },
        {
          "output_type": "stream",
          "name": "stdout",
          "text": [
            "Average training loss on epoch #90: 0.19515712559223175\n",
            "Training accuracy on epoch #90: 0.9042460918426514\n",
            "Average validation loss on epoch #90: 0.24567924439907074\n",
            "Validation accuracy on epoch #90: 0.9096153974533081\n",
            "------------------------------\n",
            "epoch 91:\n"
          ]
        },
        {
          "output_type": "stream",
          "name": "stderr",
          "text": [
            "100%|██████████| 2450/2450 [00:12<00:00, 189.76it/s]\n"
          ]
        },
        {
          "output_type": "stream",
          "name": "stdout",
          "text": [
            "Average training loss on epoch #91: 0.1910487711429596\n",
            "Training accuracy on epoch #91: 0.9045101404190063\n",
            "Average validation loss on epoch #91: 0.24807411432266235\n",
            "Validation accuracy on epoch #91: 0.909710168838501\n",
            "------------------------------\n",
            "epoch 92:\n"
          ]
        },
        {
          "output_type": "stream",
          "name": "stderr",
          "text": [
            "100%|██████████| 2450/2450 [00:12<00:00, 202.61it/s]\n"
          ]
        },
        {
          "output_type": "stream",
          "name": "stdout",
          "text": [
            "Average training loss on epoch #92: 0.19146990776062012\n",
            "Training accuracy on epoch #92: 0.9047574996948242\n",
            "Average validation loss on epoch #92: 0.24666191637516022\n",
            "Validation accuracy on epoch #92: 0.909775972366333\n",
            "------------------------------\n",
            "epoch 93:\n"
          ]
        },
        {
          "output_type": "stream",
          "name": "stderr",
          "text": [
            "100%|██████████| 2450/2450 [00:12<00:00, 201.90it/s]\n"
          ]
        },
        {
          "output_type": "stream",
          "name": "stdout",
          "text": [
            "Average training loss on epoch #93: 0.1929900348186493\n",
            "Training accuracy on epoch #93: 0.9049947261810303\n",
            "Average validation loss on epoch #93: 0.24499374628067017\n",
            "Validation accuracy on epoch #93: 0.9098492860794067\n",
            "------------------------------\n",
            "epoch 94:\n"
          ]
        },
        {
          "output_type": "stream",
          "name": "stderr",
          "text": [
            "100%|██████████| 2450/2450 [00:12<00:00, 203.35it/s]\n"
          ]
        },
        {
          "output_type": "stream",
          "name": "stdout",
          "text": [
            "Average training loss on epoch #94: 0.19089959561824799\n",
            "Training accuracy on epoch #94: 0.9052334427833557\n",
            "Average validation loss on epoch #94: 0.24543815851211548\n",
            "Validation accuracy on epoch #94: 0.9099122881889343\n",
            "------------------------------\n",
            "epoch 95:\n"
          ]
        },
        {
          "output_type": "stream",
          "name": "stderr",
          "text": [
            "100%|██████████| 2450/2450 [00:12<00:00, 203.77it/s]\n"
          ]
        },
        {
          "output_type": "stream",
          "name": "stdout",
          "text": [
            "Average training loss on epoch #95: 0.1902761608362198\n",
            "Training accuracy on epoch #95: 0.905483603477478\n",
            "Average validation loss on epoch #95: 0.24536700546741486\n",
            "Validation accuracy on epoch #95: 0.9099913239479065\n",
            "------------------------------\n",
            "epoch 96:\n"
          ]
        },
        {
          "output_type": "stream",
          "name": "stderr",
          "text": [
            "100%|██████████| 2450/2450 [00:12<00:00, 202.82it/s]\n"
          ]
        },
        {
          "output_type": "stream",
          "name": "stdout",
          "text": [
            "Average training loss on epoch #96: 0.18915961682796478\n",
            "Training accuracy on epoch #96: 0.9057167172431946\n",
            "Average validation loss on epoch #96: 0.24748793244361877\n",
            "Validation accuracy on epoch #96: 0.9100601077079773\n",
            "------------------------------\n",
            "epoch 97:\n"
          ]
        },
        {
          "output_type": "stream",
          "name": "stderr",
          "text": [
            "100%|██████████| 2450/2450 [00:12<00:00, 202.84it/s]\n"
          ]
        },
        {
          "output_type": "stream",
          "name": "stdout",
          "text": [
            "Average training loss on epoch #97: 0.1901986449956894\n",
            "Training accuracy on epoch #97: 0.9059464931488037\n",
            "Average validation loss on epoch #97: 0.2435835599899292\n",
            "Validation accuracy on epoch #97: 0.9101360440254211\n",
            "------------------------------\n",
            "epoch 98:\n"
          ]
        },
        {
          "output_type": "stream",
          "name": "stderr",
          "text": [
            "100%|██████████| 2450/2450 [00:12<00:00, 189.04it/s]\n"
          ]
        },
        {
          "output_type": "stream",
          "name": "stdout",
          "text": [
            "Average training loss on epoch #98: 0.1878861039876938\n",
            "Training accuracy on epoch #98: 0.9061777591705322\n",
            "Average validation loss on epoch #98: 0.24635960161685944\n",
            "Validation accuracy on epoch #98: 0.9102104306221008\n",
            "------------------------------\n",
            "epoch 99:\n"
          ]
        },
        {
          "output_type": "stream",
          "name": "stderr",
          "text": [
            "100%|██████████| 2450/2450 [00:20<00:00, 119.65it/s]\n"
          ]
        },
        {
          "output_type": "stream",
          "name": "stdout",
          "text": [
            "Average training loss on epoch #99: 0.18893496692180634\n",
            "Training accuracy on epoch #99: 0.9064003229141235\n",
            "Average validation loss on epoch #99: 0.24430091679096222\n",
            "Validation accuracy on epoch #99: 0.9103083610534668\n",
            "------------------------------\n",
            "epoch 100:\n"
          ]
        },
        {
          "output_type": "stream",
          "name": "stderr",
          "text": [
            "100%|██████████| 2450/2450 [00:12<00:00, 200.51it/s]\n"
          ]
        },
        {
          "output_type": "stream",
          "name": "stdout",
          "text": [
            "Average training loss on epoch #100: 0.18813584744930267\n",
            "Training accuracy on epoch #100: 0.9066243767738342\n",
            "Average validation loss on epoch #100: 0.2467426061630249\n",
            "Validation accuracy on epoch #100: 0.9104207754135132\n",
            "------------------------------\n",
            "epoch 101:\n"
          ]
        },
        {
          "output_type": "stream",
          "name": "stderr",
          "text": [
            "100%|██████████| 2450/2450 [00:12<00:00, 202.24it/s]\n"
          ]
        },
        {
          "output_type": "stream",
          "name": "stdout",
          "text": [
            "Average training loss on epoch #101: 0.18860812485218048\n",
            "Training accuracy on epoch #101: 0.9068372249603271\n",
            "Average validation loss on epoch #101: 0.2461315095424652\n",
            "Validation accuracy on epoch #101: 0.910506546497345\n",
            "------------------------------\n",
            "epoch 102:\n"
          ]
        },
        {
          "output_type": "stream",
          "name": "stderr",
          "text": [
            "100%|██████████| 2450/2450 [00:12<00:00, 203.88it/s]\n"
          ]
        },
        {
          "output_type": "stream",
          "name": "stdout",
          "text": [
            "Average training loss on epoch #102: 0.18871945142745972\n",
            "Training accuracy on epoch #102: 0.9070565104484558\n",
            "Average validation loss on epoch #102: 0.2474428117275238\n",
            "Validation accuracy on epoch #102: 0.9105663299560547\n",
            "------------------------------\n",
            "epoch 103:\n"
          ]
        },
        {
          "output_type": "stream",
          "name": "stderr",
          "text": [
            "100%|██████████| 2450/2450 [00:20<00:00, 119.66it/s]\n"
          ]
        },
        {
          "output_type": "stream",
          "name": "stdout",
          "text": [
            "Average training loss on epoch #103: 0.18935741484165192\n",
            "Training accuracy on epoch #103: 0.9072599411010742\n",
            "Average validation loss on epoch #103: 0.2444402277469635\n",
            "Validation accuracy on epoch #103: 0.9106490612030029\n",
            "------------------------------\n",
            "epoch 104:\n"
          ]
        },
        {
          "output_type": "stream",
          "name": "stderr",
          "text": [
            "100%|██████████| 2450/2450 [00:12<00:00, 188.88it/s]\n"
          ]
        },
        {
          "output_type": "stream",
          "name": "stdout",
          "text": [
            "Average training loss on epoch #104: 0.18634499609470367\n",
            "Training accuracy on epoch #104: 0.9074804186820984\n",
            "Average validation loss on epoch #104: 0.24543923139572144\n",
            "Validation accuracy on epoch #104: 0.9107381105422974\n",
            "------------------------------\n",
            "epoch 105:\n"
          ]
        },
        {
          "output_type": "stream",
          "name": "stderr",
          "text": [
            "100%|██████████| 2450/2450 [00:12<00:00, 202.65it/s]\n"
          ]
        },
        {
          "output_type": "stream",
          "name": "stdout",
          "text": [
            "Average training loss on epoch #105: 0.19046778976917267\n",
            "Training accuracy on epoch #105: 0.9076771140098572\n",
            "Average validation loss on epoch #105: 0.24289429187774658\n",
            "Validation accuracy on epoch #105: 0.910801887512207\n",
            "------------------------------\n",
            "epoch 106:\n"
          ]
        },
        {
          "output_type": "stream",
          "name": "stderr",
          "text": [
            "100%|██████████| 2450/2450 [00:12<00:00, 203.56it/s]\n"
          ]
        },
        {
          "output_type": "stream",
          "name": "stdout",
          "text": [
            "Average training loss on epoch #106: 0.18742243945598602\n",
            "Training accuracy on epoch #106: 0.9078755974769592\n",
            "Average validation loss on epoch #106: 0.24425950646400452\n",
            "Validation accuracy on epoch #106: 0.9108722805976868\n",
            "------------------------------\n",
            "epoch 107:\n"
          ]
        },
        {
          "output_type": "stream",
          "name": "stderr",
          "text": [
            "100%|██████████| 2450/2450 [00:12<00:00, 203.04it/s]\n"
          ]
        },
        {
          "output_type": "stream",
          "name": "stdout",
          "text": [
            "Average training loss on epoch #107: 0.18684551119804382\n",
            "Training accuracy on epoch #107: 0.9080685973167419\n",
            "Average validation loss on epoch #107: 0.2444000244140625\n",
            "Validation accuracy on epoch #107: 0.9109567999839783\n",
            "------------------------------\n",
            "epoch 108:\n"
          ]
        },
        {
          "output_type": "stream",
          "name": "stderr",
          "text": [
            "100%|██████████| 2450/2450 [00:12<00:00, 202.56it/s]\n"
          ]
        },
        {
          "output_type": "stream",
          "name": "stdout",
          "text": [
            "Average training loss on epoch #108: 0.18820296227931976\n",
            "Training accuracy on epoch #108: 0.9082629680633545\n",
            "Average validation loss on epoch #108: 0.24496418237686157\n",
            "Validation accuracy on epoch #108: 0.9110320806503296\n",
            "------------------------------\n",
            "epoch 109:\n"
          ]
        },
        {
          "output_type": "stream",
          "name": "stderr",
          "text": [
            "100%|██████████| 2450/2450 [00:12<00:00, 202.29it/s]\n"
          ]
        },
        {
          "output_type": "stream",
          "name": "stdout",
          "text": [
            "Average training loss on epoch #109: 0.18745729327201843\n",
            "Training accuracy on epoch #109: 0.9084625840187073\n",
            "Average validation loss on epoch #109: 0.2433587908744812\n",
            "Validation accuracy on epoch #109: 0.9111060500144958\n",
            "------------------------------\n",
            "epoch 110:\n"
          ]
        },
        {
          "output_type": "stream",
          "name": "stderr",
          "text": [
            "100%|██████████| 2450/2450 [00:12<00:00, 199.97it/s]\n"
          ]
        },
        {
          "output_type": "stream",
          "name": "stdout",
          "text": [
            "Average training loss on epoch #110: 0.18579715490341187\n",
            "Training accuracy on epoch #110: 0.9086602926254272\n",
            "Average validation loss on epoch #110: 0.24400806427001953\n",
            "Validation accuracy on epoch #110: 0.911178708076477\n",
            "------------------------------\n",
            "epoch 111:\n"
          ]
        },
        {
          "output_type": "stream",
          "name": "stderr",
          "text": [
            "100%|██████████| 2450/2450 [00:13<00:00, 187.08it/s]\n"
          ]
        },
        {
          "output_type": "stream",
          "name": "stdout",
          "text": [
            "Average training loss on epoch #111: 0.18705224990844727\n",
            "Training accuracy on epoch #111: 0.9088538885116577\n",
            "Average validation loss on epoch #111: 0.24368342757225037\n",
            "Validation accuracy on epoch #111: 0.9112574458122253\n",
            "------------------------------\n",
            "epoch 112:\n"
          ]
        },
        {
          "output_type": "stream",
          "name": "stderr",
          "text": [
            "100%|██████████| 2450/2450 [00:12<00:00, 200.07it/s]\n"
          ]
        },
        {
          "output_type": "stream",
          "name": "stdout",
          "text": [
            "Average training loss on epoch #112: 0.18615849316120148\n",
            "Training accuracy on epoch #112: 0.9090335965156555\n",
            "Average validation loss on epoch #112: 0.24251186847686768\n",
            "Validation accuracy on epoch #112: 0.9113200306892395\n",
            "------------------------------\n",
            "epoch 113:\n"
          ]
        },
        {
          "output_type": "stream",
          "name": "stderr",
          "text": [
            "100%|██████████| 2450/2450 [00:12<00:00, 201.94it/s]\n"
          ]
        },
        {
          "output_type": "stream",
          "name": "stdout",
          "text": [
            "Average training loss on epoch #113: 0.185622438788414\n",
            "Training accuracy on epoch #113: 0.9092214107513428\n",
            "Average validation loss on epoch #113: 0.2425428032875061\n",
            "Validation accuracy on epoch #113: 0.9113888740539551\n",
            "------------------------------\n",
            "epoch 114:\n"
          ]
        },
        {
          "output_type": "stream",
          "name": "stderr",
          "text": [
            "100%|██████████| 2450/2450 [00:12<00:00, 203.18it/s]\n"
          ]
        },
        {
          "output_type": "stream",
          "name": "stdout",
          "text": [
            "Average training loss on epoch #114: 0.18661172688007355\n",
            "Training accuracy on epoch #114: 0.9094029664993286\n",
            "Average validation loss on epoch #114: 0.24323467910289764\n",
            "Validation accuracy on epoch #114: 0.9114637970924377\n",
            "------------------------------\n",
            "epoch 115:\n"
          ]
        },
        {
          "output_type": "stream",
          "name": "stderr",
          "text": [
            "100%|██████████| 2450/2450 [00:12<00:00, 201.54it/s]\n"
          ]
        },
        {
          "output_type": "stream",
          "name": "stdout",
          "text": [
            "Average training loss on epoch #115: 0.18550416827201843\n",
            "Training accuracy on epoch #115: 0.9095757007598877\n",
            "Average validation loss on epoch #115: 0.2439240664243698\n",
            "Validation accuracy on epoch #115: 0.9115301966667175\n",
            "------------------------------\n",
            "epoch 116:\n"
          ]
        },
        {
          "output_type": "stream",
          "name": "stderr",
          "text": [
            "100%|██████████| 2450/2450 [00:12<00:00, 200.83it/s]\n"
          ]
        },
        {
          "output_type": "stream",
          "name": "stdout",
          "text": [
            "Average training loss on epoch #116: 0.1854984611272812\n",
            "Training accuracy on epoch #116: 0.9097457528114319\n",
            "Average validation loss on epoch #116: 0.24209526181221008\n",
            "Validation accuracy on epoch #116: 0.9116097092628479\n",
            "------------------------------\n",
            "epoch 117:\n"
          ]
        },
        {
          "output_type": "stream",
          "name": "stderr",
          "text": [
            "100%|██████████| 2450/2450 [00:12<00:00, 201.44it/s]\n"
          ]
        },
        {
          "output_type": "stream",
          "name": "stdout",
          "text": [
            "Average training loss on epoch #117: 0.18400432169437408\n",
            "Training accuracy on epoch #117: 0.9099230170249939\n",
            "Average validation loss on epoch #117: 0.24270595610141754\n",
            "Validation accuracy on epoch #117: 0.9116878509521484\n",
            "------------------------------\n",
            "epoch 118:\n"
          ]
        },
        {
          "output_type": "stream",
          "name": "stderr",
          "text": [
            "100%|██████████| 2450/2450 [00:13<00:00, 188.15it/s]\n"
          ]
        },
        {
          "output_type": "stream",
          "name": "stdout",
          "text": [
            "Average training loss on epoch #118: 0.18610353767871857\n",
            "Training accuracy on epoch #118: 0.9100841879844666\n",
            "Average validation loss on epoch #118: 0.24312441051006317\n",
            "Validation accuracy on epoch #118: 0.9117577075958252\n",
            "------------------------------\n",
            "epoch 119:\n"
          ]
        },
        {
          "output_type": "stream",
          "name": "stderr",
          "text": [
            "100%|██████████| 2450/2450 [00:12<00:00, 202.17it/s]\n"
          ]
        },
        {
          "output_type": "stream",
          "name": "stdout",
          "text": [
            "Average training loss on epoch #119: 0.187323197722435\n",
            "Training accuracy on epoch #119: 0.9102441668510437\n",
            "Average validation loss on epoch #119: 0.24311567842960358\n",
            "Validation accuracy on epoch #119: 0.9118333458900452\n"
          ]
        }
      ]
    },
    {
      "cell_type": "code",
      "source": [
        "plot_training_history(EPOCHS_NUM, training_loss_history, validation_loss_history, training_accuracy_history, validation_accuracy_history)"
      ],
      "metadata": {
        "colab": {
          "base_uri": "https://localhost:8080/",
          "height": 567
        },
        "id": "lgEiuPxKBHyv",
        "outputId": "bdeeda63-6b0f-4eee-9235-5754e8042b2d"
      },
      "execution_count": null,
      "outputs": [
        {
          "output_type": "display_data",
          "data": {
            "text/plain": [
              "<Figure size 864x648 with 2 Axes>"
            ],
            "image/png": "[encoded data removed]"
          },
          "metadata": {
            "needs_background": "light"
          }
        }
      ]
    },
    {
      "cell_type": "markdown",
      "source": [
        "# **Evaluation**"
      ],
      "metadata": {
        "id": "cUTuRHRwBPoz"
      }
    },
    {
      "cell_type": "code",
      "source": [
        "test_acc_metric = tf.keras.metrics.CategoricalAccuracy()\n",
        "print(\"Test accuracy of the base model: {}\".format(evaluation_loop(improved_model, test_data_pre, test_acc_metric)))"
      ],
      "metadata": {
        "colab": {
          "base_uri": "https://localhost:8080/"
        },
        "id": "3t8brfMcBQ8K",
        "outputId": "46ba8a47-a2b1-47d8-e34a-b30747015694"
      },
      "execution_count": null,
      "outputs": [
        {
          "output_type": "stream",
          "name": "stdout",
          "text": [
            "Test accuracy of the base model: 0.9009000062942505\n"
          ]
        }
      ]
    }
  ]
}